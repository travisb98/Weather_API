{
 "cells": [
  {
   "cell_type": "markdown",
   "metadata": {},
   "source": [
    "# WeatherPy\n",
    "----\n",
    "\n",
    "#### Note\n",
    "* Instructions have been included for each segment. You do not have to follow them exactly, but they are included to help you think through the steps."
   ]
  },
  {
   "cell_type": "code",
   "execution_count": 23,
   "metadata": {
    "scrolled": true
   },
   "outputs": [],
   "source": [
    "\n",
    "## make sure the following dependencies are installed, specifically geopy\n",
    "import pandas as pd \n",
    "import numpy as np \n",
    "import matplotlib.pyplot as plt\n",
    "import requests\n",
    "import scipy.stats\n",
    "import random as rd\n",
    "from citipy import citipy\n",
    "import csv\n",
    "import os\n",
    "\n",
    "#to import keys without having them in my repo\n",
    "import sys\n",
    "sys.path.insert(1,'/Users/Trav/Desktop/Coding/GitHub_Repositories/API_PACKAGE')\n",
    "import api_keys\n",
    "\n"
   ]
  },
  {
   "cell_type": "markdown",
   "metadata": {},
   "source": [
    "## Generate Cities List"
   ]
  },
  {
   "cell_type": "code",
   "execution_count": 24,
   "metadata": {
    "tags": []
   },
   "outputs": [],
   "source": [
    "\n",
    "\n",
    "# ## generates 2 lists of random floats for latitude and longitude\n",
    "# ### maybe I could generate a larger list and narrow it down by population size(whats my max, 5000????)\n",
    "# samp_size = 1200\n",
    "# lat_list = [round(rd.uniform(-90,90),2) for num in range(samp_size)]\n",
    "# lon_list = [round(rd.uniform(-180,180),2) for num in range(samp_size)]\n",
    "\n",
    "# city_name_list=[]\n",
    "# country_code_list=[]\n",
    "# ex_coor_list=[]\n",
    "\n",
    "# #turns the keys and values from the world cities dict into lists\n",
    "# new_world_keys=list(citipy.WORLD_CITIES_DICT.keys())\n",
    "# new_world_values=list(citipy.WORLD_CITIES_DICT.values())\n",
    "\n",
    "# # generating data in a for loop\n",
    "# for y in range(samp_size):\n",
    "#     #grabs the approximate latitude and longitutde\n",
    "#     ap_lat=lat_list[y]\n",
    "#     ap_lon=lon_list[y]\n",
    "#     #use citipy functions to get the city name and country code\n",
    "#     current_city=citipy.nearest_city(ap_lat,ap_lon)\n",
    "#     city_name_list.append(current_city.city_name)\n",
    "#     country_code_list.append(current_city.country_code)\n",
    "#     # uses the new world lists to get the exact coordinates for the city\n",
    "#     nwvi=new_world_values.index(current_city)\n",
    "#     ex_coor_list.append(new_world_keys[nwvi])\n",
    " \n",
    "#  # turns the lists created in the for loop into a dataframe\n",
    "# coor_df= pd.DataFrame({\n",
    "#     'Approximate Lat':lat_list,\n",
    "#     'Approximate Lon':lon_list,\n",
    "#     'City Name':city_name_list,\n",
    "#     'Country Code': country_code_list,\n",
    "#     'Exact Coordinates':ex_coor_list\n",
    "# })\n",
    "\n",
    "# #removes dupliactes based on the exact coordinates\n",
    "# coor_df=coor_df.drop_duplicates(subset=['Exact Coordinates'],keep='first')\n",
    "\n",
    "# #trims down the dataframe to 500 if there are more \n",
    "# coor_df_len = len(coor_df['Approximate Lat'])\n",
    "# if coor_df_len > 500:\n",
    "#     coor_df.drop(coor_df.tail(coor_df_len-500).index,inplace=True)\n",
    "\n",
    "# # coor_df.head()\n",
    "# print(len(coor_df[\"Approximate Lat\"]))\n"
   ]
  },
  {
   "cell_type": "markdown",
   "metadata": {},
   "source": [
    "### Perform API Calls and turn raw data into dataframe\n",
    "* Perform a weather check on each city using a series of successive API calls.\n",
    "* Include a print log of each city as it'sbeing processed (with the city number and city name).\n",
    "* Display the DataFrame"
   ]
  },
  {
   "cell_type": "code",
   "execution_count": 25,
   "metadata": {
    "scrolled": true
   },
   "outputs": [],
   "source": [
    "\n",
    "# ##sets up the query url for the lat/lon weather request #need to look into git ignore\n",
    "# base_url = \"http://api.openweathermap.org/data/2.5/weather?\"\n",
    "\n",
    "# coor_df['Temperature']=''\n",
    "# coor_df['Humidity']=''\n",
    "# coor_df['Cloudiness']=''\n",
    "# coor_df['Wind Speed']=''\n",
    "\n",
    "# for i,r in coor_df.iterrows():\n",
    "#     #gets the lat and lon from the df\n",
    "#     wea_coors = coor_df[\"Exact Coordinates\"][i]\n",
    "#     wea_lat=wea_coors[0]\n",
    "#     wea_lon=wea_coors[1]\n",
    "#     #send api to requestthe temperature, humidity, cloudiness, and wind speed \n",
    "#     query_url =f'{base_url}lat={wea_lat}&lon={wea_lon}&appid={api_keys.weather_api_key}&units=imperial'\n",
    "#     wea_json = requests.get(query_url).json()\n",
    "#     coor_df['Temperature'][i]=wea_json[\"main\"]['temp']\n",
    "#     coor_df['Humidity'][i]=wea_json['main']['humidity']\n",
    "#     coor_df['Cloudiness'][i]=wea_json['clouds']['all']\n",
    "#     coor_df['Wind Speed'][i]=wea_json['wind']['speed']\n",
    "\n",
    "# coor_df.head(20)\n",
    "\n"
   ]
  },
  {
   "cell_type": "markdown",
   "metadata": {},
   "source": [
    "### Convert Dataframe to csv\n",
    "* Export the city data into a .csv.\n"
   ]
  },
  {
   "cell_type": "code",
   "execution_count": 26,
   "metadata": {},
   "outputs": [],
   "source": [
    "# #create a new folder and exports the dataframe\n",
    "\n",
    "# def dataframe_to_csv(df):\n",
    "#     current_directory=os.getcwd()\n",
    "#     new_folder_path =os.path.join(current_directory,r'Export Folder')\n",
    "#     if not os.path.exists(new_folder_path):\n",
    "#         os.makedirs(new_folder_path)\n",
    "#     csv_export_path = os.path.join(new_folder_path,'city_data.csv')\n",
    "#     df.to_csv(csv_export_path,index=False)\n",
    "# dataframe_to_csv(coor_df)"
   ]
  },
  {
   "cell_type": "code",
   "execution_count": 27,
   "metadata": {},
   "outputs": [
    {
     "output_type": "stream",
     "name": "stdout",
     "text": [
      "c:\\Users\\Trav\\Desktop\\Coding\\GitHub_Repositories\\Weather_API\\Weather\\Export Folder\\city_data.csv\n"
     ]
    },
    {
     "output_type": "execute_result",
     "data": {
      "text/plain": [
       "   Approximate Lat  Approximate Lon   City Name Country Code  \\\n",
       "0            52.59           173.88  nikolskoye           ru   \n",
       "1            68.21            12.47     sorland           no   \n",
       "2            -5.37           162.42        auki           sb   \n",
       "3           -39.58           120.67      albany           au   \n",
       "4            57.67           -45.45  nanortalik           gl   \n",
       "\n",
       "           Exact Coordinates  Temperature  Humidity  Cloudiness  Wind Speed  \n",
       "0      (55.193889, 165.9925)        40.41        71         100       10.89  \n",
       "1          (67.666667, 12.7)        39.72        70          99       15.32  \n",
       "2        (-8.7666667, 160.7)        76.57        89         100        5.19  \n",
       "3   (-35.003101, 117.865952)        71.60        43           0       10.29  \n",
       "4  (60.1166667, -45.2166667)        30.38        93         100       12.12  "
      ],
      "text/html": "<div>\n<style scoped>\n    .dataframe tbody tr th:only-of-type {\n        vertical-align: middle;\n    }\n\n    .dataframe tbody tr th {\n        vertical-align: top;\n    }\n\n    .dataframe thead th {\n        text-align: right;\n    }\n</style>\n<table border=\"1\" class=\"dataframe\">\n  <thead>\n    <tr style=\"text-align: right;\">\n      <th></th>\n      <th>Approximate Lat</th>\n      <th>Approximate Lon</th>\n      <th>City Name</th>\n      <th>Country Code</th>\n      <th>Exact Coordinates</th>\n      <th>Temperature</th>\n      <th>Humidity</th>\n      <th>Cloudiness</th>\n      <th>Wind Speed</th>\n    </tr>\n  </thead>\n  <tbody>\n    <tr>\n      <th>0</th>\n      <td>52.59</td>\n      <td>173.88</td>\n      <td>nikolskoye</td>\n      <td>ru</td>\n      <td>(55.193889, 165.9925)</td>\n      <td>40.41</td>\n      <td>71</td>\n      <td>100</td>\n      <td>10.89</td>\n    </tr>\n    <tr>\n      <th>1</th>\n      <td>68.21</td>\n      <td>12.47</td>\n      <td>sorland</td>\n      <td>no</td>\n      <td>(67.666667, 12.7)</td>\n      <td>39.72</td>\n      <td>70</td>\n      <td>99</td>\n      <td>15.32</td>\n    </tr>\n    <tr>\n      <th>2</th>\n      <td>-5.37</td>\n      <td>162.42</td>\n      <td>auki</td>\n      <td>sb</td>\n      <td>(-8.7666667, 160.7)</td>\n      <td>76.57</td>\n      <td>89</td>\n      <td>100</td>\n      <td>5.19</td>\n    </tr>\n    <tr>\n      <th>3</th>\n      <td>-39.58</td>\n      <td>120.67</td>\n      <td>albany</td>\n      <td>au</td>\n      <td>(-35.003101, 117.865952)</td>\n      <td>71.60</td>\n      <td>43</td>\n      <td>0</td>\n      <td>10.29</td>\n    </tr>\n    <tr>\n      <th>4</th>\n      <td>57.67</td>\n      <td>-45.45</td>\n      <td>nanortalik</td>\n      <td>gl</td>\n      <td>(60.1166667, -45.2166667)</td>\n      <td>30.38</td>\n      <td>93</td>\n      <td>100</td>\n      <td>12.12</td>\n    </tr>\n  </tbody>\n</table>\n</div>"
     },
     "metadata": {},
     "execution_count": 27
    }
   ],
   "source": [
    "## import the csv file you just saved\n",
    "def import_path():\n",
    "    current_directory=os.getcwd()\n",
    "    new_folder_path =os.path.join(current_directory,r'Export Folder')\n",
    "    csv_export_path = os.path.join(new_folder_path,'city_data.csv')\n",
    "    return csv_export_path\n",
    "\n",
    "im_path=import_path()\n",
    "print(im_path)\n",
    "csv_imp_df=pd.read_csv(im_path,delimiter=',')\n",
    "csv_imp_df.head()"
   ]
  },
  {
   "cell_type": "markdown",
   "metadata": {},
   "source": [
    "## Inspect the data and remove the cities where the humidity > 100%.\n",
    "----\n",
    "Skip this step if there are no cities that have humidity > 100%. "
   ]
  },
  {
   "cell_type": "code",
   "execution_count": 28,
   "metadata": {},
   "outputs": [
    {
     "output_type": "stream",
     "name": "stdout",
     "text": [
      "500\n500\n"
     ]
    }
   ],
   "source": [
    "## creates a new dataframe, excluding humidity over 100\n",
    "####### i don't like where this is placed considering total cities could be less than 500, i think I should drop the high humidity rows when im iterating through the dataframe(or after i iterate through it), that way my initial csv export is clean as well.\n",
    "print(len(csv_imp_df['Humidity']))\n",
    "city_weather_df=csv_imp_df.loc[csv_imp_df['Humidity']<=100,:]\n",
    "print(len(city_weather_df['Humidity']))"
   ]
  },
  {
   "cell_type": "code",
   "execution_count": 29,
   "metadata": {},
   "outputs": [
    {
     "output_type": "stream",
     "name": "stdout",
     "text": [
      "<class 'numpy.ndarray'>\n<class 'list'>\n"
     ]
    }
   ],
   "source": [
    "### set up the plot\n",
    "\n",
    "x_axis=np.arange(len(city_weather_df))\n",
    "tick_locations = [x for x in x_axis]\n",
    "tick_locations\n",
    "\n",
    "print(type(x_axis))\n",
    "print(type(tick_locations))"
   ]
  },
  {
   "cell_type": "markdown",
   "metadata": {},
   "source": [
    "## Plotting the Data\n",
    "* Use proper labeling of the plots using plot titles (including date of analysis) and axes labels.\n",
    "* Save the plotted figures as .pngs."
   ]
  },
  {
   "cell_type": "markdown",
   "metadata": {},
   "source": [
    "## Latitude vs. Temperature Plot"
   ]
  },
  {
   "cell_type": "code",
   "execution_count": null,
   "metadata": {
    "scrolled": true
   },
   "outputs": [],
   "source": []
  },
  {
   "cell_type": "markdown",
   "metadata": {},
   "source": [
    "## Latitude vs. Humidity Plot"
   ]
  },
  {
   "cell_type": "code",
   "execution_count": null,
   "metadata": {},
   "outputs": [],
   "source": []
  },
  {
   "cell_type": "markdown",
   "metadata": {},
   "source": [
    "## Latitude vs. Cloudiness Plot"
   ]
  },
  {
   "cell_type": "code",
   "execution_count": null,
   "metadata": {},
   "outputs": [],
   "source": []
  },
  {
   "cell_type": "markdown",
   "metadata": {},
   "source": [
    "## Latitude vs. Wind Speed Plot"
   ]
  },
  {
   "cell_type": "code",
   "execution_count": null,
   "metadata": {},
   "outputs": [],
   "source": []
  },
  {
   "cell_type": "markdown",
   "metadata": {},
   "source": [
    "## Linear Regression"
   ]
  },
  {
   "cell_type": "code",
   "execution_count": null,
   "metadata": {},
   "outputs": [],
   "source": []
  },
  {
   "cell_type": "markdown",
   "metadata": {},
   "source": [
    "####  Northern Hemisphere - Max Temp vs. Latitude Linear Regression"
   ]
  },
  {
   "cell_type": "code",
   "execution_count": null,
   "metadata": {},
   "outputs": [],
   "source": []
  },
  {
   "cell_type": "markdown",
   "metadata": {},
   "source": [
    "####  Southern Hemisphere - Max Temp vs. Latitude Linear Regression"
   ]
  },
  {
   "cell_type": "code",
   "execution_count": null,
   "metadata": {},
   "outputs": [],
   "source": []
  },
  {
   "cell_type": "markdown",
   "metadata": {},
   "source": [
    "####  Northern Hemisphere - Humidity (%) vs. Latitude Linear Regression"
   ]
  },
  {
   "cell_type": "code",
   "execution_count": null,
   "metadata": {},
   "outputs": [],
   "source": []
  },
  {
   "cell_type": "markdown",
   "metadata": {},
   "source": [
    "####  Southern Hemisphere - Humidity (%) vs. Latitude Linear Regression"
   ]
  },
  {
   "cell_type": "code",
   "execution_count": null,
   "metadata": {},
   "outputs": [],
   "source": []
  },
  {
   "cell_type": "markdown",
   "metadata": {},
   "source": [
    "####  Northern Hemisphere - Cloudiness (%) vs. Latitude Linear Regression"
   ]
  },
  {
   "cell_type": "code",
   "execution_count": null,
   "metadata": {},
   "outputs": [],
   "source": []
  },
  {
   "cell_type": "markdown",
   "metadata": {},
   "source": [
    "####  Southern Hemisphere - Cloudiness (%) vs. Latitude Linear Regression"
   ]
  },
  {
   "cell_type": "code",
   "execution_count": null,
   "metadata": {},
   "outputs": [],
   "source": []
  },
  {
   "cell_type": "markdown",
   "metadata": {},
   "source": [
    "####  Northern Hemisphere - Wind Speed (mph) vs. Latitude Linear Regression"
   ]
  },
  {
   "cell_type": "code",
   "execution_count": null,
   "metadata": {},
   "outputs": [],
   "source": []
  },
  {
   "cell_type": "markdown",
   "metadata": {},
   "source": [
    "####  Southern Hemisphere - Wind Speed (mph) vs. Latitude Linear Regression"
   ]
  },
  {
   "cell_type": "code",
   "execution_count": null,
   "metadata": {},
   "outputs": [],
   "source": []
  },
  {
   "cell_type": "code",
   "execution_count": null,
   "metadata": {},
   "outputs": [],
   "source": []
  }
 ],
 "metadata": {
  "anaconda-cloud": {},
  "kernel_info": {
   "name": "python3"
  },
  "kernelspec": {
   "name": "Python 3.6.10 64-bit ('PythonData': conda)",
   "display_name": "Python 3.6.10 64-bit ('PythonData': conda)",
   "metadata": {
    "interpreter": {
     "hash": "7e7c916c673641125590bd307b68bb4342787996dc085909d7e5c72ee4d13010"
    }
   }
  },
  "language_info": {
   "codemirror_mode": {
    "name": "ipython",
    "version": 3
   },
   "file_extension": ".py",
   "mimetype": "text/x-python",
   "name": "python",
   "nbconvert_exporter": "python",
   "pygments_lexer": "ipython3",
   "version": "3.6.10-final"
  },
  "latex_envs": {
   "LaTeX_envs_menu_present": true,
   "autoclose": false,
   "autocomplete": true,
   "bibliofile": "biblio.bib",
   "cite_by": "apalike",
   "current_citInitial": 1,
   "eqLabelWithNumbers": true,
   "eqNumInitial": 1,
   "hotkeys": {
    "equation": "Ctrl-E",
    "itemize": "Ctrl-I"
   },
   "labels_anchors": false,
   "latex_user_defs": false,
   "report_style_numbering": false,
   "user_envs_cfg": false
  },
  "nteract": {
   "version": "0.12.3"
  }
 },
 "nbformat": 4,
 "nbformat_minor": 2
}