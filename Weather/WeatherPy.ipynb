{
 "cells": [
  {
   "cell_type": "markdown",
   "metadata": {},
   "source": [
    "# WeatherPy\n",
    "----\n",
    "\n",
    "#### Note\n",
    "* Instructions have been included for each segment. You do not have to follow them exactly, but they are included to help you think through the steps."
   ]
  },
  {
   "cell_type": "code",
   "execution_count": 73,
   "metadata": {
    "scrolled": true
   },
   "outputs": [],
   "source": [
    "\n",
    "## make sure the following dependencies are installed, specifically geopy\n",
    "import pandas as pd \n",
    "import numpy as np \n",
    "import matplotlib.pyplot as plt\n",
    "import requests\n",
    "import scipy.stats\n",
    "import random as rd\n",
    "from citipy import citipy\n",
    "import csv\n",
    "import os\n",
    "\n",
    "#to import keys without having them in my repo\n",
    "import sys\n",
    "sys.path.insert(1,'/Users/Trav/Desktop/Coding/GitHub_Repositories/API_PACKAGE')\n",
    "import api_keys\n",
    "\n"
   ]
  },
  {
   "cell_type": "markdown",
   "metadata": {},
   "source": [
    "## Generate Cities List"
   ]
  },
  {
   "cell_type": "code",
   "execution_count": 75,
   "metadata": {
    "tags": []
   },
   "outputs": [],
   "source": [
    "\n",
    "## generates 2 lists of random floats for latitude and longitude\n",
    "### maybe I could generate a larger list and narrow it down by population size(whats my max, 5000????)\n",
    "samp_size = 1500\n",
    "lat_list = [round(rd.uniform(-90,90),2) for num in range(samp_size)]\n",
    "lon_list = [round(rd.uniform(-180,180),2) for num in range(samp_size)]\n",
    "\n",
    "city_name_list=[]\n",
    "country_code_list=[]\n",
    "ex_coor_list=[]\n",
    "\n",
    "#turns the keys and values from the world cities dict into lists\n",
    "new_world_keys=list(citipy.WORLD_CITIES_DICT.keys())\n",
    "new_world_values=list(citipy.WORLD_CITIES_DICT.values())\n",
    "\n",
    "# generating data in a for loop\n",
    "for y in range(samp_size):\n",
    "    #grabs the approximate latitude and longitutde\n",
    "    ap_lat=lat_list[y]\n",
    "    ap_lon=lon_list[y]\n",
    "    #use citipy functions to get the city name and country code\n",
    "    current_city=citipy.nearest_city(ap_lat,ap_lon)\n",
    "    city_name_list.append(current_city.city_name)\n",
    "    country_code_list.append(current_city.country_code)\n",
    "    # uses the new world lists to get the exact coordinates for the city\n",
    "    nwvi=new_world_values.index(current_city)\n",
    "    ex_coor_list.append(new_world_keys[nwvi])\n",
    " \n",
    "# turns the lists created in the for loop into a dataframe\n",
    "## i might want to remove the 2 for list comprehensions below and do it in the for loop above\n",
    "coor_df= pd.DataFrame({\n",
    "    'Approximate Lat':lat_list,\n",
    "    'Approximate Lon':lon_list,\n",
    "    'City Name':city_name_list,\n",
    "    'Country Code': country_code_list,\n",
    "    'Exact Coordinates':ex_coor_list,\n",
    "    'Latitude':[i[0] for i in ex_coor_list],\n",
    "    'Longitude':[i[1] for i in ex_coor_list],\n",
    "})\n",
    "\n",
    "#removes dupliactes based on the exact coordinates\n",
    "coor_df=coor_df.drop_duplicates(subset=['Exact Coordinates'],keep='first')\n",
    "\n",
    "#trims down the dataframe to 500 if there are more \n",
    "coor_df_len = len(coor_df['Approximate Lat'])\n",
    "if coor_df_len > 500:\n",
    "    coor_df.drop(coor_df.tail(coor_df_len-500).index,inplace=True)\n",
    "\n",
    "# coor_df.head()\n"
   ]
  },
  {
   "cell_type": "markdown",
   "metadata": {},
   "source": [
    "### Perform API Calls and turn raw data into dataframe\n",
    "* Perform a weather check on each city using a series of successive API calls.\n",
    "* Include a print log of each city as it'sbeing processed (with the city number and city name).\n",
    "* Display the DataFrame"
   ]
  },
  {
   "cell_type": "code",
   "execution_count": 77,
   "metadata": {
    "scrolled": true
   },
   "outputs": [
    {
     "output_type": "execute_result",
     "data": {
      "text/plain": [
       "    Approximate Lat  Approximate Lon             City Name Country Code  \\\n",
       "0             54.98          -117.91            valleyview           ca   \n",
       "1             53.60           -13.37                dingle           ie   \n",
       "2            -32.08           -16.69             jamestown           sh   \n",
       "3             37.95            99.76               zhangye           cn   \n",
       "4             49.51           140.54                vanino           ru   \n",
       "5             43.27            66.15                shieli           kz   \n",
       "6            -79.34          -140.51               rikitea           pf   \n",
       "7            -84.85           107.73                albany           au   \n",
       "8            -17.19            81.65             hithadhoo           mv   \n",
       "9            -54.17            52.88             taolanaro           mg   \n",
       "10            23.70          -139.47                  hilo           us   \n",
       "12            10.15          -102.88              acapulco           mx   \n",
       "13           -42.71          -157.49               mataura           pf   \n",
       "15            80.92            93.81              khatanga           ru   \n",
       "16            73.96           -70.03                narsaq           gl   \n",
       "17           -30.01             7.87              luderitz           na   \n",
       "18            31.29            15.92                  surt           ly   \n",
       "19            33.57           -24.68  vila franca do campo           pt   \n",
       "20            34.02           -92.67               malvern           us   \n",
       "21           -64.08             8.67              hermanus           za   \n",
       "\n",
       "              Exact Coordinates   Latitude   Longitude Temperature Humidity  \\\n",
       "0      (55.066667, -117.283333)  55.066667 -117.283333       30.88       95   \n",
       "1     (52.1408333, -10.2688889)  52.140833  -10.268889       52.36       83   \n",
       "2     (-15.9333333, -5.7166667) -15.933333   -5.716667       62.64       89   \n",
       "3       (38.934167, 100.451667)  38.934167  100.451667       46.98       48   \n",
       "4       (49.086856, 140.254337)  49.086856  140.254337       44.83       64   \n",
       "5            (44.166667, 66.75)  44.166667   66.750000       48.38       46   \n",
       "6   (-23.1202778, -134.9691667) -23.120278 -134.969167       75.49       74   \n",
       "7      (-35.003101, 117.865952) -35.003101  117.865952          77       33   \n",
       "8            (-0.6, 73.0833333)  -0.600000   73.083333        83.1       77   \n",
       "9           (-25.0333333, 47.0) -25.033333   47.000000        71.6       78   \n",
       "10        (19.7297222, -155.09)  19.729722 -155.090000       75.06       83   \n",
       "12          (16.85, -99.916667)  16.850000  -99.916667        84.2       74   \n",
       "13  (-23.3666667, -149.4666667) -23.366667 -149.466667       68.05       96   \n",
       "15           (71.966667, 102.5)  71.966667  102.500000       -0.51       85   \n",
       "16          (77.3025, -68.8425)  77.302500  -68.842500        3.69       72   \n",
       "17    (-26.6480556, 15.1594444) -26.648056   15.159444       55.87       71   \n",
       "18     (31.2061111, 16.5947222)  31.206111   16.594722       69.85       59   \n",
       "19      (37.716667, -25.433333)  37.716667  -25.433333          68       94   \n",
       "20    (34.3622222, -92.8127778)  34.362222  -92.812778       44.73       75   \n",
       "21      (-34.418696, 19.234464) -34.418696   19.234464       44.01       89   \n",
       "\n",
       "   Cloudiness Wind Speed  \n",
       "0          99       7.36  \n",
       "1         100      10.71  \n",
       "2         100      23.49  \n",
       "3           4      16.04  \n",
       "4          24       6.89  \n",
       "5           0      14.61  \n",
       "6          90       5.26  \n",
       "7           0      12.75  \n",
       "8          60         13  \n",
       "9          40      16.11  \n",
       "10         90       3.89  \n",
       "12         75       4.61  \n",
       "13         97      18.86  \n",
       "15          0      10.11  \n",
       "16         71       4.61  \n",
       "17          0      27.42  \n",
       "18         89       7.61  \n",
       "19         75       9.17  \n",
       "20          1        4.7  \n",
       "21         46       1.01  "
      ],
      "text/html": "<div>\n<style scoped>\n    .dataframe tbody tr th:only-of-type {\n        vertical-align: middle;\n    }\n\n    .dataframe tbody tr th {\n        vertical-align: top;\n    }\n\n    .dataframe thead th {\n        text-align: right;\n    }\n</style>\n<table border=\"1\" class=\"dataframe\">\n  <thead>\n    <tr style=\"text-align: right;\">\n      <th></th>\n      <th>Approximate Lat</th>\n      <th>Approximate Lon</th>\n      <th>City Name</th>\n      <th>Country Code</th>\n      <th>Exact Coordinates</th>\n      <th>Latitude</th>\n      <th>Longitude</th>\n      <th>Temperature</th>\n      <th>Humidity</th>\n      <th>Cloudiness</th>\n      <th>Wind Speed</th>\n    </tr>\n  </thead>\n  <tbody>\n    <tr>\n      <th>0</th>\n      <td>54.98</td>\n      <td>-117.91</td>\n      <td>valleyview</td>\n      <td>ca</td>\n      <td>(55.066667, -117.283333)</td>\n      <td>55.066667</td>\n      <td>-117.283333</td>\n      <td>30.88</td>\n      <td>95</td>\n      <td>99</td>\n      <td>7.36</td>\n    </tr>\n    <tr>\n      <th>1</th>\n      <td>53.60</td>\n      <td>-13.37</td>\n      <td>dingle</td>\n      <td>ie</td>\n      <td>(52.1408333, -10.2688889)</td>\n      <td>52.140833</td>\n      <td>-10.268889</td>\n      <td>52.36</td>\n      <td>83</td>\n      <td>100</td>\n      <td>10.71</td>\n    </tr>\n    <tr>\n      <th>2</th>\n      <td>-32.08</td>\n      <td>-16.69</td>\n      <td>jamestown</td>\n      <td>sh</td>\n      <td>(-15.9333333, -5.7166667)</td>\n      <td>-15.933333</td>\n      <td>-5.716667</td>\n      <td>62.64</td>\n      <td>89</td>\n      <td>100</td>\n      <td>23.49</td>\n    </tr>\n    <tr>\n      <th>3</th>\n      <td>37.95</td>\n      <td>99.76</td>\n      <td>zhangye</td>\n      <td>cn</td>\n      <td>(38.934167, 100.451667)</td>\n      <td>38.934167</td>\n      <td>100.451667</td>\n      <td>46.98</td>\n      <td>48</td>\n      <td>4</td>\n      <td>16.04</td>\n    </tr>\n    <tr>\n      <th>4</th>\n      <td>49.51</td>\n      <td>140.54</td>\n      <td>vanino</td>\n      <td>ru</td>\n      <td>(49.086856, 140.254337)</td>\n      <td>49.086856</td>\n      <td>140.254337</td>\n      <td>44.83</td>\n      <td>64</td>\n      <td>24</td>\n      <td>6.89</td>\n    </tr>\n    <tr>\n      <th>5</th>\n      <td>43.27</td>\n      <td>66.15</td>\n      <td>shieli</td>\n      <td>kz</td>\n      <td>(44.166667, 66.75)</td>\n      <td>44.166667</td>\n      <td>66.750000</td>\n      <td>48.38</td>\n      <td>46</td>\n      <td>0</td>\n      <td>14.61</td>\n    </tr>\n    <tr>\n      <th>6</th>\n      <td>-79.34</td>\n      <td>-140.51</td>\n      <td>rikitea</td>\n      <td>pf</td>\n      <td>(-23.1202778, -134.9691667)</td>\n      <td>-23.120278</td>\n      <td>-134.969167</td>\n      <td>75.49</td>\n      <td>74</td>\n      <td>90</td>\n      <td>5.26</td>\n    </tr>\n    <tr>\n      <th>7</th>\n      <td>-84.85</td>\n      <td>107.73</td>\n      <td>albany</td>\n      <td>au</td>\n      <td>(-35.003101, 117.865952)</td>\n      <td>-35.003101</td>\n      <td>117.865952</td>\n      <td>77</td>\n      <td>33</td>\n      <td>0</td>\n      <td>12.75</td>\n    </tr>\n    <tr>\n      <th>8</th>\n      <td>-17.19</td>\n      <td>81.65</td>\n      <td>hithadhoo</td>\n      <td>mv</td>\n      <td>(-0.6, 73.0833333)</td>\n      <td>-0.600000</td>\n      <td>73.083333</td>\n      <td>83.1</td>\n      <td>77</td>\n      <td>60</td>\n      <td>13</td>\n    </tr>\n    <tr>\n      <th>9</th>\n      <td>-54.17</td>\n      <td>52.88</td>\n      <td>taolanaro</td>\n      <td>mg</td>\n      <td>(-25.0333333, 47.0)</td>\n      <td>-25.033333</td>\n      <td>47.000000</td>\n      <td>71.6</td>\n      <td>78</td>\n      <td>40</td>\n      <td>16.11</td>\n    </tr>\n    <tr>\n      <th>10</th>\n      <td>23.70</td>\n      <td>-139.47</td>\n      <td>hilo</td>\n      <td>us</td>\n      <td>(19.7297222, -155.09)</td>\n      <td>19.729722</td>\n      <td>-155.090000</td>\n      <td>75.06</td>\n      <td>83</td>\n      <td>90</td>\n      <td>3.89</td>\n    </tr>\n    <tr>\n      <th>12</th>\n      <td>10.15</td>\n      <td>-102.88</td>\n      <td>acapulco</td>\n      <td>mx</td>\n      <td>(16.85, -99.916667)</td>\n      <td>16.850000</td>\n      <td>-99.916667</td>\n      <td>84.2</td>\n      <td>74</td>\n      <td>75</td>\n      <td>4.61</td>\n    </tr>\n    <tr>\n      <th>13</th>\n      <td>-42.71</td>\n      <td>-157.49</td>\n      <td>mataura</td>\n      <td>pf</td>\n      <td>(-23.3666667, -149.4666667)</td>\n      <td>-23.366667</td>\n      <td>-149.466667</td>\n      <td>68.05</td>\n      <td>96</td>\n      <td>97</td>\n      <td>18.86</td>\n    </tr>\n    <tr>\n      <th>15</th>\n      <td>80.92</td>\n      <td>93.81</td>\n      <td>khatanga</td>\n      <td>ru</td>\n      <td>(71.966667, 102.5)</td>\n      <td>71.966667</td>\n      <td>102.500000</td>\n      <td>-0.51</td>\n      <td>85</td>\n      <td>0</td>\n      <td>10.11</td>\n    </tr>\n    <tr>\n      <th>16</th>\n      <td>73.96</td>\n      <td>-70.03</td>\n      <td>narsaq</td>\n      <td>gl</td>\n      <td>(77.3025, -68.8425)</td>\n      <td>77.302500</td>\n      <td>-68.842500</td>\n      <td>3.69</td>\n      <td>72</td>\n      <td>71</td>\n      <td>4.61</td>\n    </tr>\n    <tr>\n      <th>17</th>\n      <td>-30.01</td>\n      <td>7.87</td>\n      <td>luderitz</td>\n      <td>na</td>\n      <td>(-26.6480556, 15.1594444)</td>\n      <td>-26.648056</td>\n      <td>15.159444</td>\n      <td>55.87</td>\n      <td>71</td>\n      <td>0</td>\n      <td>27.42</td>\n    </tr>\n    <tr>\n      <th>18</th>\n      <td>31.29</td>\n      <td>15.92</td>\n      <td>surt</td>\n      <td>ly</td>\n      <td>(31.2061111, 16.5947222)</td>\n      <td>31.206111</td>\n      <td>16.594722</td>\n      <td>69.85</td>\n      <td>59</td>\n      <td>89</td>\n      <td>7.61</td>\n    </tr>\n    <tr>\n      <th>19</th>\n      <td>33.57</td>\n      <td>-24.68</td>\n      <td>vila franca do campo</td>\n      <td>pt</td>\n      <td>(37.716667, -25.433333)</td>\n      <td>37.716667</td>\n      <td>-25.433333</td>\n      <td>68</td>\n      <td>94</td>\n      <td>75</td>\n      <td>9.17</td>\n    </tr>\n    <tr>\n      <th>20</th>\n      <td>34.02</td>\n      <td>-92.67</td>\n      <td>malvern</td>\n      <td>us</td>\n      <td>(34.3622222, -92.8127778)</td>\n      <td>34.362222</td>\n      <td>-92.812778</td>\n      <td>44.73</td>\n      <td>75</td>\n      <td>1</td>\n      <td>4.7</td>\n    </tr>\n    <tr>\n      <th>21</th>\n      <td>-64.08</td>\n      <td>8.67</td>\n      <td>hermanus</td>\n      <td>za</td>\n      <td>(-34.418696, 19.234464)</td>\n      <td>-34.418696</td>\n      <td>19.234464</td>\n      <td>44.01</td>\n      <td>89</td>\n      <td>46</td>\n      <td>1.01</td>\n    </tr>\n  </tbody>\n</table>\n</div>"
     },
     "metadata": {},
     "execution_count": 77
    }
   ],
   "source": [
    "\n",
    "##sets up the query url for the lat/lon weather request #need to look into git ignore\n",
    "base_url = \"http://api.openweathermap.org/data/2.5/weather?\"\n",
    "\n",
    "coor_df['Temperature']=''\n",
    "coor_df['Humidity']=''\n",
    "coor_df['Cloudiness']=''\n",
    "coor_df['Wind Speed']=''\n",
    "\n",
    "for i,r in coor_df.iterrows():\n",
    "    #gets the lat and lon from the df\n",
    "    wea_coors = coor_df[\"Exact Coordinates\"][i]\n",
    "    wea_lat=wea_coors[0]\n",
    "    wea_lon=wea_coors[1]\n",
    "    #send api to requestthe temperature, humidity, cloudiness, and wind speed \n",
    "    query_url =f'{base_url}lat={wea_lat}&lon={wea_lon}&appid={api_keys.weather_api_key}&units=imperial'\n",
    "    wea_json = requests.get(query_url).json()\n",
    "    coor_df['Temperature'][i]=wea_json[\"main\"]['temp']\n",
    "    coor_df['Humidity'][i]=wea_json['main']['humidity']\n",
    "    coor_df['Cloudiness'][i]=wea_json['clouds']['all']\n",
    "    coor_df['Wind Speed'][i]=wea_json['wind']['speed']\n",
    "\n",
    "coor_df.head(20)\n",
    "\n"
   ]
  },
  {
   "cell_type": "markdown",
   "metadata": {},
   "source": [
    "### Convert Dataframe to csv\n",
    "* Export the city data into a .csv.\n"
   ]
  },
  {
   "cell_type": "code",
   "execution_count": 79,
   "metadata": {},
   "outputs": [],
   "source": [
    "# #create a new folder and exports the dataframe\n",
    "\n",
    "def dataframe_to_csv(df):\n",
    "    current_directory=os.getcwd()\n",
    "    new_folder_path =os.path.join(current_directory,r'Export Folder')\n",
    "    if not os.path.exists(new_folder_path):\n",
    "        os.makedirs(new_folder_path)\n",
    "    csv_export_path = os.path.join(new_folder_path,'city_data.csv')\n",
    "    df.to_csv(csv_export_path,index=False)\n",
    "dataframe_to_csv(coor_df)"
   ]
  },
  {
   "cell_type": "code",
   "execution_count": 81,
   "metadata": {},
   "outputs": [
    {
     "output_type": "stream",
     "name": "stdout",
     "text": [
      "c:\\Users\\Trav\\Desktop\\Coding\\GitHub_Repositories\\Weather_API\\Weather\\Export Folder\\city_data.csv\n"
     ]
    },
    {
     "output_type": "execute_result",
     "data": {
      "text/plain": [
       "   Approximate Lat  Approximate Lon   City Name Country Code  \\\n",
       "0            54.98          -117.91  valleyview           ca   \n",
       "1            53.60           -13.37      dingle           ie   \n",
       "2           -32.08           -16.69   jamestown           sh   \n",
       "3            37.95            99.76     zhangye           cn   \n",
       "4            49.51           140.54      vanino           ru   \n",
       "\n",
       "           Exact Coordinates   Latitude   Longitude  Temperature  Humidity  \\\n",
       "0   (55.066667, -117.283333)  55.066667 -117.283333        30.88        95   \n",
       "1  (52.1408333, -10.2688889)  52.140833  -10.268889        52.36        83   \n",
       "2  (-15.9333333, -5.7166667) -15.933333   -5.716667        62.64        89   \n",
       "3    (38.934167, 100.451667)  38.934167  100.451667        46.98        48   \n",
       "4    (49.086856, 140.254337)  49.086856  140.254337        44.83        64   \n",
       "\n",
       "   Cloudiness  Wind Speed  \n",
       "0          99        7.36  \n",
       "1         100       10.71  \n",
       "2         100       23.49  \n",
       "3           4       16.04  \n",
       "4          24        6.89  "
      ],
      "text/html": "<div>\n<style scoped>\n    .dataframe tbody tr th:only-of-type {\n        vertical-align: middle;\n    }\n\n    .dataframe tbody tr th {\n        vertical-align: top;\n    }\n\n    .dataframe thead th {\n        text-align: right;\n    }\n</style>\n<table border=\"1\" class=\"dataframe\">\n  <thead>\n    <tr style=\"text-align: right;\">\n      <th></th>\n      <th>Approximate Lat</th>\n      <th>Approximate Lon</th>\n      <th>City Name</th>\n      <th>Country Code</th>\n      <th>Exact Coordinates</th>\n      <th>Latitude</th>\n      <th>Longitude</th>\n      <th>Temperature</th>\n      <th>Humidity</th>\n      <th>Cloudiness</th>\n      <th>Wind Speed</th>\n    </tr>\n  </thead>\n  <tbody>\n    <tr>\n      <th>0</th>\n      <td>54.98</td>\n      <td>-117.91</td>\n      <td>valleyview</td>\n      <td>ca</td>\n      <td>(55.066667, -117.283333)</td>\n      <td>55.066667</td>\n      <td>-117.283333</td>\n      <td>30.88</td>\n      <td>95</td>\n      <td>99</td>\n      <td>7.36</td>\n    </tr>\n    <tr>\n      <th>1</th>\n      <td>53.60</td>\n      <td>-13.37</td>\n      <td>dingle</td>\n      <td>ie</td>\n      <td>(52.1408333, -10.2688889)</td>\n      <td>52.140833</td>\n      <td>-10.268889</td>\n      <td>52.36</td>\n      <td>83</td>\n      <td>100</td>\n      <td>10.71</td>\n    </tr>\n    <tr>\n      <th>2</th>\n      <td>-32.08</td>\n      <td>-16.69</td>\n      <td>jamestown</td>\n      <td>sh</td>\n      <td>(-15.9333333, -5.7166667)</td>\n      <td>-15.933333</td>\n      <td>-5.716667</td>\n      <td>62.64</td>\n      <td>89</td>\n      <td>100</td>\n      <td>23.49</td>\n    </tr>\n    <tr>\n      <th>3</th>\n      <td>37.95</td>\n      <td>99.76</td>\n      <td>zhangye</td>\n      <td>cn</td>\n      <td>(38.934167, 100.451667)</td>\n      <td>38.934167</td>\n      <td>100.451667</td>\n      <td>46.98</td>\n      <td>48</td>\n      <td>4</td>\n      <td>16.04</td>\n    </tr>\n    <tr>\n      <th>4</th>\n      <td>49.51</td>\n      <td>140.54</td>\n      <td>vanino</td>\n      <td>ru</td>\n      <td>(49.086856, 140.254337)</td>\n      <td>49.086856</td>\n      <td>140.254337</td>\n      <td>44.83</td>\n      <td>64</td>\n      <td>24</td>\n      <td>6.89</td>\n    </tr>\n  </tbody>\n</table>\n</div>"
     },
     "metadata": {},
     "execution_count": 81
    }
   ],
   "source": [
    "## import the csv file you just saved\n",
    "def import_path():\n",
    "    current_directory=os.getcwd()\n",
    "    new_folder_path =os.path.join(current_directory,r'Export Folder')\n",
    "    csv_export_path = os.path.join(new_folder_path,'city_data.csv')\n",
    "    return csv_export_path\n",
    "\n",
    "im_path=import_path()\n",
    "print(im_path)\n",
    "csv_imp_df=pd.read_csv(im_path,delimiter=',')\n",
    "csv_imp_df.head()"
   ]
  },
  {
   "cell_type": "markdown",
   "metadata": {},
   "source": [
    "## Inspect the data and remove the cities where the humidity > 100%.\n",
    "----\n",
    "Skip this step if there are no cities that have humidity > 100%. "
   ]
  },
  {
   "cell_type": "code",
   "execution_count": 82,
   "metadata": {},
   "outputs": [
    {
     "output_type": "stream",
     "name": "stdout",
     "text": [
      "500\n",
      "500\n"
     ]
    }
   ],
   "source": [
    "## creates a new dataframe, excluding humidity over 100\n",
    "####### i don't like where this is placed considering total cities could be less than 500, i think I should drop the high humidity rows when im iterating through the dataframe(or after i iterate through it), that way my initial csv export is clean as well.\n",
    "print(len(csv_imp_df['Humidity']))\n",
    "city_weather_df=csv_imp_df.loc[csv_imp_df['Humidity']<=100,:]\n",
    "print(len(city_weather_df['Humidity']))"
   ]
  },
  {
   "cell_type": "code",
   "execution_count": 83,
   "metadata": {},
   "outputs": [],
   "source": [
    "### set up the plot\n",
    "x_limit=round(city_weather_df['Temperature'].max(),-1)\n",
    "\n",
    "# y_limit=round(city_weather_df['Exact Coordinates'][0].max(),-1)\n",
    "\n"
   ]
  },
  {
   "cell_type": "markdown",
   "metadata": {},
   "source": [
    "## Plotting the Data\n",
    "* Use proper labeling of the plots using plot titles (including date of analysis) and axes labels.\n",
    "* Save the plotted figures as .pngs."
   ]
  },
  {
   "cell_type": "markdown",
   "metadata": {},
   "source": [
    "## Latitude vs. Temperature Plot"
   ]
  },
  {
   "cell_type": "code",
   "execution_count": null,
   "metadata": {
    "scrolled": true
   },
   "outputs": [],
   "source": []
  },
  {
   "cell_type": "markdown",
   "metadata": {},
   "source": [
    "## Latitude vs. Humidity Plot"
   ]
  },
  {
   "cell_type": "code",
   "execution_count": null,
   "metadata": {},
   "outputs": [],
   "source": []
  },
  {
   "cell_type": "markdown",
   "metadata": {},
   "source": [
    "## Latitude vs. Cloudiness Plot"
   ]
  },
  {
   "cell_type": "code",
   "execution_count": null,
   "metadata": {},
   "outputs": [],
   "source": []
  },
  {
   "cell_type": "markdown",
   "metadata": {},
   "source": [
    "## Latitude vs. Wind Speed Plot"
   ]
  },
  {
   "cell_type": "code",
   "execution_count": null,
   "metadata": {},
   "outputs": [],
   "source": []
  },
  {
   "cell_type": "markdown",
   "metadata": {},
   "source": [
    "## Linear Regression"
   ]
  },
  {
   "cell_type": "code",
   "execution_count": null,
   "metadata": {},
   "outputs": [],
   "source": []
  },
  {
   "cell_type": "markdown",
   "metadata": {},
   "source": [
    "####  Northern Hemisphere - Max Temp vs. Latitude Linear Regression"
   ]
  },
  {
   "cell_type": "code",
   "execution_count": null,
   "metadata": {},
   "outputs": [],
   "source": []
  },
  {
   "cell_type": "markdown",
   "metadata": {},
   "source": [
    "####  Southern Hemisphere - Max Temp vs. Latitude Linear Regression"
   ]
  },
  {
   "cell_type": "code",
   "execution_count": null,
   "metadata": {},
   "outputs": [],
   "source": []
  },
  {
   "cell_type": "markdown",
   "metadata": {},
   "source": [
    "####  Northern Hemisphere - Humidity (%) vs. Latitude Linear Regression"
   ]
  },
  {
   "cell_type": "code",
   "execution_count": null,
   "metadata": {},
   "outputs": [],
   "source": []
  },
  {
   "cell_type": "markdown",
   "metadata": {},
   "source": [
    "####  Southern Hemisphere - Humidity (%) vs. Latitude Linear Regression"
   ]
  },
  {
   "cell_type": "code",
   "execution_count": null,
   "metadata": {},
   "outputs": [],
   "source": []
  },
  {
   "cell_type": "markdown",
   "metadata": {},
   "source": [
    "####  Northern Hemisphere - Cloudiness (%) vs. Latitude Linear Regression"
   ]
  },
  {
   "cell_type": "code",
   "execution_count": null,
   "metadata": {},
   "outputs": [],
   "source": []
  },
  {
   "cell_type": "markdown",
   "metadata": {},
   "source": [
    "####  Southern Hemisphere - Cloudiness (%) vs. Latitude Linear Regression"
   ]
  },
  {
   "cell_type": "code",
   "execution_count": null,
   "metadata": {},
   "outputs": [],
   "source": []
  },
  {
   "cell_type": "markdown",
   "metadata": {},
   "source": [
    "####  Northern Hemisphere - Wind Speed (mph) vs. Latitude Linear Regression"
   ]
  },
  {
   "cell_type": "code",
   "execution_count": null,
   "metadata": {},
   "outputs": [],
   "source": []
  },
  {
   "cell_type": "markdown",
   "metadata": {},
   "source": [
    "####  Southern Hemisphere - Wind Speed (mph) vs. Latitude Linear Regression"
   ]
  },
  {
   "cell_type": "code",
   "execution_count": null,
   "metadata": {},
   "outputs": [],
   "source": []
  },
  {
   "cell_type": "code",
   "execution_count": null,
   "metadata": {},
   "outputs": [],
   "source": []
  }
 ],
 "metadata": {
  "anaconda-cloud": {},
  "kernel_info": {
   "name": "python3"
  },
  "kernelspec": {
   "name": "Python 3.6.10 64-bit ('PythonData': conda)",
   "display_name": "Python 3.6.10 64-bit ('PythonData': conda)",
   "metadata": {
    "interpreter": {
     "hash": "7e7c916c673641125590bd307b68bb4342787996dc085909d7e5c72ee4d13010"
    }
   }
  },
  "language_info": {
   "codemirror_mode": {
    "name": "ipython",
    "version": 3
   },
   "file_extension": ".py",
   "mimetype": "text/x-python",
   "name": "python",
   "nbconvert_exporter": "python",
   "pygments_lexer": "ipython3",
   "version": "3.6.10-final"
  },
  "latex_envs": {
   "LaTeX_envs_menu_present": true,
   "autoclose": false,
   "autocomplete": true,
   "bibliofile": "biblio.bib",
   "cite_by": "apalike",
   "current_citInitial": 1,
   "eqLabelWithNumbers": true,
   "eqNumInitial": 1,
   "hotkeys": {
    "equation": "Ctrl-E",
    "itemize": "Ctrl-I"
   },
   "labels_anchors": false,
   "latex_user_defs": false,
   "report_style_numbering": false,
   "user_envs_cfg": false
  },
  "nteract": {
   "version": "0.12.3"
  }
 },
 "nbformat": 4,
 "nbformat_minor": 2
}