{
 "cells": [
  {
   "cell_type": "markdown",
   "metadata": {},
   "source": [
    "# VacationPy\n",
    "----\n",
    "\n",
    "#### Note\n",
    "* Keep an eye on your API usage. Use https://developers.google.com/maps/reporting/gmp-reporting as reference for how to monitor your usage and billing.\n",
    "\n",
    "* Instructions have been included for each segment. You do not have to follow them exactly, but they are included to help you think through the steps."
   ]
  },
  {
   "cell_type": "code",
   "execution_count": 42,
   "metadata": {},
   "outputs": [],
   "source": [
    "# Dependencies and Setup\n",
    "import matplotlib.pyplot as plt\n",
    "import pandas as pd\n",
    "import numpy as np\n",
    "import requests\n",
    "import gmaps\n",
    "import os\n",
    "import json\n",
    "\n",
    "\n",
    "import sys\n",
    "try:\n",
    "    sys.path.insert(1,'/Users/Trav/Desktop/Coding/GitHub_Repositories/API_PACKAGE')\n",
    "    from api_keys import g_key\n",
    "except:\n",
    "    from api_keys import g_key\n",
    "\n",
    "\n",
    "\n"
   ]
  },
  {
   "cell_type": "markdown",
   "metadata": {},
   "source": [
    "### Store Part I results into DataFrame\n",
    "* Load the csv exported in Part I to a DataFrame"
   ]
  },
  {
   "cell_type": "code",
   "execution_count": 43,
   "metadata": {},
   "outputs": [
    {
     "output_type": "execute_result",
     "data": {
      "text/plain": [
       "   Approximate Lat  Approximate Lon   City Name Country Code  \\\n",
       "0            54.98          -117.91  valleyview           ca   \n",
       "1            53.60           -13.37      dingle           ie   \n",
       "2           -32.08           -16.69   jamestown           sh   \n",
       "3            37.95            99.76     zhangye           cn   \n",
       "4            49.51           140.54      vanino           ru   \n",
       "\n",
       "           Exact Coordinates   Latitude   Longitude  Temperature  Humidity  \\\n",
       "0   (55.066667, -117.283333)  55.066667 -117.283333        30.88        95   \n",
       "1  (52.1408333, -10.2688889)  52.140833  -10.268889        52.36        83   \n",
       "2  (-15.9333333, -5.7166667) -15.933333   -5.716667        62.64        89   \n",
       "3    (38.934167, 100.451667)  38.934167  100.451667        46.98        48   \n",
       "4    (49.086856, 140.254337)  49.086856  140.254337        44.83        64   \n",
       "\n",
       "   Cloudiness  Wind Speed  \n",
       "0          99        7.36  \n",
       "1         100       10.71  \n",
       "2         100       23.49  \n",
       "3           4       16.04  \n",
       "4          24        6.89  "
      ],
      "text/html": "<div>\n<style scoped>\n    .dataframe tbody tr th:only-of-type {\n        vertical-align: middle;\n    }\n\n    .dataframe tbody tr th {\n        vertical-align: top;\n    }\n\n    .dataframe thead th {\n        text-align: right;\n    }\n</style>\n<table border=\"1\" class=\"dataframe\">\n  <thead>\n    <tr style=\"text-align: right;\">\n      <th></th>\n      <th>Approximate Lat</th>\n      <th>Approximate Lon</th>\n      <th>City Name</th>\n      <th>Country Code</th>\n      <th>Exact Coordinates</th>\n      <th>Latitude</th>\n      <th>Longitude</th>\n      <th>Temperature</th>\n      <th>Humidity</th>\n      <th>Cloudiness</th>\n      <th>Wind Speed</th>\n    </tr>\n  </thead>\n  <tbody>\n    <tr>\n      <th>0</th>\n      <td>54.98</td>\n      <td>-117.91</td>\n      <td>valleyview</td>\n      <td>ca</td>\n      <td>(55.066667, -117.283333)</td>\n      <td>55.066667</td>\n      <td>-117.283333</td>\n      <td>30.88</td>\n      <td>95</td>\n      <td>99</td>\n      <td>7.36</td>\n    </tr>\n    <tr>\n      <th>1</th>\n      <td>53.60</td>\n      <td>-13.37</td>\n      <td>dingle</td>\n      <td>ie</td>\n      <td>(52.1408333, -10.2688889)</td>\n      <td>52.140833</td>\n      <td>-10.268889</td>\n      <td>52.36</td>\n      <td>83</td>\n      <td>100</td>\n      <td>10.71</td>\n    </tr>\n    <tr>\n      <th>2</th>\n      <td>-32.08</td>\n      <td>-16.69</td>\n      <td>jamestown</td>\n      <td>sh</td>\n      <td>(-15.9333333, -5.7166667)</td>\n      <td>-15.933333</td>\n      <td>-5.716667</td>\n      <td>62.64</td>\n      <td>89</td>\n      <td>100</td>\n      <td>23.49</td>\n    </tr>\n    <tr>\n      <th>3</th>\n      <td>37.95</td>\n      <td>99.76</td>\n      <td>zhangye</td>\n      <td>cn</td>\n      <td>(38.934167, 100.451667)</td>\n      <td>38.934167</td>\n      <td>100.451667</td>\n      <td>46.98</td>\n      <td>48</td>\n      <td>4</td>\n      <td>16.04</td>\n    </tr>\n    <tr>\n      <th>4</th>\n      <td>49.51</td>\n      <td>140.54</td>\n      <td>vanino</td>\n      <td>ru</td>\n      <td>(49.086856, 140.254337)</td>\n      <td>49.086856</td>\n      <td>140.254337</td>\n      <td>44.83</td>\n      <td>64</td>\n      <td>24</td>\n      <td>6.89</td>\n    </tr>\n  </tbody>\n</table>\n</div>"
     },
     "metadata": {},
     "execution_count": 43
    }
   ],
   "source": [
    "## import csv to dataframe, add try block to deal with directory issues\n",
    "csv_import_path = os.path.join('..','Weather','Export Folder','city_data.csv')\n",
    "city_weather_df=pd.read_csv(csv_import_path)\n",
    "\n",
    "city_weather_df.head()\n",
    "\n",
    "# # ### using this to limit the request, remove once completed\n",
    "# city_weather_df=city_weather_df.head()\n",
    "# city_weather_df.head(20)"
   ]
  },
  {
   "cell_type": "markdown",
   "metadata": {},
   "source": [
    "### Humidity Heatmap\n",
    "* Configure gmaps.\n",
    "* Use the Lat and Lng as locations and Humidity as the weight.\n",
    "* Add Heatmap layer to map."
   ]
  },
  {
   "cell_type": "code",
   "execution_count": 44,
   "metadata": {},
   "outputs": [],
   "source": [
    "#configure gmaps with key\n",
    "gmaps.configure(api_key=g_key)"
   ]
  },
  {
   "cell_type": "code",
   "execution_count": 45,
   "metadata": {},
   "outputs": [
    {
     "output_type": "display_data",
     "data": {
      "text/plain": "Figure(layout=FigureLayout(height='420px'))",
      "application/vnd.jupyter.widget-view+json": {
       "version_major": 2,
       "version_minor": 0,
       "model_id": "6da6ef16fbf24baa9d154a6a5d30a1aa"
      }
     },
     "metadata": {}
    }
   ],
   "source": [
    "\n",
    "#defines coordinates to plot and weight is humididty\n",
    "### shoul these be .astype(float)\n",
    "locations=city_weather_df[['Latitude','Longitude']]\n",
    "weighty=city_weather_df['Humidity']\n",
    "\n",
    "fig=gmaps.figure(center=(0,0),zoom_level=2)\n",
    "heat=gmaps.heatmap_layer(locations,weights=weighty,dissipating=True,max_intensity=100,point_radius=10)\n",
    "fig.add_layer(heat)\n",
    "\n",
    "\n",
    "fig"
   ]
  },
  {
   "cell_type": "markdown",
   "metadata": {},
   "source": [
    "### Create new DataFrame fitting weather criteria\n",
    "* Narrow down the cities to fit weather conditions.\n",
    "* Drop any rows will null values."
   ]
  },
  {
   "cell_type": "code",
   "execution_count": 46,
   "metadata": {},
   "outputs": [
    {
     "output_type": "execute_result",
     "data": {
      "text/plain": [
       "     Approximate Lat  Approximate Lon    City Name Country Code  \\\n",
       "60            -52.57            48.58     tsihombe           mg   \n",
       "81             27.42            79.51  farrukhabad           in   \n",
       "134            23.51             1.47     tessalit           ml   \n",
       "157            31.12            81.91    dharchula           in   \n",
       "216            13.23            58.07      salalah           om   \n",
       "\n",
       "           Exact Coordinates   Latitude  Longitude  Temperature  Humidity  \\\n",
       "60       (-25.3, 45.4833333) -25.300000  45.483333        72.05        66   \n",
       "81         (27.4, 79.566667)  27.400000  79.566667        79.43        26   \n",
       "134  (20.2013889, 1.0088889)  20.201389   1.008889        72.54        20   \n",
       "157       (29.85, 80.533333)  29.850000  80.533333        71.13        20   \n",
       "216    (17.0175, 54.0827778)  17.017500  54.082778        75.20        78   \n",
       "\n",
       "     Cloudiness  Wind Speed  \n",
       "60            0        9.95  \n",
       "81            0        6.29  \n",
       "134           0        7.11  \n",
       "157           0        3.74  \n",
       "216           0        2.24  "
      ],
      "text/html": "<div>\n<style scoped>\n    .dataframe tbody tr th:only-of-type {\n        vertical-align: middle;\n    }\n\n    .dataframe tbody tr th {\n        vertical-align: top;\n    }\n\n    .dataframe thead th {\n        text-align: right;\n    }\n</style>\n<table border=\"1\" class=\"dataframe\">\n  <thead>\n    <tr style=\"text-align: right;\">\n      <th></th>\n      <th>Approximate Lat</th>\n      <th>Approximate Lon</th>\n      <th>City Name</th>\n      <th>Country Code</th>\n      <th>Exact Coordinates</th>\n      <th>Latitude</th>\n      <th>Longitude</th>\n      <th>Temperature</th>\n      <th>Humidity</th>\n      <th>Cloudiness</th>\n      <th>Wind Speed</th>\n    </tr>\n  </thead>\n  <tbody>\n    <tr>\n      <th>60</th>\n      <td>-52.57</td>\n      <td>48.58</td>\n      <td>tsihombe</td>\n      <td>mg</td>\n      <td>(-25.3, 45.4833333)</td>\n      <td>-25.300000</td>\n      <td>45.483333</td>\n      <td>72.05</td>\n      <td>66</td>\n      <td>0</td>\n      <td>9.95</td>\n    </tr>\n    <tr>\n      <th>81</th>\n      <td>27.42</td>\n      <td>79.51</td>\n      <td>farrukhabad</td>\n      <td>in</td>\n      <td>(27.4, 79.566667)</td>\n      <td>27.400000</td>\n      <td>79.566667</td>\n      <td>79.43</td>\n      <td>26</td>\n      <td>0</td>\n      <td>6.29</td>\n    </tr>\n    <tr>\n      <th>134</th>\n      <td>23.51</td>\n      <td>1.47</td>\n      <td>tessalit</td>\n      <td>ml</td>\n      <td>(20.2013889, 1.0088889)</td>\n      <td>20.201389</td>\n      <td>1.008889</td>\n      <td>72.54</td>\n      <td>20</td>\n      <td>0</td>\n      <td>7.11</td>\n    </tr>\n    <tr>\n      <th>157</th>\n      <td>31.12</td>\n      <td>81.91</td>\n      <td>dharchula</td>\n      <td>in</td>\n      <td>(29.85, 80.533333)</td>\n      <td>29.850000</td>\n      <td>80.533333</td>\n      <td>71.13</td>\n      <td>20</td>\n      <td>0</td>\n      <td>3.74</td>\n    </tr>\n    <tr>\n      <th>216</th>\n      <td>13.23</td>\n      <td>58.07</td>\n      <td>salalah</td>\n      <td>om</td>\n      <td>(17.0175, 54.0827778)</td>\n      <td>17.017500</td>\n      <td>54.082778</td>\n      <td>75.20</td>\n      <td>78</td>\n      <td>0</td>\n      <td>2.24</td>\n    </tr>\n  </tbody>\n</table>\n</div>"
     },
     "metadata": {},
     "execution_count": 46
    }
   ],
   "source": [
    "#narrows down the dataframe to a dataframe with ideal weather\n",
    "ideal_weather = city_weather_df.loc[(city_weather_df['Temperature']>70)&(city_weather_df['Temperature']<80)&(city_weather_df['Wind Speed']<10)&(city_weather_df['Cloudiness']==0),:]\n",
    "\n",
    "#drops bad data\n",
    "ideal_weather.dropna()\n",
    "\n",
    "\n",
    "ideal_weather.head()"
   ]
  },
  {
   "cell_type": "markdown",
   "metadata": {},
   "source": [
    "### Hotel Map\n",
    "* Store into variable named `hotel_df`.\n",
    "* Add a \"Hotel Name\" column to the DataFrame.\n",
    "* Set parameters to search for hotels with 5000 meters.\n",
    "* Hit the Google Places API for each city's coordinates.\n",
    "* Store the first Hotel result into the DataFrame.\n",
    "* Plot markers on top of the heatmap."
   ]
  },
  {
   "cell_type": "code",
   "execution_count": 47,
   "metadata": {},
   "outputs": [
    {
     "output_type": "execute_result",
     "data": {
      "text/plain": [
       "          City Country   Latitude  Longitude  Temperature  Humidity  \\\n",
       "0     tsihombe      mg -25.300000  45.483333        72.05        66   \n",
       "1  farrukhabad      in  27.400000  79.566667        79.43        26   \n",
       "2     tessalit      ml  20.201389   1.008889        72.54        20   \n",
       "3    dharchula      in  29.850000  80.533333        71.13        20   \n",
       "4      salalah      om  17.017500  54.082778        75.20        78   \n",
       "\n",
       "   Cloudiness  Wind Speed Hotel Name Hotel Lat Hotel Lon  \n",
       "0           0        9.95                                 \n",
       "1           0        6.29                                 \n",
       "2           0        7.11                                 \n",
       "3           0        3.74                                 \n",
       "4           0        2.24                                 "
      ],
      "text/html": "<div>\n<style scoped>\n    .dataframe tbody tr th:only-of-type {\n        vertical-align: middle;\n    }\n\n    .dataframe tbody tr th {\n        vertical-align: top;\n    }\n\n    .dataframe thead th {\n        text-align: right;\n    }\n</style>\n<table border=\"1\" class=\"dataframe\">\n  <thead>\n    <tr style=\"text-align: right;\">\n      <th></th>\n      <th>City</th>\n      <th>Country</th>\n      <th>Latitude</th>\n      <th>Longitude</th>\n      <th>Temperature</th>\n      <th>Humidity</th>\n      <th>Cloudiness</th>\n      <th>Wind Speed</th>\n      <th>Hotel Name</th>\n      <th>Hotel Lat</th>\n      <th>Hotel Lon</th>\n    </tr>\n  </thead>\n  <tbody>\n    <tr>\n      <th>0</th>\n      <td>tsihombe</td>\n      <td>mg</td>\n      <td>-25.300000</td>\n      <td>45.483333</td>\n      <td>72.05</td>\n      <td>66</td>\n      <td>0</td>\n      <td>9.95</td>\n      <td></td>\n      <td></td>\n      <td></td>\n    </tr>\n    <tr>\n      <th>1</th>\n      <td>farrukhabad</td>\n      <td>in</td>\n      <td>27.400000</td>\n      <td>79.566667</td>\n      <td>79.43</td>\n      <td>26</td>\n      <td>0</td>\n      <td>6.29</td>\n      <td></td>\n      <td></td>\n      <td></td>\n    </tr>\n    <tr>\n      <th>2</th>\n      <td>tessalit</td>\n      <td>ml</td>\n      <td>20.201389</td>\n      <td>1.008889</td>\n      <td>72.54</td>\n      <td>20</td>\n      <td>0</td>\n      <td>7.11</td>\n      <td></td>\n      <td></td>\n      <td></td>\n    </tr>\n    <tr>\n      <th>3</th>\n      <td>dharchula</td>\n      <td>in</td>\n      <td>29.850000</td>\n      <td>80.533333</td>\n      <td>71.13</td>\n      <td>20</td>\n      <td>0</td>\n      <td>3.74</td>\n      <td></td>\n      <td></td>\n      <td></td>\n    </tr>\n    <tr>\n      <th>4</th>\n      <td>salalah</td>\n      <td>om</td>\n      <td>17.017500</td>\n      <td>54.082778</td>\n      <td>75.20</td>\n      <td>78</td>\n      <td>0</td>\n      <td>2.24</td>\n      <td></td>\n      <td></td>\n      <td></td>\n    </tr>\n  </tbody>\n</table>\n</div>"
     },
     "metadata": {},
     "execution_count": 47
    }
   ],
   "source": [
    "#simplifies and defines the hotel_df\n",
    "hotel_df=ideal_weather.drop(['Approximate Lat','Approximate Lon','Exact Coordinates'],axis=1).reset_index(drop=True)\n",
    "\n",
    "hotel_df.head()\n",
    "hotel_df['Hotel Name']=\"\"\n",
    "hotel_df['Hotel Lat']=\"\"\n",
    "hotel_df['Hotel Lon']=\"\"\n",
    "hotel_df=hotel_df.rename(columns={'City Name':'City','Country Code':'Country'})\n",
    "hotel_df.head()"
   ]
  },
  {
   "cell_type": "code",
   "execution_count": 48,
   "metadata": {},
   "outputs": [
    {
     "output_type": "execute_result",
     "data": {
      "text/plain": [
       "           City Country   Latitude   Longitude  Temperature  Humidity  \\\n",
       "0      tsihombe      mg -25.300000   45.483333        72.05        66   \n",
       "1   farrukhabad      in  27.400000   79.566667        79.43        26   \n",
       "3     dharchula      in  29.850000   80.533333        71.13        20   \n",
       "4       salalah      om  17.017500   54.082778        75.20        78   \n",
       "5        yulara      au -25.245291  130.980545        78.80        16   \n",
       "6         tehri      in  30.383333   78.483333        75.22        20   \n",
       "7      mangochi      mw -14.466667   35.266667        76.28        57   \n",
       "8         mecca      sa  21.426667   39.826111        75.72        47   \n",
       "9         jizan      sa  16.889167   42.551111        78.80        78   \n",
       "11         elat      il  29.558049   34.948212        71.60        68   \n",
       "13        nizwa      om  22.933333   57.533333        79.03        15   \n",
       "14        jamui      in  24.916667   86.216667        79.05        44   \n",
       "\n",
       "    Cloudiness  Wind Speed                                         Hotel Name  \\\n",
       "0            0        9.95                       Restaurant Le Paradis du sud   \n",
       "1            0        6.29                                 Hotel Mohan Palace   \n",
       "3            0        3.74                           Hotel new yash dharchula   \n",
       "4            0        2.24                                HYATT SALALAH HOTEL   \n",
       "5            0        9.17                                  Ayers Rock Resort   \n",
       "6            0        1.23                          Tehri Himalayan Residency   \n",
       "7            0        3.00                              Sunbird Nkopola Lodge   \n",
       "8            0        1.23                              Pullman Zamzam Makkah   \n",
       "9            0        3.36                          Radisson Blu Resort Jizan   \n",
       "11           0        9.17  Al Manara, a Luxury Collection Hotel, Saraya A...   \n",
       "13           0        4.07                                Antique Inn - Nizwa   \n",
       "14           0        8.63                              hotel j p grand jamui   \n",
       "\n",
       "   Hotel Lat Hotel Lon  \n",
       "0   -25.3187   45.4837  \n",
       "1     27.385   79.5742  \n",
       "3    29.8489   80.5415  \n",
       "4    17.0194   54.1108  \n",
       "5   -25.2377   130.986  \n",
       "6     30.383   78.4394  \n",
       "7   -14.4862   35.2533  \n",
       "8    21.4193   39.8247  \n",
       "9    16.9292   42.5485  \n",
       "11   29.5358   34.9933  \n",
       "13   22.9324   57.5305  \n",
       "14   24.9321   86.2278  "
      ],
      "text/html": "<div>\n<style scoped>\n    .dataframe tbody tr th:only-of-type {\n        vertical-align: middle;\n    }\n\n    .dataframe tbody tr th {\n        vertical-align: top;\n    }\n\n    .dataframe thead th {\n        text-align: right;\n    }\n</style>\n<table border=\"1\" class=\"dataframe\">\n  <thead>\n    <tr style=\"text-align: right;\">\n      <th></th>\n      <th>City</th>\n      <th>Country</th>\n      <th>Latitude</th>\n      <th>Longitude</th>\n      <th>Temperature</th>\n      <th>Humidity</th>\n      <th>Cloudiness</th>\n      <th>Wind Speed</th>\n      <th>Hotel Name</th>\n      <th>Hotel Lat</th>\n      <th>Hotel Lon</th>\n    </tr>\n  </thead>\n  <tbody>\n    <tr>\n      <th>0</th>\n      <td>tsihombe</td>\n      <td>mg</td>\n      <td>-25.300000</td>\n      <td>45.483333</td>\n      <td>72.05</td>\n      <td>66</td>\n      <td>0</td>\n      <td>9.95</td>\n      <td>Restaurant Le Paradis du sud</td>\n      <td>-25.3187</td>\n      <td>45.4837</td>\n    </tr>\n    <tr>\n      <th>1</th>\n      <td>farrukhabad</td>\n      <td>in</td>\n      <td>27.400000</td>\n      <td>79.566667</td>\n      <td>79.43</td>\n      <td>26</td>\n      <td>0</td>\n      <td>6.29</td>\n      <td>Hotel Mohan Palace</td>\n      <td>27.385</td>\n      <td>79.5742</td>\n    </tr>\n    <tr>\n      <th>3</th>\n      <td>dharchula</td>\n      <td>in</td>\n      <td>29.850000</td>\n      <td>80.533333</td>\n      <td>71.13</td>\n      <td>20</td>\n      <td>0</td>\n      <td>3.74</td>\n      <td>Hotel new yash dharchula</td>\n      <td>29.8489</td>\n      <td>80.5415</td>\n    </tr>\n    <tr>\n      <th>4</th>\n      <td>salalah</td>\n      <td>om</td>\n      <td>17.017500</td>\n      <td>54.082778</td>\n      <td>75.20</td>\n      <td>78</td>\n      <td>0</td>\n      <td>2.24</td>\n      <td>HYATT SALALAH HOTEL</td>\n      <td>17.0194</td>\n      <td>54.1108</td>\n    </tr>\n    <tr>\n      <th>5</th>\n      <td>yulara</td>\n      <td>au</td>\n      <td>-25.245291</td>\n      <td>130.980545</td>\n      <td>78.80</td>\n      <td>16</td>\n      <td>0</td>\n      <td>9.17</td>\n      <td>Ayers Rock Resort</td>\n      <td>-25.2377</td>\n      <td>130.986</td>\n    </tr>\n    <tr>\n      <th>6</th>\n      <td>tehri</td>\n      <td>in</td>\n      <td>30.383333</td>\n      <td>78.483333</td>\n      <td>75.22</td>\n      <td>20</td>\n      <td>0</td>\n      <td>1.23</td>\n      <td>Tehri Himalayan Residency</td>\n      <td>30.383</td>\n      <td>78.4394</td>\n    </tr>\n    <tr>\n      <th>7</th>\n      <td>mangochi</td>\n      <td>mw</td>\n      <td>-14.466667</td>\n      <td>35.266667</td>\n      <td>76.28</td>\n      <td>57</td>\n      <td>0</td>\n      <td>3.00</td>\n      <td>Sunbird Nkopola Lodge</td>\n      <td>-14.4862</td>\n      <td>35.2533</td>\n    </tr>\n    <tr>\n      <th>8</th>\n      <td>mecca</td>\n      <td>sa</td>\n      <td>21.426667</td>\n      <td>39.826111</td>\n      <td>75.72</td>\n      <td>47</td>\n      <td>0</td>\n      <td>1.23</td>\n      <td>Pullman Zamzam Makkah</td>\n      <td>21.4193</td>\n      <td>39.8247</td>\n    </tr>\n    <tr>\n      <th>9</th>\n      <td>jizan</td>\n      <td>sa</td>\n      <td>16.889167</td>\n      <td>42.551111</td>\n      <td>78.80</td>\n      <td>78</td>\n      <td>0</td>\n      <td>3.36</td>\n      <td>Radisson Blu Resort Jizan</td>\n      <td>16.9292</td>\n      <td>42.5485</td>\n    </tr>\n    <tr>\n      <th>11</th>\n      <td>elat</td>\n      <td>il</td>\n      <td>29.558049</td>\n      <td>34.948212</td>\n      <td>71.60</td>\n      <td>68</td>\n      <td>0</td>\n      <td>9.17</td>\n      <td>Al Manara, a Luxury Collection Hotel, Saraya A...</td>\n      <td>29.5358</td>\n      <td>34.9933</td>\n    </tr>\n    <tr>\n      <th>13</th>\n      <td>nizwa</td>\n      <td>om</td>\n      <td>22.933333</td>\n      <td>57.533333</td>\n      <td>79.03</td>\n      <td>15</td>\n      <td>0</td>\n      <td>4.07</td>\n      <td>Antique Inn - Nizwa</td>\n      <td>22.9324</td>\n      <td>57.5305</td>\n    </tr>\n    <tr>\n      <th>14</th>\n      <td>jamui</td>\n      <td>in</td>\n      <td>24.916667</td>\n      <td>86.216667</td>\n      <td>79.05</td>\n      <td>44</td>\n      <td>0</td>\n      <td>8.63</td>\n      <td>hotel j p grand jamui</td>\n      <td>24.9321</td>\n      <td>86.2278</td>\n    </tr>\n  </tbody>\n</table>\n</div>"
     },
     "metadata": {},
     "execution_count": 48
    }
   ],
   "source": [
    "\n",
    "### finds the closest hotel and fills in the hotel name and coordinates to the dataframe\n",
    "base_url = \"https://maps.googleapis.com/maps/api/place/nearbysearch/json\"\n",
    "\n",
    "target_search = \"Hotel\"\n",
    "target_radius = 5000\n",
    "target_type = \"Hotel\"\n",
    "\n",
    "for i,r in hotel_df.iterrows():\n",
    "    c_lat=hotel_df['Latitude'][i]\n",
    "    c_lon = hotel_df['Longitude'][i]\n",
    "    target_coordinates =f'{c_lat}, {c_lon}' \n",
    "    \n",
    "    param = {\n",
    "    \"location\": target_coordinates,\n",
    "    \"keyword\": target_search,\n",
    "    \"radius\": target_radius,\n",
    "    \"type\": target_type,\n",
    "    \"key\": g_key\n",
    "    }\n",
    "\n",
    "    places_json=requests.get(base_url,params=param).json()\n",
    "    ## tessalit is literally in the middle of the sahara desert and returns no results, so this is a work around\n",
    "\n",
    "    if places_json['status']=='ZERO_RESULTS':\n",
    "        hotel_df['Hotel Name'][i]=np.nan\n",
    "    else:\n",
    "        hotel_df['Hotel Name'][i]=places_json[\"results\"][0]['name']\n",
    "        hotel_df['Hotel Lat'][i]=places_json[\"results\"][0]['geometry']['location']['lat']\n",
    "        hotel_df['Hotel Lon'][i]=places_json[\"results\"][0]['geometry']['location']['lng']\n",
    "\n",
    "\n",
    "## Dropping the cities that returned no results \n",
    "hotel_df=hotel_df.dropna()\n",
    "\n",
    "hotel_df.head(30)\n"
   ]
  },
  {
   "cell_type": "code",
   "execution_count": 49,
   "metadata": {},
   "outputs": [],
   "source": [
    "# # #create a new folder and exports the dataframe\n",
    "\n",
    "def dataframe_to_csv(df):\n",
    "    current_directory=os.getcwd()\n",
    "    new_folder_path =os.path.join(current_directory,r'Export Folder')\n",
    "    if not os.path.exists(new_folder_path):\n",
    "        os.makedirs(new_folder_path)\n",
    "    csv_export_path = os.path.join(new_folder_path,'hotel_data.csv')\n",
    "    df.to_csv(csv_export_path,index=False)\n",
    "dataframe_to_csv(hotel_df)"
   ]
  },
  {
   "cell_type": "code",
   "execution_count": 50,
   "metadata": {},
   "outputs": [
    {
     "output_type": "execute_result",
     "data": {
      "text/plain": [
       "          City Country   Latitude   Longitude  Temperature  Humidity  \\\n",
       "0     tsihombe      mg -25.300000   45.483333        72.05        66   \n",
       "1  farrukhabad      in  27.400000   79.566667        79.43        26   \n",
       "2    dharchula      in  29.850000   80.533333        71.13        20   \n",
       "3      salalah      om  17.017500   54.082778        75.20        78   \n",
       "4       yulara      au -25.245291  130.980545        78.80        16   \n",
       "\n",
       "   Cloudiness  Wind Speed                    Hotel Name  Hotel Lat   Hotel Lon  \n",
       "0           0        9.95  Restaurant Le Paradis du sud -25.318744   45.483670  \n",
       "1           0        6.29            Hotel Mohan Palace  27.385038   79.574159  \n",
       "2           0        3.74      Hotel new yash dharchula  29.848928   80.541453  \n",
       "3           0        2.24           HYATT SALALAH HOTEL  17.019380   54.110750  \n",
       "4           0        9.17             Ayers Rock Resort -25.237719  130.985966  "
      ],
      "text/html": "<div>\n<style scoped>\n    .dataframe tbody tr th:only-of-type {\n        vertical-align: middle;\n    }\n\n    .dataframe tbody tr th {\n        vertical-align: top;\n    }\n\n    .dataframe thead th {\n        text-align: right;\n    }\n</style>\n<table border=\"1\" class=\"dataframe\">\n  <thead>\n    <tr style=\"text-align: right;\">\n      <th></th>\n      <th>City</th>\n      <th>Country</th>\n      <th>Latitude</th>\n      <th>Longitude</th>\n      <th>Temperature</th>\n      <th>Humidity</th>\n      <th>Cloudiness</th>\n      <th>Wind Speed</th>\n      <th>Hotel Name</th>\n      <th>Hotel Lat</th>\n      <th>Hotel Lon</th>\n    </tr>\n  </thead>\n  <tbody>\n    <tr>\n      <th>0</th>\n      <td>tsihombe</td>\n      <td>mg</td>\n      <td>-25.300000</td>\n      <td>45.483333</td>\n      <td>72.05</td>\n      <td>66</td>\n      <td>0</td>\n      <td>9.95</td>\n      <td>Restaurant Le Paradis du sud</td>\n      <td>-25.318744</td>\n      <td>45.483670</td>\n    </tr>\n    <tr>\n      <th>1</th>\n      <td>farrukhabad</td>\n      <td>in</td>\n      <td>27.400000</td>\n      <td>79.566667</td>\n      <td>79.43</td>\n      <td>26</td>\n      <td>0</td>\n      <td>6.29</td>\n      <td>Hotel Mohan Palace</td>\n      <td>27.385038</td>\n      <td>79.574159</td>\n    </tr>\n    <tr>\n      <th>2</th>\n      <td>dharchula</td>\n      <td>in</td>\n      <td>29.850000</td>\n      <td>80.533333</td>\n      <td>71.13</td>\n      <td>20</td>\n      <td>0</td>\n      <td>3.74</td>\n      <td>Hotel new yash dharchula</td>\n      <td>29.848928</td>\n      <td>80.541453</td>\n    </tr>\n    <tr>\n      <th>3</th>\n      <td>salalah</td>\n      <td>om</td>\n      <td>17.017500</td>\n      <td>54.082778</td>\n      <td>75.20</td>\n      <td>78</td>\n      <td>0</td>\n      <td>2.24</td>\n      <td>HYATT SALALAH HOTEL</td>\n      <td>17.019380</td>\n      <td>54.110750</td>\n    </tr>\n    <tr>\n      <th>4</th>\n      <td>yulara</td>\n      <td>au</td>\n      <td>-25.245291</td>\n      <td>130.980545</td>\n      <td>78.80</td>\n      <td>16</td>\n      <td>0</td>\n      <td>9.17</td>\n      <td>Ayers Rock Resort</td>\n      <td>-25.237719</td>\n      <td>130.985966</td>\n    </tr>\n  </tbody>\n</table>\n</div>"
     },
     "metadata": {},
     "execution_count": 50
    }
   ],
   "source": [
    "## import the csv file you just saved\n",
    "def import_path():\n",
    "    current_directory=os.getcwd()\n",
    "    import_path.new_folder_path =os.path.join(current_directory,r'Export Folder')\n",
    "    csv_export_path = os.path.join(import_path.new_folder_path,'hotel_data.csv')\n",
    "    return csv_export_path\n",
    "\n",
    "im_path=import_path()\n",
    "csv_imp_df=pd.read_csv(im_path,delimiter=',')\n",
    "csv_imp_df.head()"
   ]
  },
  {
   "cell_type": "code",
   "execution_count": 51,
   "metadata": {},
   "outputs": [
    {
     "output_type": "display_data",
     "data": {
      "text/plain": "Figure(layout=FigureLayout(height='420px'))",
      "application/vnd.jupyter.widget-view+json": {
       "version_major": 2,
       "version_minor": 0,
       "model_id": "7927ef8ad3ee4344b88fa1e4e37ed64e"
      }
     },
     "metadata": {}
    }
   ],
   "source": [
    "### plotting the hotel latitude and longitude\n",
    "y_locations=city_weather_df[['Latitude','Longitude']]\n",
    "x_locations=csv_imp_df[['Hotel Lat','Hotel Lon']]\n",
    "x_weighty=city_weather_df['Humidity']\n",
    "\n",
    "\n",
    "\n",
    "x_fig=gmaps.figure(center=(0,0),zoom_level=2)\n",
    "x_heat=gmaps.heatmap_layer(y_locations,weights=x_weighty,dissipating=True,max_intensity=100,point_radius=10)\n",
    "x_marks=gmaps.marker_layer(x_locations,info_box_content=\"filler info box text\")\n",
    "x_fig.add_layer(x_marks)\n",
    "x_fig.add_layer(x_heat)\n",
    "\n",
    "x_fig"
   ]
  },
  {
   "cell_type": "code",
   "execution_count": null,
   "metadata": {},
   "outputs": [],
   "source": []
  },
  {
   "cell_type": "code",
   "execution_count": 52,
   "metadata": {},
   "outputs": [],
   "source": [
    "## not sure what do do with this code\n",
    "\n",
    "# # Using the template add the hotel marks to the heatmap\n",
    "# info_box_template = \"\"\"\n",
    "# <dl>\n",
    "# <dt>Name</dt><dd>{Hotel Name}</dd>\n",
    "# <dt>City</dt><dd>{City}</dd>\n",
    "# <dt>Country</dt><dd>{Country}</dd>\n",
    "# </dl>\n",
    "# \"\"\"\n",
    "# # Store the DataFrame Row\n",
    "# # NOTE: be sure to update with your DataFrame name\n",
    "# hotel_info = [info_box_template.format(**row) for index, row in hotel_df.iterrows()]\n",
    "# x_locations = hotel_df[[\"Latitude\", \"Longitude\"]]\n",
    "\n",
    "# hotel_df[\"Hotel Info\"]=hotel_info\n",
    "\n",
    "# hotel_df.head()"
   ]
  },
  {
   "cell_type": "code",
   "execution_count": 53,
   "metadata": {},
   "outputs": [],
   "source": [
    "# # NOTE: Do not change any of the code in this cell\n",
    "\n",
    "# # Using the template add the hotel marks to the heatmap\n",
    "# info_box_template = \"\"\"\n",
    "# <dl>\n",
    "# <dt>Name</dt><dd>{Hotel Name}</dd>\n",
    "# <dt>City</dt><dd>{City}</dd>\n",
    "# <dt>Country</dt><dd>{Country}</dd>\n",
    "# </dl>\n",
    "# \"\"\"\n",
    "# # Store the DataFrame Row\n",
    "# # NOTE: be sure to update with your DataFrame name\n",
    "# hotel_info = [info_box_template.format(**row) for index, row in hotel_df.iterrows()]\n",
    "# locations = hotel_df[[\"Lat\", \"Lng\"]]"
   ]
  },
  {
   "cell_type": "code",
   "execution_count": 54,
   "metadata": {},
   "outputs": [],
   "source": [
    "# Add marker layer ontop of heat map\n",
    "\n",
    "\n",
    "# Display figure\n"
   ]
  },
  {
   "cell_type": "code",
   "execution_count": null,
   "metadata": {},
   "outputs": [],
   "source": []
  }
 ],
 "metadata": {
  "kernelspec": {
   "name": "Python 3.6.10 64-bit ('PythonData': conda)",
   "display_name": "Python 3.6.10 64-bit ('PythonData': conda)",
   "metadata": {
    "interpreter": {
     "hash": "7e7c916c673641125590bd307b68bb4342787996dc085909d7e5c72ee4d13010"
    }
   }
  },
  "language_info": {
   "codemirror_mode": {
    "name": "ipython",
    "version": 3
   },
   "file_extension": ".py",
   "mimetype": "text/x-python",
   "name": "python",
   "nbconvert_exporter": "python",
   "pygments_lexer": "ipython3",
   "version": "3.6.10-final"
  },
  "latex_envs": {
   "LaTeX_envs_menu_present": true,
   "autoclose": false,
   "autocomplete": true,
   "bibliofile": "biblio.bib",
   "cite_by": "apalike",
   "current_citInitial": 1,
   "eqLabelWithNumbers": true,
   "eqNumInitial": 1,
   "hotkeys": {
    "equation": "Ctrl-E",
    "itemize": "Ctrl-I"
   },
   "labels_anchors": false,
   "latex_user_defs": false,
   "report_style_numbering": false,
   "user_envs_cfg": false
  }
 },
 "nbformat": 4,
 "nbformat_minor": 4
}