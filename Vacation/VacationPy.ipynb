{
 "cells": [
  {
   "source": [
    "# VacationPy\n",
    "----\n"
   ],
   "cell_type": "markdown",
   "metadata": {}
  },
  {
   "source": [
    "\n",
    "\n",
    "------------------------------------\n",
    "- This code took about 18 seconds to run\n",
    "- i've ran it a couple times and there seems to be a bias around africa, the middle east, and india"
   ],
   "cell_type": "markdown",
   "metadata": {}
  },
  {
   "cell_type": "code",
   "execution_count": 96,
   "metadata": {},
   "outputs": [],
   "source": [
    "# Dependencies and Setup\n",
    "import matplotlib.pyplot as plt\n",
    "import pandas as pd\n",
    "import numpy as np\n",
    "import requests\n",
    "import gmaps\n",
    "import os\n",
    "import json\n",
    "\n",
    "from full_country import full_name_dict\n",
    "\n",
    "### this allows me to keep my keys in a folder outside my repo\n",
    "import sys\n",
    "try:\n",
    "    sys.path.insert(1,'/Users/Trav/Desktop/Coding/GitHub_Repositories/API_PACKAGE')\n",
    "    from api_keys import g_key\n",
    "except:\n",
    "    from api_keys import g_key\n",
    "\n",
    "\n",
    "\n"
   ]
  },
  {
   "cell_type": "markdown",
   "metadata": {},
   "source": [
    "### Store Part I results into DataFrame\n",
    "* Load the csv exported in Part I to a DataFrame"
   ]
  },
  {
   "cell_type": "code",
   "execution_count": 97,
   "metadata": {},
   "outputs": [
    {
     "output_type": "execute_result",
     "data": {
      "text/plain": [
       "   Approximate Lat  Approximate Lon      City Name Country Code  \\\n",
       "0           -11.43           -91.52  san cristobal           ec   \n",
       "1            34.58          -158.90          kapaa           us   \n",
       "2            66.21           -28.87       olafsvik           is   \n",
       "3            -9.39           -62.28      ariquemes           br   \n",
       "4            52.76           177.19   beringovskiy           ru   \n",
       "\n",
       "            Exact Coordinates   Latitude   Longitude  Temperature  Humidity  \\\n",
       "0   (-0.9166667, -89.5666667)  -0.916667  -89.566667        67.24        95   \n",
       "1  (22.0783333, -159.3219444)  22.078333 -159.321944        74.88        65   \n",
       "2     (64.883333, -23.716667)  64.883333  -23.716667        37.35        91   \n",
       "3     (-9.933333, -63.066667)  -9.933333  -63.066667        72.32        91   \n",
       "4         (63.05, 179.316667)  63.050000  179.316667        21.70        89   \n",
       "\n",
       "   Cloudiness  Wind Speed  Max Temp  \n",
       "0          86       10.04     67.24  \n",
       "1          75        4.70     78.80  \n",
       "2          76        6.87     37.35  \n",
       "3         100        4.63     72.32  \n",
       "4          62       13.11     21.70  "
      ],
      "text/html": "<div>\n<style scoped>\n    .dataframe tbody tr th:only-of-type {\n        vertical-align: middle;\n    }\n\n    .dataframe tbody tr th {\n        vertical-align: top;\n    }\n\n    .dataframe thead th {\n        text-align: right;\n    }\n</style>\n<table border=\"1\" class=\"dataframe\">\n  <thead>\n    <tr style=\"text-align: right;\">\n      <th></th>\n      <th>Approximate Lat</th>\n      <th>Approximate Lon</th>\n      <th>City Name</th>\n      <th>Country Code</th>\n      <th>Exact Coordinates</th>\n      <th>Latitude</th>\n      <th>Longitude</th>\n      <th>Temperature</th>\n      <th>Humidity</th>\n      <th>Cloudiness</th>\n      <th>Wind Speed</th>\n      <th>Max Temp</th>\n    </tr>\n  </thead>\n  <tbody>\n    <tr>\n      <th>0</th>\n      <td>-11.43</td>\n      <td>-91.52</td>\n      <td>san cristobal</td>\n      <td>ec</td>\n      <td>(-0.9166667, -89.5666667)</td>\n      <td>-0.916667</td>\n      <td>-89.566667</td>\n      <td>67.24</td>\n      <td>95</td>\n      <td>86</td>\n      <td>10.04</td>\n      <td>67.24</td>\n    </tr>\n    <tr>\n      <th>1</th>\n      <td>34.58</td>\n      <td>-158.90</td>\n      <td>kapaa</td>\n      <td>us</td>\n      <td>(22.0783333, -159.3219444)</td>\n      <td>22.078333</td>\n      <td>-159.321944</td>\n      <td>74.88</td>\n      <td>65</td>\n      <td>75</td>\n      <td>4.70</td>\n      <td>78.80</td>\n    </tr>\n    <tr>\n      <th>2</th>\n      <td>66.21</td>\n      <td>-28.87</td>\n      <td>olafsvik</td>\n      <td>is</td>\n      <td>(64.883333, -23.716667)</td>\n      <td>64.883333</td>\n      <td>-23.716667</td>\n      <td>37.35</td>\n      <td>91</td>\n      <td>76</td>\n      <td>6.87</td>\n      <td>37.35</td>\n    </tr>\n    <tr>\n      <th>3</th>\n      <td>-9.39</td>\n      <td>-62.28</td>\n      <td>ariquemes</td>\n      <td>br</td>\n      <td>(-9.933333, -63.066667)</td>\n      <td>-9.933333</td>\n      <td>-63.066667</td>\n      <td>72.32</td>\n      <td>91</td>\n      <td>100</td>\n      <td>4.63</td>\n      <td>72.32</td>\n    </tr>\n    <tr>\n      <th>4</th>\n      <td>52.76</td>\n      <td>177.19</td>\n      <td>beringovskiy</td>\n      <td>ru</td>\n      <td>(63.05, 179.316667)</td>\n      <td>63.050000</td>\n      <td>179.316667</td>\n      <td>21.70</td>\n      <td>89</td>\n      <td>62</td>\n      <td>13.11</td>\n      <td>21.70</td>\n    </tr>\n  </tbody>\n</table>\n</div>"
     },
     "metadata": {},
     "execution_count": 97
    }
   ],
   "source": [
    "## import csv to dataframe, add try block to deal with directory issues\n",
    "csv_import_path = os.path.join('..','Weather','Export Folder','city_data.csv')\n",
    "city_weather_df=pd.read_csv(csv_import_path)\n",
    "\n",
    "city_weather_df.head()\n",
    "\n",
    "# # ### using this to limit the request, remove once completed\n",
    "# city_weather_df=city_weather_df.head()\n",
    "# city_weather_df.head(20)"
   ]
  },
  {
   "cell_type": "markdown",
   "metadata": {},
   "source": [
    "### Humidity Heatmap\n",
    "* Configure gmaps.\n",
    "* Use the Lat and Lng as locations and Humidity as the weight.\n",
    "* Add Heatmap layer to map."
   ]
  },
  {
   "cell_type": "code",
   "execution_count": 98,
   "metadata": {},
   "outputs": [],
   "source": [
    "#configure gmaps with key\n",
    "gmaps.configure(api_key=g_key)"
   ]
  },
  {
   "cell_type": "code",
   "execution_count": 99,
   "metadata": {},
   "outputs": [
    {
     "output_type": "display_data",
     "data": {
      "text/plain": "Figure(layout=FigureLayout(height='420px'))",
      "application/vnd.jupyter.widget-view+json": {
       "version_major": 2,
       "version_minor": 0,
       "model_id": "18160a39c5244a01aa55cfc680a14500"
      }
     },
     "metadata": {}
    }
   ],
   "source": [
    "\n",
    "#defines coordinates to plot and weight is humididty\n",
    "### shoul these be .astype(float)\n",
    "locations=city_weather_df[['Latitude','Longitude']]\n",
    "weighty=city_weather_df['Humidity']\n",
    "\n",
    "fig=gmaps.figure(center=(0,0),zoom_level=2)\n",
    "heat=gmaps.heatmap_layer(locations,weights=weighty,dissipating=True,max_intensity=200,point_radius=20)\n",
    "fig.add_layer(heat)\n",
    "\n",
    "\n",
    "fig"
   ]
  },
  {
   "cell_type": "markdown",
   "metadata": {},
   "source": [
    "### Create new DataFrame fitting weather criteria\n",
    "* Narrow down the cities to fit weather conditions.\n",
    "* Drop any rows will null values."
   ]
  },
  {
   "cell_type": "code",
   "execution_count": 100,
   "metadata": {},
   "outputs": [
    {
     "output_type": "execute_result",
     "data": {
      "text/plain": [
       "     Approximate Lat  Approximate Lon City Name Country Code  \\\n",
       "46            -22.83          -109.38   rikitea           pf   \n",
       "209            29.34            34.52      elat           il   \n",
       "222            19.26            53.31   salalah           om   \n",
       "237           -29.55           151.18  inverell           au   \n",
       "274            32.32            41.55       hit           iq   \n",
       "\n",
       "               Exact Coordinates   Latitude   Longitude  Temperature  \\\n",
       "46   (-23.1202778, -134.9691667) -23.120278 -134.969167        76.01   \n",
       "209       (29.558049, 34.948212)  29.558049   34.948212        75.20   \n",
       "222        (17.0175, 54.0827778)  17.017500   54.082778        77.00   \n",
       "237     (-29.774031, 151.111664) -29.774031  151.111664        73.00   \n",
       "274        (33.6366667, 42.8225)  33.636667   42.822500        71.15   \n",
       "\n",
       "     Humidity  Cloudiness  Wind Speed  Max Temp  \n",
       "46         67           0        4.00     76.01  \n",
       "209        64           0        9.17     75.20  \n",
       "222        36           0        4.70     77.00  \n",
       "237        24           0        7.00     73.00  \n",
       "274        20           0        3.31     71.15  "
      ],
      "text/html": "<div>\n<style scoped>\n    .dataframe tbody tr th:only-of-type {\n        vertical-align: middle;\n    }\n\n    .dataframe tbody tr th {\n        vertical-align: top;\n    }\n\n    .dataframe thead th {\n        text-align: right;\n    }\n</style>\n<table border=\"1\" class=\"dataframe\">\n  <thead>\n    <tr style=\"text-align: right;\">\n      <th></th>\n      <th>Approximate Lat</th>\n      <th>Approximate Lon</th>\n      <th>City Name</th>\n      <th>Country Code</th>\n      <th>Exact Coordinates</th>\n      <th>Latitude</th>\n      <th>Longitude</th>\n      <th>Temperature</th>\n      <th>Humidity</th>\n      <th>Cloudiness</th>\n      <th>Wind Speed</th>\n      <th>Max Temp</th>\n    </tr>\n  </thead>\n  <tbody>\n    <tr>\n      <th>46</th>\n      <td>-22.83</td>\n      <td>-109.38</td>\n      <td>rikitea</td>\n      <td>pf</td>\n      <td>(-23.1202778, -134.9691667)</td>\n      <td>-23.120278</td>\n      <td>-134.969167</td>\n      <td>76.01</td>\n      <td>67</td>\n      <td>0</td>\n      <td>4.00</td>\n      <td>76.01</td>\n    </tr>\n    <tr>\n      <th>209</th>\n      <td>29.34</td>\n      <td>34.52</td>\n      <td>elat</td>\n      <td>il</td>\n      <td>(29.558049, 34.948212)</td>\n      <td>29.558049</td>\n      <td>34.948212</td>\n      <td>75.20</td>\n      <td>64</td>\n      <td>0</td>\n      <td>9.17</td>\n      <td>75.20</td>\n    </tr>\n    <tr>\n      <th>222</th>\n      <td>19.26</td>\n      <td>53.31</td>\n      <td>salalah</td>\n      <td>om</td>\n      <td>(17.0175, 54.0827778)</td>\n      <td>17.017500</td>\n      <td>54.082778</td>\n      <td>77.00</td>\n      <td>36</td>\n      <td>0</td>\n      <td>4.70</td>\n      <td>77.00</td>\n    </tr>\n    <tr>\n      <th>237</th>\n      <td>-29.55</td>\n      <td>151.18</td>\n      <td>inverell</td>\n      <td>au</td>\n      <td>(-29.774031, 151.111664)</td>\n      <td>-29.774031</td>\n      <td>151.111664</td>\n      <td>73.00</td>\n      <td>24</td>\n      <td>0</td>\n      <td>7.00</td>\n      <td>73.00</td>\n    </tr>\n    <tr>\n      <th>274</th>\n      <td>32.32</td>\n      <td>41.55</td>\n      <td>hit</td>\n      <td>iq</td>\n      <td>(33.6366667, 42.8225)</td>\n      <td>33.636667</td>\n      <td>42.822500</td>\n      <td>71.15</td>\n      <td>20</td>\n      <td>0</td>\n      <td>3.31</td>\n      <td>71.15</td>\n    </tr>\n  </tbody>\n</table>\n</div>"
     },
     "metadata": {},
     "execution_count": 100
    }
   ],
   "source": [
    "#narrows down the dataframe to a dataframe with ideal weather\n",
    "ideal_weather = city_weather_df.loc[(city_weather_df['Max Temp']>70)&(city_weather_df['Max Temp']<80)&(city_weather_df['Wind Speed']<10)&(city_weather_df['Cloudiness']==0),:]\n",
    "\n",
    "#drops bad data\n",
    "ideal_weather.dropna()\n",
    "\n",
    "\n",
    "ideal_weather.head()"
   ]
  },
  {
   "cell_type": "markdown",
   "metadata": {},
   "source": [
    "### Hotel Map\n",
    "* Store into variable named `hotel_df`.\n",
    "* Add a \"Hotel Name\" column to the DataFrame.\n",
    "* Set parameters to search for hotels with 5000 meters.\n",
    "* Hit the Google Places API for each city's coordinates.\n",
    "* Store the first Hotel result into the DataFrame.\n",
    "* Plot markers on top of the heatmap."
   ]
  },
  {
   "cell_type": "code",
   "execution_count": 101,
   "metadata": {},
   "outputs": [
    {
     "output_type": "execute_result",
     "data": {
      "text/plain": [
       "  Country Code     Country      City   Latitude   Longitude  Temperature  \\\n",
       "0           AU   Australia  inverell -29.774031  151.111664        73.00   \n",
       "1           EG       Egypt     aswan  24.087500   32.898889        76.82   \n",
       "2           IL      Israel      elat  29.558049   34.948212        75.20   \n",
       "3           IQ        Iraq       hit  33.636667   42.822500        71.15   \n",
       "4           MG  Madagascar  tsihombe -25.300000   45.483333        74.32   \n",
       "\n",
       "   Humidity  Cloudiness  Wind Speed  Max Temp Hotel Name Hotel Lat Hotel Lon  \n",
       "0        24           0        7.00     73.00                                 \n",
       "1        52           0        3.80     76.82                                 \n",
       "2        64           0        9.17     75.20                                 \n",
       "3        20           0        3.31     71.15                                 \n",
       "4        50           0        8.03     74.32                                 "
      ],
      "text/html": "<div>\n<style scoped>\n    .dataframe tbody tr th:only-of-type {\n        vertical-align: middle;\n    }\n\n    .dataframe tbody tr th {\n        vertical-align: top;\n    }\n\n    .dataframe thead th {\n        text-align: right;\n    }\n</style>\n<table border=\"1\" class=\"dataframe\">\n  <thead>\n    <tr style=\"text-align: right;\">\n      <th></th>\n      <th>Country Code</th>\n      <th>Country</th>\n      <th>City</th>\n      <th>Latitude</th>\n      <th>Longitude</th>\n      <th>Temperature</th>\n      <th>Humidity</th>\n      <th>Cloudiness</th>\n      <th>Wind Speed</th>\n      <th>Max Temp</th>\n      <th>Hotel Name</th>\n      <th>Hotel Lat</th>\n      <th>Hotel Lon</th>\n    </tr>\n  </thead>\n  <tbody>\n    <tr>\n      <th>0</th>\n      <td>AU</td>\n      <td>Australia</td>\n      <td>inverell</td>\n      <td>-29.774031</td>\n      <td>151.111664</td>\n      <td>73.00</td>\n      <td>24</td>\n      <td>0</td>\n      <td>7.00</td>\n      <td>73.00</td>\n      <td></td>\n      <td></td>\n      <td></td>\n    </tr>\n    <tr>\n      <th>1</th>\n      <td>EG</td>\n      <td>Egypt</td>\n      <td>aswan</td>\n      <td>24.087500</td>\n      <td>32.898889</td>\n      <td>76.82</td>\n      <td>52</td>\n      <td>0</td>\n      <td>3.80</td>\n      <td>76.82</td>\n      <td></td>\n      <td></td>\n      <td></td>\n    </tr>\n    <tr>\n      <th>2</th>\n      <td>IL</td>\n      <td>Israel</td>\n      <td>elat</td>\n      <td>29.558049</td>\n      <td>34.948212</td>\n      <td>75.20</td>\n      <td>64</td>\n      <td>0</td>\n      <td>9.17</td>\n      <td>75.20</td>\n      <td></td>\n      <td></td>\n      <td></td>\n    </tr>\n    <tr>\n      <th>3</th>\n      <td>IQ</td>\n      <td>Iraq</td>\n      <td>hit</td>\n      <td>33.636667</td>\n      <td>42.822500</td>\n      <td>71.15</td>\n      <td>20</td>\n      <td>0</td>\n      <td>3.31</td>\n      <td>71.15</td>\n      <td></td>\n      <td></td>\n      <td></td>\n    </tr>\n    <tr>\n      <th>4</th>\n      <td>MG</td>\n      <td>Madagascar</td>\n      <td>tsihombe</td>\n      <td>-25.300000</td>\n      <td>45.483333</td>\n      <td>74.32</td>\n      <td>50</td>\n      <td>0</td>\n      <td>8.03</td>\n      <td>74.32</td>\n      <td></td>\n      <td></td>\n      <td></td>\n    </tr>\n  </tbody>\n</table>\n</div>"
     },
     "metadata": {},
     "execution_count": 101
    }
   ],
   "source": [
    "#simplifies and defines the hotel_df\n",
    "hotel_df=ideal_weather.drop(['Approximate Lat','Approximate Lon','Exact Coordinates'],axis=1).reset_index(drop=True)\n",
    "\n",
    "#creates blank series that will be filled in\n",
    "hotel_df['Hotel Name']=\"\"\n",
    "hotel_df['Hotel Lat']=\"\"\n",
    "hotel_df['Hotel Lon']=\"\"\n",
    "# #renaming and making uppercase\n",
    "# hotel_df=hotel_df.rename(columns={'City Name':'City','Country Code':'Country'})\n",
    "hotel_df['Country Code']=hotel_df['Country Code'].str.upper()\n",
    "\n",
    "hotel_df=hotel_df.rename(columns={'City Name':'City'})\n",
    "#creating a dataframe from the countries full names\n",
    "country_name_df=pd.DataFrame.from_dict(full_name_dict,orient='index').reset_index()\n",
    "country_name_df=country_name_df.rename(columns={'index':'Country Code',0:'Country'})\n",
    "\n",
    "#merging in the country names\n",
    "\n",
    "hotel_df=pd.merge(country_name_df,hotel_df,on=\"Country Code\",how='right')\n",
    "\n",
    "hotel_df.head()"
   ]
  },
  {
   "cell_type": "code",
   "execution_count": 102,
   "metadata": {},
   "outputs": [
    {
     "output_type": "execute_result",
     "data": {
      "text/plain": [
       "  Country Code           Country      City   Latitude   Longitude  \\\n",
       "0           AU         Australia  inverell -29.774031  151.111664   \n",
       "1           EG             Egypt     aswan  24.087500   32.898889   \n",
       "2           IL            Israel      elat  29.558049   34.948212   \n",
       "4           MG        Madagascar  tsihombe -25.300000   45.483333   \n",
       "6           OM              Oman   salalah  17.017500   54.082778   \n",
       "7           PF  French Polynesia   rikitea -23.120278 -134.969167   \n",
       "9           ZM            Zambia   serenje -13.233333   30.233333   \n",
       "\n",
       "   Temperature  Humidity  Cloudiness  Wind Speed  Max Temp  \\\n",
       "0        73.00        24           0        7.00     73.00   \n",
       "1        76.82        52           0        3.80     76.82   \n",
       "2        75.20        64           0        9.17     75.20   \n",
       "4        74.32        50           0        8.03     74.32   \n",
       "6        77.00        36           0        4.70     77.00   \n",
       "7        76.01        67           0        4.00     76.01   \n",
       "9        70.84        48           0        9.93     70.84   \n",
       "\n",
       "                                          Hotel Name Hotel Lat Hotel Lon  \n",
       "0                 Cousins Motor Inn - 3.5 Star Rated  -29.7794   151.116  \n",
       "1                  Sofitel Legend Old Cataract Aswan   24.0942   32.8974  \n",
       "2  Al Manara, a Luxury Collection Hotel, Saraya A...   29.5358   34.9933  \n",
       "4                       Restaurant Le Paradis du sud  -25.3187   45.4837  \n",
       "6                                HYATT SALALAH HOTEL   17.0194   54.1108  \n",
       "7                                     Pension Maro'i  -23.1206  -134.969  \n",
       "9                                   SERENJE SOCH INN  -13.2251   30.2287  "
      ],
      "text/html": "<div>\n<style scoped>\n    .dataframe tbody tr th:only-of-type {\n        vertical-align: middle;\n    }\n\n    .dataframe tbody tr th {\n        vertical-align: top;\n    }\n\n    .dataframe thead th {\n        text-align: right;\n    }\n</style>\n<table border=\"1\" class=\"dataframe\">\n  <thead>\n    <tr style=\"text-align: right;\">\n      <th></th>\n      <th>Country Code</th>\n      <th>Country</th>\n      <th>City</th>\n      <th>Latitude</th>\n      <th>Longitude</th>\n      <th>Temperature</th>\n      <th>Humidity</th>\n      <th>Cloudiness</th>\n      <th>Wind Speed</th>\n      <th>Max Temp</th>\n      <th>Hotel Name</th>\n      <th>Hotel Lat</th>\n      <th>Hotel Lon</th>\n    </tr>\n  </thead>\n  <tbody>\n    <tr>\n      <th>0</th>\n      <td>AU</td>\n      <td>Australia</td>\n      <td>inverell</td>\n      <td>-29.774031</td>\n      <td>151.111664</td>\n      <td>73.00</td>\n      <td>24</td>\n      <td>0</td>\n      <td>7.00</td>\n      <td>73.00</td>\n      <td>Cousins Motor Inn - 3.5 Star Rated</td>\n      <td>-29.7794</td>\n      <td>151.116</td>\n    </tr>\n    <tr>\n      <th>1</th>\n      <td>EG</td>\n      <td>Egypt</td>\n      <td>aswan</td>\n      <td>24.087500</td>\n      <td>32.898889</td>\n      <td>76.82</td>\n      <td>52</td>\n      <td>0</td>\n      <td>3.80</td>\n      <td>76.82</td>\n      <td>Sofitel Legend Old Cataract Aswan</td>\n      <td>24.0942</td>\n      <td>32.8974</td>\n    </tr>\n    <tr>\n      <th>2</th>\n      <td>IL</td>\n      <td>Israel</td>\n      <td>elat</td>\n      <td>29.558049</td>\n      <td>34.948212</td>\n      <td>75.20</td>\n      <td>64</td>\n      <td>0</td>\n      <td>9.17</td>\n      <td>75.20</td>\n      <td>Al Manara, a Luxury Collection Hotel, Saraya A...</td>\n      <td>29.5358</td>\n      <td>34.9933</td>\n    </tr>\n    <tr>\n      <th>4</th>\n      <td>MG</td>\n      <td>Madagascar</td>\n      <td>tsihombe</td>\n      <td>-25.300000</td>\n      <td>45.483333</td>\n      <td>74.32</td>\n      <td>50</td>\n      <td>0</td>\n      <td>8.03</td>\n      <td>74.32</td>\n      <td>Restaurant Le Paradis du sud</td>\n      <td>-25.3187</td>\n      <td>45.4837</td>\n    </tr>\n    <tr>\n      <th>6</th>\n      <td>OM</td>\n      <td>Oman</td>\n      <td>salalah</td>\n      <td>17.017500</td>\n      <td>54.082778</td>\n      <td>77.00</td>\n      <td>36</td>\n      <td>0</td>\n      <td>4.70</td>\n      <td>77.00</td>\n      <td>HYATT SALALAH HOTEL</td>\n      <td>17.0194</td>\n      <td>54.1108</td>\n    </tr>\n    <tr>\n      <th>7</th>\n      <td>PF</td>\n      <td>French Polynesia</td>\n      <td>rikitea</td>\n      <td>-23.120278</td>\n      <td>-134.969167</td>\n      <td>76.01</td>\n      <td>67</td>\n      <td>0</td>\n      <td>4.00</td>\n      <td>76.01</td>\n      <td>Pension Maro'i</td>\n      <td>-23.1206</td>\n      <td>-134.969</td>\n    </tr>\n    <tr>\n      <th>9</th>\n      <td>ZM</td>\n      <td>Zambia</td>\n      <td>serenje</td>\n      <td>-13.233333</td>\n      <td>30.233333</td>\n      <td>70.84</td>\n      <td>48</td>\n      <td>0</td>\n      <td>9.93</td>\n      <td>70.84</td>\n      <td>SERENJE SOCH INN</td>\n      <td>-13.2251</td>\n      <td>30.2287</td>\n    </tr>\n  </tbody>\n</table>\n</div>"
     },
     "metadata": {},
     "execution_count": 102
    }
   ],
   "source": [
    "\n",
    "### finds the closest hotel and fills in the hotel name and coordinates to the dataframe\n",
    "base_url = \"https://maps.googleapis.com/maps/api/place/nearbysearch/json\"\n",
    "\n",
    "target_search = \"Hotel\"\n",
    "target_radius = 5000\n",
    "target_type = \"Hotel\"\n",
    "\n",
    "for i,r in hotel_df.iterrows():\n",
    "    c_lat=hotel_df['Latitude'][i]\n",
    "    c_lon = hotel_df['Longitude'][i]\n",
    "    target_coordinates =f'{c_lat}, {c_lon}' \n",
    "    \n",
    "    param = {\n",
    "    \"location\": target_coordinates,\n",
    "    \"keyword\": target_search,\n",
    "    \"radius\": target_radius,\n",
    "    \"type\": target_type,\n",
    "    \"key\": g_key\n",
    "    }\n",
    "\n",
    "    places_json=requests.get(base_url,params=param).json()\n",
    "    ## the city tessalit is literally in the middle of the sahara desert and returns no results, so this is a work around.\n",
    "\n",
    "    if places_json['status']=='ZERO_RESULTS':\n",
    "        hotel_df['Hotel Name'][i]=np.nan\n",
    "    else:\n",
    "        hotel_df['Hotel Name'][i]=places_json[\"results\"][0]['name']\n",
    "        hotel_df['Hotel Lat'][i]=places_json[\"results\"][0]['geometry']['location']['lat']\n",
    "        hotel_df['Hotel Lon'][i]=places_json[\"results\"][0]['geometry']['location']['lng']\n",
    "\n",
    "\n",
    "## Dropping the cities that returned no results \n",
    "hotel_df=hotel_df.dropna()\n",
    "\n",
    "hotel_df.head(30)\n"
   ]
  },
  {
   "cell_type": "code",
   "execution_count": 103,
   "metadata": {},
   "outputs": [],
   "source": [
    "# # #create a new folder and exports the dataframe\n",
    "\n",
    "def dataframe_to_csv(df):\n",
    "    current_directory=os.getcwd()\n",
    "    new_folder_path =os.path.join(current_directory,r'Export Folder')\n",
    "    if not os.path.exists(new_folder_path):\n",
    "        os.makedirs(new_folder_path)\n",
    "    csv_export_path = os.path.join(new_folder_path,'hotel_data.csv')\n",
    "    df.to_csv(csv_export_path,index=False)\n",
    "dataframe_to_csv(hotel_df)"
   ]
  },
  {
   "cell_type": "code",
   "execution_count": 104,
   "metadata": {},
   "outputs": [
    {
     "output_type": "execute_result",
     "data": {
      "text/plain": [
       "  Country Code     Country      City   Latitude   Longitude  Temperature  \\\n",
       "0           AU   Australia  inverell -29.774031  151.111664        73.00   \n",
       "1           EG       Egypt     aswan  24.087500   32.898889        76.82   \n",
       "2           IL      Israel      elat  29.558049   34.948212        75.20   \n",
       "3           MG  Madagascar  tsihombe -25.300000   45.483333        74.32   \n",
       "4           OM        Oman   salalah  17.017500   54.082778        77.00   \n",
       "\n",
       "   Humidity  Cloudiness  Wind Speed  Max Temp  \\\n",
       "0        24           0        7.00     73.00   \n",
       "1        52           0        3.80     76.82   \n",
       "2        64           0        9.17     75.20   \n",
       "3        50           0        8.03     74.32   \n",
       "4        36           0        4.70     77.00   \n",
       "\n",
       "                                          Hotel Name  Hotel Lat   Hotel Lon  \n",
       "0                 Cousins Motor Inn - 3.5 Star Rated -29.779394  151.116486  \n",
       "1                  Sofitel Legend Old Cataract Aswan  24.094242   32.897351  \n",
       "2  Al Manara, a Luxury Collection Hotel, Saraya A...  29.535782   34.993276  \n",
       "3                       Restaurant Le Paradis du sud -25.318744   45.483670  \n",
       "4                                HYATT SALALAH HOTEL  17.019380   54.110750  "
      ],
      "text/html": "<div>\n<style scoped>\n    .dataframe tbody tr th:only-of-type {\n        vertical-align: middle;\n    }\n\n    .dataframe tbody tr th {\n        vertical-align: top;\n    }\n\n    .dataframe thead th {\n        text-align: right;\n    }\n</style>\n<table border=\"1\" class=\"dataframe\">\n  <thead>\n    <tr style=\"text-align: right;\">\n      <th></th>\n      <th>Country Code</th>\n      <th>Country</th>\n      <th>City</th>\n      <th>Latitude</th>\n      <th>Longitude</th>\n      <th>Temperature</th>\n      <th>Humidity</th>\n      <th>Cloudiness</th>\n      <th>Wind Speed</th>\n      <th>Max Temp</th>\n      <th>Hotel Name</th>\n      <th>Hotel Lat</th>\n      <th>Hotel Lon</th>\n    </tr>\n  </thead>\n  <tbody>\n    <tr>\n      <th>0</th>\n      <td>AU</td>\n      <td>Australia</td>\n      <td>inverell</td>\n      <td>-29.774031</td>\n      <td>151.111664</td>\n      <td>73.00</td>\n      <td>24</td>\n      <td>0</td>\n      <td>7.00</td>\n      <td>73.00</td>\n      <td>Cousins Motor Inn - 3.5 Star Rated</td>\n      <td>-29.779394</td>\n      <td>151.116486</td>\n    </tr>\n    <tr>\n      <th>1</th>\n      <td>EG</td>\n      <td>Egypt</td>\n      <td>aswan</td>\n      <td>24.087500</td>\n      <td>32.898889</td>\n      <td>76.82</td>\n      <td>52</td>\n      <td>0</td>\n      <td>3.80</td>\n      <td>76.82</td>\n      <td>Sofitel Legend Old Cataract Aswan</td>\n      <td>24.094242</td>\n      <td>32.897351</td>\n    </tr>\n    <tr>\n      <th>2</th>\n      <td>IL</td>\n      <td>Israel</td>\n      <td>elat</td>\n      <td>29.558049</td>\n      <td>34.948212</td>\n      <td>75.20</td>\n      <td>64</td>\n      <td>0</td>\n      <td>9.17</td>\n      <td>75.20</td>\n      <td>Al Manara, a Luxury Collection Hotel, Saraya A...</td>\n      <td>29.535782</td>\n      <td>34.993276</td>\n    </tr>\n    <tr>\n      <th>3</th>\n      <td>MG</td>\n      <td>Madagascar</td>\n      <td>tsihombe</td>\n      <td>-25.300000</td>\n      <td>45.483333</td>\n      <td>74.32</td>\n      <td>50</td>\n      <td>0</td>\n      <td>8.03</td>\n      <td>74.32</td>\n      <td>Restaurant Le Paradis du sud</td>\n      <td>-25.318744</td>\n      <td>45.483670</td>\n    </tr>\n    <tr>\n      <th>4</th>\n      <td>OM</td>\n      <td>Oman</td>\n      <td>salalah</td>\n      <td>17.017500</td>\n      <td>54.082778</td>\n      <td>77.00</td>\n      <td>36</td>\n      <td>0</td>\n      <td>4.70</td>\n      <td>77.00</td>\n      <td>HYATT SALALAH HOTEL</td>\n      <td>17.019380</td>\n      <td>54.110750</td>\n    </tr>\n  </tbody>\n</table>\n</div>"
     },
     "metadata": {},
     "execution_count": 104
    }
   ],
   "source": [
    "## import the csv file you just saved\n",
    "def import_path():\n",
    "    current_directory=os.getcwd()\n",
    "    import_path.new_folder_path =os.path.join(current_directory,r'Export Folder')\n",
    "    csv_export_path = os.path.join(import_path.new_folder_path,'hotel_data.csv')\n",
    "    return csv_export_path\n",
    "\n",
    "im_path=import_path()\n",
    "csv_imp_df=pd.read_csv(im_path,delimiter=',')\n",
    "csv_imp_df.head()"
   ]
  },
  {
   "cell_type": "code",
   "execution_count": 105,
   "metadata": {},
   "outputs": [],
   "source": [
    "\n",
    "\n",
    "# Using the template add the hotel marks to the heatmap\n",
    "info_box_template = \"\"\"\n",
    "<dl>\n",
    "<dt>Name</dt><dd>{Hotel Name}</dd>\n",
    "<dt>City</dt><dd>{City}</dd>\n",
    "<dt>Country</dt><dd>{Country}</dd>\n",
    "</dl>\n",
    "\"\"\"\n",
    "# Store the DataFrame Row\n",
    "# NOTE: be sure to update with your DataFrame name\n",
    "hotel_info = [info_box_template.format(**row) for index, row in csv_imp_df.iterrows()]\n",
    "\n",
    "# hotel_info\n"
   ]
  },
  {
   "cell_type": "code",
   "execution_count": 106,
   "metadata": {},
   "outputs": [
    {
     "output_type": "display_data",
     "data": {
      "text/plain": "Figure(layout=FigureLayout(height='420px'))",
      "application/vnd.jupyter.widget-view+json": {
       "version_major": 2,
       "version_minor": 0,
       "model_id": "9d7247473956488f9bce9ddb71f74489"
      }
     },
     "metadata": {}
    }
   ],
   "source": [
    "### plotting heat map and hotel locations\n",
    "y_locations=city_weather_df[['Latitude','Longitude']]\n",
    "x_locations=csv_imp_df[['Hotel Lat','Hotel Lon']]\n",
    "x_weighty=city_weather_df['Humidity']\n",
    "\n",
    "\n",
    "\n",
    "x_fig=gmaps.figure(center=(0,0),zoom_level=2)\n",
    "x_heat=gmaps.heatmap_layer(y_locations,weights=x_weighty,dissipating=True,max_intensity=200,point_radius=20)\n",
    "x_marks=gmaps.marker_layer(x_locations,info_box_content=hotel_info)\n",
    "x_fig.add_layer(x_marks)\n",
    "x_fig.add_layer(x_heat)\n",
    "\n",
    "x_fig"
   ]
  },
  {
   "cell_type": "code",
   "execution_count": null,
   "metadata": {},
   "outputs": [],
   "source": []
  }
 ],
 "metadata": {
  "kernelspec": {
   "name": "Python 3.6.10 64-bit ('PythonData': conda)",
   "display_name": "Python 3.6.10 64-bit ('PythonData': conda)",
   "metadata": {
    "interpreter": {
     "hash": "7e7c916c673641125590bd307b68bb4342787996dc085909d7e5c72ee4d13010"
    }
   }
  },
  "language_info": {
   "codemirror_mode": {
    "name": "ipython",
    "version": 3
   },
   "file_extension": ".py",
   "mimetype": "text/x-python",
   "name": "python",
   "nbconvert_exporter": "python",
   "pygments_lexer": "ipython3",
   "version": "3.6.10-final"
  },
  "latex_envs": {
   "LaTeX_envs_menu_present": true,
   "autoclose": false,
   "autocomplete": true,
   "bibliofile": "biblio.bib",
   "cite_by": "apalike",
   "current_citInitial": 1,
   "eqLabelWithNumbers": true,
   "eqNumInitial": 1,
   "hotkeys": {
    "equation": "Ctrl-E",
    "itemize": "Ctrl-I"
   },
   "labels_anchors": false,
   "latex_user_defs": false,
   "report_style_numbering": false,
   "user_envs_cfg": false
  }
 },
 "nbformat": 4,
 "nbformat_minor": 4
}