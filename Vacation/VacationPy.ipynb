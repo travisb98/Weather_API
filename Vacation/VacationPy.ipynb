{
 "cells": [
  {
   "source": [
    "# VacationPy\n",
    "----\n"
   ],
   "cell_type": "markdown",
   "metadata": {}
  },
  {
   "source": [
    "\n",
    "\n",
    "------------------------------------\n",
    "- This code took about 18 seconds to run\n",
    "- i've ran it a couple times and there seems to be a bias around africa, the middle east, and india. It could be caused by the random coordinates generated in weather.py or the fact that these regions are huge, or it could be the weather based filters I applied"
   ],
   "cell_type": "markdown",
   "metadata": {}
  },
  {
   "cell_type": "code",
   "execution_count": 6,
   "metadata": {},
   "outputs": [],
   "source": [
    "# Dependencies and Setup\n",
    "import matplotlib.pyplot as plt\n",
    "import pandas as pd\n",
    "import numpy as np\n",
    "import requests\n",
    "import gmaps\n",
    "import os\n",
    "import json\n",
    "\n",
    "from full_country import full_name_dict\n",
    "\n",
    "### this allows me to keep my keys in a folder outside my repo\n",
    "import sys\n",
    "try:\n",
    "    sys.path.insert(1,'/Users/Trav/Desktop/Coding/KEY_PACKAGE')\n",
    "    from api_keys import g_key\n",
    "except:\n",
    "    from api_keys import g_key\n",
    "\n",
    "\n",
    "\n"
   ]
  },
  {
   "cell_type": "markdown",
   "metadata": {},
   "source": [
    "### Store Part I results into DataFrame\n",
    "* Load the csv exported in Part I to a DataFrame"
   ]
  },
  {
   "cell_type": "code",
   "execution_count": 7,
   "metadata": {},
   "outputs": [
    {
     "output_type": "execute_result",
     "data": {
      "text/plain": [
       "   Approximate Lat  Approximate Lon City Name Country Code  \\\n",
       "0           -68.26           163.04     bluff           nz   \n",
       "1           -48.48          -120.05   rikitea           pf   \n",
       "2            41.17            50.96    artyom           az   \n",
       "3            59.48            65.43   lugovoy           ru   \n",
       "4           -39.10            67.59  souillac           mu   \n",
       "\n",
       "             Exact Coordinates   Latitude   Longitude  Temperature  Humidity  \\\n",
       "0          (-46.6, 168.333333) -46.600000  168.333333        48.00        80   \n",
       "1  (-23.1202778, -134.9691667) -23.120278 -134.969167        79.93        69   \n",
       "2       (40.472255, 50.333041)  40.472255   50.333041        42.80        93   \n",
       "3       (59.733333, 65.833333)  59.733333   65.833333        17.58        97   \n",
       "4    (-20.5166667, 57.5166667) -20.516667   57.516667        77.00        88   \n",
       "\n",
       "   Cloudiness  Wind Speed  Max Temp  \n",
       "0         100        8.01     48.00  \n",
       "1          93        8.50     79.93  \n",
       "2          75       11.50     42.80  \n",
       "3          80        5.68     17.58  \n",
       "4          75        5.75     77.00  "
      ],
      "text/html": "<div>\n<style scoped>\n    .dataframe tbody tr th:only-of-type {\n        vertical-align: middle;\n    }\n\n    .dataframe tbody tr th {\n        vertical-align: top;\n    }\n\n    .dataframe thead th {\n        text-align: right;\n    }\n</style>\n<table border=\"1\" class=\"dataframe\">\n  <thead>\n    <tr style=\"text-align: right;\">\n      <th></th>\n      <th>Approximate Lat</th>\n      <th>Approximate Lon</th>\n      <th>City Name</th>\n      <th>Country Code</th>\n      <th>Exact Coordinates</th>\n      <th>Latitude</th>\n      <th>Longitude</th>\n      <th>Temperature</th>\n      <th>Humidity</th>\n      <th>Cloudiness</th>\n      <th>Wind Speed</th>\n      <th>Max Temp</th>\n    </tr>\n  </thead>\n  <tbody>\n    <tr>\n      <th>0</th>\n      <td>-68.26</td>\n      <td>163.04</td>\n      <td>bluff</td>\n      <td>nz</td>\n      <td>(-46.6, 168.333333)</td>\n      <td>-46.600000</td>\n      <td>168.333333</td>\n      <td>48.00</td>\n      <td>80</td>\n      <td>100</td>\n      <td>8.01</td>\n      <td>48.00</td>\n    </tr>\n    <tr>\n      <th>1</th>\n      <td>-48.48</td>\n      <td>-120.05</td>\n      <td>rikitea</td>\n      <td>pf</td>\n      <td>(-23.1202778, -134.9691667)</td>\n      <td>-23.120278</td>\n      <td>-134.969167</td>\n      <td>79.93</td>\n      <td>69</td>\n      <td>93</td>\n      <td>8.50</td>\n      <td>79.93</td>\n    </tr>\n    <tr>\n      <th>2</th>\n      <td>41.17</td>\n      <td>50.96</td>\n      <td>artyom</td>\n      <td>az</td>\n      <td>(40.472255, 50.333041)</td>\n      <td>40.472255</td>\n      <td>50.333041</td>\n      <td>42.80</td>\n      <td>93</td>\n      <td>75</td>\n      <td>11.50</td>\n      <td>42.80</td>\n    </tr>\n    <tr>\n      <th>3</th>\n      <td>59.48</td>\n      <td>65.43</td>\n      <td>lugovoy</td>\n      <td>ru</td>\n      <td>(59.733333, 65.833333)</td>\n      <td>59.733333</td>\n      <td>65.833333</td>\n      <td>17.58</td>\n      <td>97</td>\n      <td>80</td>\n      <td>5.68</td>\n      <td>17.58</td>\n    </tr>\n    <tr>\n      <th>4</th>\n      <td>-39.10</td>\n      <td>67.59</td>\n      <td>souillac</td>\n      <td>mu</td>\n      <td>(-20.5166667, 57.5166667)</td>\n      <td>-20.516667</td>\n      <td>57.516667</td>\n      <td>77.00</td>\n      <td>88</td>\n      <td>75</td>\n      <td>5.75</td>\n      <td>77.00</td>\n    </tr>\n  </tbody>\n</table>\n</div>"
     },
     "metadata": {},
     "execution_count": 7
    }
   ],
   "source": [
    "## import csv to dataframe, add try block to deal with directory issues\n",
    "csv_import_path = os.path.join('..','Weather','Export_Folder','city_data.csv')\n",
    "city_weather_df=pd.read_csv(csv_import_path)\n",
    "\n",
    "city_weather_df.head()\n",
    "\n",
    "# # ### using this to limit the request, remove once completed\n",
    "# city_weather_df=city_weather_df.head()\n",
    "# city_weather_df.head(20)"
   ]
  },
  {
   "cell_type": "markdown",
   "metadata": {},
   "source": [
    "### Humidity Heatmap\n",
    "* Configure gmaps.\n",
    "* Use the Lat and Lng as locations and Humidity as the weight.\n",
    "* Add Heatmap layer to map."
   ]
  },
  {
   "cell_type": "code",
   "execution_count": 8,
   "metadata": {},
   "outputs": [],
   "source": [
    "#configure gmaps with key\n",
    "gmaps.configure(api_key=g_key)"
   ]
  },
  {
   "cell_type": "code",
   "execution_count": 9,
   "metadata": {},
   "outputs": [
    {
     "output_type": "display_data",
     "data": {
      "text/plain": "Figure(layout=FigureLayout(height='420px'))",
      "application/vnd.jupyter.widget-view+json": {
       "version_major": 2,
       "version_minor": 0,
       "model_id": "cd9e14c0e4084f1280b196463a2b586c"
      }
     },
     "metadata": {}
    }
   ],
   "source": [
    "\n",
    "#defines coordinates to plot and weight is humididty\n",
    "\n",
    "locations=city_weather_df[['Latitude','Longitude']]\n",
    "weighty=city_weather_df['Humidity']\n",
    "\n",
    "fig=gmaps.figure(center=(0,0),zoom_level=2)\n",
    "heat=gmaps.heatmap_layer(locations,weights=weighty,dissipating=True,max_intensity=200,point_radius=20)\n",
    "fig.add_layer(heat)\n",
    "\n",
    "\n",
    "fig"
   ]
  },
  {
   "cell_type": "markdown",
   "metadata": {},
   "source": [
    "### Create new DataFrame fitting weather criteria\n",
    "* Narrow down the cities to fit weather conditions.\n",
    "* Drop any rows will null values."
   ]
  },
  {
   "cell_type": "code",
   "execution_count": 10,
   "metadata": {},
   "outputs": [
    {
     "output_type": "execute_result",
     "data": {
      "text/plain": [
       "     Approximate Lat  Approximate Lon       City Name Country Code  \\\n",
       "12            -21.78           -25.20       caravelas           br   \n",
       "31            -48.21            69.61  saint-philippe           re   \n",
       "106            12.91           -27.27      sao filipe           cv   \n",
       "140             9.58           -20.57        oussouye           sn   \n",
       "209             8.05             4.49           ilobu           ng   \n",
       "\n",
       "         Exact Coordinates   Latitude  Longitude  Temperature  Humidity  \\\n",
       "12        (-17.75, -39.25) -17.750000 -39.250000        76.86        82   \n",
       "31    (-21.35, 55.7666667) -21.350000  55.766667        74.79        69   \n",
       "106    (14.9, -24.5166667)  14.900000 -24.516667        74.86        65   \n",
       "140  (12.485, -16.5469444)  12.485000 -16.546944        71.56        78   \n",
       "209   (7.833333, 4.483333)   7.833333   4.483333        74.37        85   \n",
       "\n",
       "     Cloudiness  Wind Speed  Max Temp  \n",
       "12            0        6.20     76.86  \n",
       "31            0        6.91     78.80  \n",
       "106           0        5.70     74.86  \n",
       "140           0        2.30     73.40  \n",
       "209           0        4.68     74.37  "
      ],
      "text/html": "<div>\n<style scoped>\n    .dataframe tbody tr th:only-of-type {\n        vertical-align: middle;\n    }\n\n    .dataframe tbody tr th {\n        vertical-align: top;\n    }\n\n    .dataframe thead th {\n        text-align: right;\n    }\n</style>\n<table border=\"1\" class=\"dataframe\">\n  <thead>\n    <tr style=\"text-align: right;\">\n      <th></th>\n      <th>Approximate Lat</th>\n      <th>Approximate Lon</th>\n      <th>City Name</th>\n      <th>Country Code</th>\n      <th>Exact Coordinates</th>\n      <th>Latitude</th>\n      <th>Longitude</th>\n      <th>Temperature</th>\n      <th>Humidity</th>\n      <th>Cloudiness</th>\n      <th>Wind Speed</th>\n      <th>Max Temp</th>\n    </tr>\n  </thead>\n  <tbody>\n    <tr>\n      <th>12</th>\n      <td>-21.78</td>\n      <td>-25.20</td>\n      <td>caravelas</td>\n      <td>br</td>\n      <td>(-17.75, -39.25)</td>\n      <td>-17.750000</td>\n      <td>-39.250000</td>\n      <td>76.86</td>\n      <td>82</td>\n      <td>0</td>\n      <td>6.20</td>\n      <td>76.86</td>\n    </tr>\n    <tr>\n      <th>31</th>\n      <td>-48.21</td>\n      <td>69.61</td>\n      <td>saint-philippe</td>\n      <td>re</td>\n      <td>(-21.35, 55.7666667)</td>\n      <td>-21.350000</td>\n      <td>55.766667</td>\n      <td>74.79</td>\n      <td>69</td>\n      <td>0</td>\n      <td>6.91</td>\n      <td>78.80</td>\n    </tr>\n    <tr>\n      <th>106</th>\n      <td>12.91</td>\n      <td>-27.27</td>\n      <td>sao filipe</td>\n      <td>cv</td>\n      <td>(14.9, -24.5166667)</td>\n      <td>14.900000</td>\n      <td>-24.516667</td>\n      <td>74.86</td>\n      <td>65</td>\n      <td>0</td>\n      <td>5.70</td>\n      <td>74.86</td>\n    </tr>\n    <tr>\n      <th>140</th>\n      <td>9.58</td>\n      <td>-20.57</td>\n      <td>oussouye</td>\n      <td>sn</td>\n      <td>(12.485, -16.5469444)</td>\n      <td>12.485000</td>\n      <td>-16.546944</td>\n      <td>71.56</td>\n      <td>78</td>\n      <td>0</td>\n      <td>2.30</td>\n      <td>73.40</td>\n    </tr>\n    <tr>\n      <th>209</th>\n      <td>8.05</td>\n      <td>4.49</td>\n      <td>ilobu</td>\n      <td>ng</td>\n      <td>(7.833333, 4.483333)</td>\n      <td>7.833333</td>\n      <td>4.483333</td>\n      <td>74.37</td>\n      <td>85</td>\n      <td>0</td>\n      <td>4.68</td>\n      <td>74.37</td>\n    </tr>\n  </tbody>\n</table>\n</div>"
     },
     "metadata": {},
     "execution_count": 10
    }
   ],
   "source": [
    "#narrows down the dataframe to a dataframe with ideal weather\n",
    "ideal_weather = city_weather_df.loc[(city_weather_df['Max Temp']>70)&(city_weather_df['Max Temp']<80)&(city_weather_df['Wind Speed']<10)&(city_weather_df['Cloudiness']==0),:]\n",
    "\n",
    "#drops bad data\n",
    "ideal_weather.dropna()\n",
    "\n",
    "\n",
    "ideal_weather.head()"
   ]
  },
  {
   "cell_type": "markdown",
   "metadata": {},
   "source": [
    "### Hotel Map\n",
    "* Store into variable named `hotel_df`.\n",
    "* Add a \"Hotel Name\" column to the DataFrame.\n",
    "* Set parameters to search for hotels with 5000 meters.\n",
    "* Hit the Google Places API for each city's coordinates.\n",
    "* Store the first Hotel result into the DataFrame.\n",
    "* Plot markers on top of the heatmap."
   ]
  },
  {
   "cell_type": "code",
   "execution_count": 11,
   "metadata": {},
   "outputs": [
    {
     "output_type": "execute_result",
     "data": {
      "text/plain": [
       "  Country Code     Country            City   Latitude   Longitude  \\\n",
       "0           AU   Australia    port hedland -20.312149  118.610588   \n",
       "1           BR      Brazil       caravelas -17.750000  -39.250000   \n",
       "2           CV  Cape Verde      sao filipe  14.900000  -24.516667   \n",
       "3           NG     Nigeria           ilobu   7.833333    4.483333   \n",
       "4           RE     Réunion  saint-philippe -21.350000   55.766667   \n",
       "\n",
       "   Temperature  Humidity  Cloudiness  Wind Speed  Max Temp Hotel Name  \\\n",
       "0        78.80        94           0        6.91     78.80              \n",
       "1        76.86        82           0        6.20     76.86              \n",
       "2        74.86        65           0        5.70     74.86              \n",
       "3        74.37        85           0        4.68     74.37              \n",
       "4        74.79        69           0        6.91     78.80              \n",
       "\n",
       "  Hotel Lat Hotel Lon  \n",
       "0                      \n",
       "1                      \n",
       "2                      \n",
       "3                      \n",
       "4                      "
      ],
      "text/html": "<div>\n<style scoped>\n    .dataframe tbody tr th:only-of-type {\n        vertical-align: middle;\n    }\n\n    .dataframe tbody tr th {\n        vertical-align: top;\n    }\n\n    .dataframe thead th {\n        text-align: right;\n    }\n</style>\n<table border=\"1\" class=\"dataframe\">\n  <thead>\n    <tr style=\"text-align: right;\">\n      <th></th>\n      <th>Country Code</th>\n      <th>Country</th>\n      <th>City</th>\n      <th>Latitude</th>\n      <th>Longitude</th>\n      <th>Temperature</th>\n      <th>Humidity</th>\n      <th>Cloudiness</th>\n      <th>Wind Speed</th>\n      <th>Max Temp</th>\n      <th>Hotel Name</th>\n      <th>Hotel Lat</th>\n      <th>Hotel Lon</th>\n    </tr>\n  </thead>\n  <tbody>\n    <tr>\n      <th>0</th>\n      <td>AU</td>\n      <td>Australia</td>\n      <td>port hedland</td>\n      <td>-20.312149</td>\n      <td>118.610588</td>\n      <td>78.80</td>\n      <td>94</td>\n      <td>0</td>\n      <td>6.91</td>\n      <td>78.80</td>\n      <td></td>\n      <td></td>\n      <td></td>\n    </tr>\n    <tr>\n      <th>1</th>\n      <td>BR</td>\n      <td>Brazil</td>\n      <td>caravelas</td>\n      <td>-17.750000</td>\n      <td>-39.250000</td>\n      <td>76.86</td>\n      <td>82</td>\n      <td>0</td>\n      <td>6.20</td>\n      <td>76.86</td>\n      <td></td>\n      <td></td>\n      <td></td>\n    </tr>\n    <tr>\n      <th>2</th>\n      <td>CV</td>\n      <td>Cape Verde</td>\n      <td>sao filipe</td>\n      <td>14.900000</td>\n      <td>-24.516667</td>\n      <td>74.86</td>\n      <td>65</td>\n      <td>0</td>\n      <td>5.70</td>\n      <td>74.86</td>\n      <td></td>\n      <td></td>\n      <td></td>\n    </tr>\n    <tr>\n      <th>3</th>\n      <td>NG</td>\n      <td>Nigeria</td>\n      <td>ilobu</td>\n      <td>7.833333</td>\n      <td>4.483333</td>\n      <td>74.37</td>\n      <td>85</td>\n      <td>0</td>\n      <td>4.68</td>\n      <td>74.37</td>\n      <td></td>\n      <td></td>\n      <td></td>\n    </tr>\n    <tr>\n      <th>4</th>\n      <td>RE</td>\n      <td>Réunion</td>\n      <td>saint-philippe</td>\n      <td>-21.350000</td>\n      <td>55.766667</td>\n      <td>74.79</td>\n      <td>69</td>\n      <td>0</td>\n      <td>6.91</td>\n      <td>78.80</td>\n      <td></td>\n      <td></td>\n      <td></td>\n    </tr>\n  </tbody>\n</table>\n</div>"
     },
     "metadata": {},
     "execution_count": 11
    }
   ],
   "source": [
    "#simplifies and defines the hotel_df\n",
    "hotel_df=ideal_weather.drop(['Approximate Lat','Approximate Lon','Exact Coordinates'],axis=1).reset_index(drop=True)\n",
    "\n",
    "#creates blank series that will be filled in\n",
    "hotel_df['Hotel Name']=\"\"\n",
    "hotel_df['Hotel Lat']=\"\"\n",
    "hotel_df['Hotel Lon']=\"\"\n",
    "# #renaming and making uppercase\n",
    "# hotel_df=hotel_df.rename(columns={'City Name':'City','Country Code':'Country'})\n",
    "hotel_df['Country Code']=hotel_df['Country Code'].str.upper()\n",
    "\n",
    "hotel_df=hotel_df.rename(columns={'City Name':'City'})\n",
    "#creating a dataframe from the countries full names\n",
    "country_name_df=pd.DataFrame.from_dict(full_name_dict,orient='index').reset_index()\n",
    "country_name_df=country_name_df.rename(columns={'index':'Country Code',0:'Country'})\n",
    "\n",
    "#merging in the country names\n",
    "\n",
    "hotel_df=pd.merge(country_name_df,hotel_df,on=\"Country Code\",how='right')\n",
    "\n",
    "hotel_df.head()"
   ]
  },
  {
   "cell_type": "code",
   "execution_count": 13,
   "metadata": {},
   "outputs": [
    {
     "output_type": "error",
     "ename": "IndexError",
     "evalue": "list index out of range",
     "traceback": [
      "\u001b[1;31m---------------------------------------------------------------------------\u001b[0m",
      "\u001b[1;31mIndexError\u001b[0m                                Traceback (most recent call last)",
      "\u001b[1;32m<ipython-input-13-6647d4321637>\u001b[0m in \u001b[0;36m<module>\u001b[1;34m\u001b[0m\n\u001b[0;32m     25\u001b[0m         \u001b[0mhotel_df\u001b[0m\u001b[1;33m[\u001b[0m\u001b[1;34m'Hotel Name'\u001b[0m\u001b[1;33m]\u001b[0m\u001b[1;33m[\u001b[0m\u001b[0mi\u001b[0m\u001b[1;33m]\u001b[0m\u001b[1;33m=\u001b[0m\u001b[0mnp\u001b[0m\u001b[1;33m.\u001b[0m\u001b[0mnan\u001b[0m\u001b[1;33m\u001b[0m\u001b[1;33m\u001b[0m\u001b[0m\n\u001b[0;32m     26\u001b[0m     \u001b[1;32melse\u001b[0m\u001b[1;33m:\u001b[0m\u001b[1;33m\u001b[0m\u001b[1;33m\u001b[0m\u001b[0m\n\u001b[1;32m---> 27\u001b[1;33m         \u001b[0mhotel_df\u001b[0m\u001b[1;33m[\u001b[0m\u001b[1;34m'Hotel Name'\u001b[0m\u001b[1;33m]\u001b[0m\u001b[1;33m[\u001b[0m\u001b[0mi\u001b[0m\u001b[1;33m]\u001b[0m\u001b[1;33m=\u001b[0m\u001b[0mplaces_json\u001b[0m\u001b[1;33m[\u001b[0m\u001b[1;34m\"results\"\u001b[0m\u001b[1;33m]\u001b[0m\u001b[1;33m[\u001b[0m\u001b[1;36m0\u001b[0m\u001b[1;33m]\u001b[0m\u001b[1;33m[\u001b[0m\u001b[1;34m'name'\u001b[0m\u001b[1;33m]\u001b[0m\u001b[1;33m\u001b[0m\u001b[1;33m\u001b[0m\u001b[0m\n\u001b[0m\u001b[0;32m     28\u001b[0m         \u001b[0mhotel_df\u001b[0m\u001b[1;33m[\u001b[0m\u001b[1;34m'Hotel Lat'\u001b[0m\u001b[1;33m]\u001b[0m\u001b[1;33m[\u001b[0m\u001b[0mi\u001b[0m\u001b[1;33m]\u001b[0m\u001b[1;33m=\u001b[0m\u001b[0mplaces_json\u001b[0m\u001b[1;33m[\u001b[0m\u001b[1;34m\"results\"\u001b[0m\u001b[1;33m]\u001b[0m\u001b[1;33m[\u001b[0m\u001b[1;36m0\u001b[0m\u001b[1;33m]\u001b[0m\u001b[1;33m[\u001b[0m\u001b[1;34m'geometry'\u001b[0m\u001b[1;33m]\u001b[0m\u001b[1;33m[\u001b[0m\u001b[1;34m'location'\u001b[0m\u001b[1;33m]\u001b[0m\u001b[1;33m[\u001b[0m\u001b[1;34m'lat'\u001b[0m\u001b[1;33m]\u001b[0m\u001b[1;33m\u001b[0m\u001b[1;33m\u001b[0m\u001b[0m\n\u001b[0;32m     29\u001b[0m         \u001b[0mhotel_df\u001b[0m\u001b[1;33m[\u001b[0m\u001b[1;34m'Hotel Lon'\u001b[0m\u001b[1;33m]\u001b[0m\u001b[1;33m[\u001b[0m\u001b[0mi\u001b[0m\u001b[1;33m]\u001b[0m\u001b[1;33m=\u001b[0m\u001b[0mplaces_json\u001b[0m\u001b[1;33m[\u001b[0m\u001b[1;34m\"results\"\u001b[0m\u001b[1;33m]\u001b[0m\u001b[1;33m[\u001b[0m\u001b[1;36m0\u001b[0m\u001b[1;33m]\u001b[0m\u001b[1;33m[\u001b[0m\u001b[1;34m'geometry'\u001b[0m\u001b[1;33m]\u001b[0m\u001b[1;33m[\u001b[0m\u001b[1;34m'location'\u001b[0m\u001b[1;33m]\u001b[0m\u001b[1;33m[\u001b[0m\u001b[1;34m'lng'\u001b[0m\u001b[1;33m]\u001b[0m\u001b[1;33m\u001b[0m\u001b[1;33m\u001b[0m\u001b[0m\n",
      "\u001b[1;31mIndexError\u001b[0m: list index out of range"
     ]
    }
   ],
   "source": [
    "\n",
    "### finds the closest hotel and fills in the hotel name and coordinates to the dataframe\n",
    "base_url = \"https://maps.googleapis.com/maps/api/place/nearbysearch/json\"\n",
    "\n",
    "target_search = \"Hotel\"\n",
    "target_radius = 5000\n",
    "target_type = \"Hotel\"\n",
    "\n",
    "for i,r in hotel_df.iterrows():\n",
    "    c_lat=hotel_df['Latitude'][i]\n",
    "    c_lon = hotel_df['Longitude'][i]\n",
    "    target_coordinates =f'{c_lat}, {c_lon}' \n",
    "    \n",
    "    param = {\n",
    "    \"location\": target_coordinates,\n",
    "    \"keyword\": target_search,\n",
    "    \"radius\": target_radius,\n",
    "    \"type\": target_type,\n",
    "    \"key\": g_key\n",
    "    }\n",
    "\n",
    "    places_json=requests.get(base_url,params=param).json()\n",
    "    ## the city tessalit is literally in the middle of the sahara desert and returns no results, so this is a work around.\n",
    "\n",
    "    if places_json['status']=='ZERO_RESULTS':\n",
    "        hotel_df['Hotel Name'][i]=np.nan\n",
    "    else:\n",
    "        hotel_df['Hotel Name'][i]=places_json[\"results\"][0]['name']\n",
    "        hotel_df['Hotel Lat'][i]=places_json[\"results\"][0]['geometry']['location']['lat']\n",
    "        hotel_df['Hotel Lon'][i]=places_json[\"results\"][0]['geometry']['location']['lng']\n",
    "\n",
    "\n",
    "## Dropping the cities that returned no results \n",
    "hotel_df=hotel_df.dropna()\n",
    "\n",
    "hotel_df.head(30)\n"
   ]
  },
  {
   "cell_type": "code",
   "execution_count": null,
   "metadata": {},
   "outputs": [],
   "source": [
    "# # #create a new folder and exports the dataframe\n",
    "\n",
    "def dataframe_to_csv(df):\n",
    "    current_directory=os.getcwd()\n",
    "    new_folder_path =os.path.join(current_directory,r'Export_Folder')\n",
    "    if not os.path.exists(new_folder_path):\n",
    "        os.makedirs(new_folder_path)\n",
    "    csv_export_path = os.path.join(new_folder_path,'hotel_data.csv')\n",
    "    df.to_csv(csv_export_path,index=False)\n",
    "dataframe_to_csv(hotel_df)"
   ]
  },
  {
   "cell_type": "code",
   "execution_count": null,
   "metadata": {},
   "outputs": [],
   "source": [
    "## import the csv file you just saved\n",
    "def import_path():\n",
    "    current_directory=os.getcwd()\n",
    "    import_path.new_folder_path =os.path.join(current_directory,r'Export_Folder')\n",
    "    csv_export_path = os.path.join(import_path.new_folder_path,'hotel_data.csv')\n",
    "    return csv_export_path\n",
    "\n",
    "im_path=import_path()\n",
    "csv_imp_df=pd.read_csv(im_path,delimiter=',')\n",
    "csv_imp_df.head()"
   ]
  },
  {
   "cell_type": "code",
   "execution_count": null,
   "metadata": {},
   "outputs": [],
   "source": [
    "\n",
    "\n",
    "# Using the template add the hotel marks to the heatmap\n",
    "info_box_template = \"\"\"\n",
    "<dl>\n",
    "<dt>Name</dt><dd>{Hotel Name}</dd>\n",
    "<dt>City</dt><dd>{City}</dd>\n",
    "<dt>Country</dt><dd>{Country}</dd>\n",
    "</dl>\n",
    "\"\"\"\n",
    "# Store the DataFrame Row\n",
    "# NOTE: be sure to update with your DataFrame name\n",
    "hotel_info = [info_box_template.format(**row) for index, row in csv_imp_df.iterrows()]\n",
    "\n",
    "# hotel_info\n"
   ]
  },
  {
   "cell_type": "code",
   "execution_count": null,
   "metadata": {},
   "outputs": [],
   "source": [
    "### plotting heat map and hotel locations\n",
    "y_locations=city_weather_df[['Latitude','Longitude']]\n",
    "x_locations=csv_imp_df[['Hotel Lat','Hotel Lon']]\n",
    "x_weighty=city_weather_df['Humidity']\n",
    "\n",
    "\n",
    "\n",
    "x_fig=gmaps.figure(center=(0,0),zoom_level=2)\n",
    "x_heat=gmaps.heatmap_layer(y_locations,weights=x_weighty,dissipating=True,max_intensity=200,point_radius=20)\n",
    "x_marks=gmaps.marker_layer(x_locations,info_box_content=hotel_info)\n",
    "x_fig.add_layer(x_marks)\n",
    "x_fig.add_layer(x_heat)\n",
    "\n",
    "x_fig"
   ]
  },
  {
   "cell_type": "code",
   "execution_count": null,
   "metadata": {},
   "outputs": [],
   "source": []
  }
 ],
 "metadata": {
  "kernelspec": {
   "name": "python3",
   "display_name": "Python 3.6.10 64-bit ('PythonData': conda)",
   "metadata": {
    "interpreter": {
     "hash": "7e7c916c673641125590bd307b68bb4342787996dc085909d7e5c72ee4d13010"
    }
   }
  },
  "language_info": {
   "codemirror_mode": {
    "name": "ipython",
    "version": 3
   },
   "file_extension": ".py",
   "mimetype": "text/x-python",
   "name": "python",
   "nbconvert_exporter": "python",
   "pygments_lexer": "ipython3",
   "version": "3.6.10-final"
  },
  "latex_envs": {
   "LaTeX_envs_menu_present": true,
   "autoclose": false,
   "autocomplete": true,
   "bibliofile": "biblio.bib",
   "cite_by": "apalike",
   "current_citInitial": 1,
   "eqLabelWithNumbers": true,
   "eqNumInitial": 1,
   "hotkeys": {
    "equation": "Ctrl-E",
    "itemize": "Ctrl-I"
   },
   "labels_anchors": false,
   "latex_user_defs": false,
   "report_style_numbering": false,
   "user_envs_cfg": false
  }
 },
 "nbformat": 4,
 "nbformat_minor": 4
}