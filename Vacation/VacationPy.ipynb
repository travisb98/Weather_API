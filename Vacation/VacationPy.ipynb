{
 "cells": [
  {
   "source": [
    "# VacationPy\n",
    "----\n"
   ],
   "cell_type": "markdown",
   "metadata": {}
  },
  {
   "source": [
    "\n",
    "\n",
    "------------------------------------\n",
    "- This code took about 18 seconds to run\n",
    "- i've ran it a couple times and there seems to be a bias around africa, the middle east, and india. It could be caused by the random coordinates generated in weather.py or the fact that these regions are huge, or it could be the weather based filters I applied"
   ],
   "cell_type": "markdown",
   "metadata": {}
  },
  {
   "cell_type": "code",
   "execution_count": 1,
   "metadata": {},
   "outputs": [],
   "source": [
    "# Dependencies and Setup\n",
    "import matplotlib.pyplot as plt\n",
    "import pandas as pd\n",
    "import numpy as np\n",
    "import requests\n",
    "import gmaps\n",
    "import os\n",
    "import json\n",
    "\n",
    "from full_country import full_name_dict\n",
    "\n",
    "### this allows me to keep my keys in a folder outside my repo\n",
    "import sys\n",
    "try:\n",
    "    sys.path.insert(1,'/Users/Trav/Desktop/Coding/KEY_PACKAGE')\n",
    "    from api_keys import g_key\n",
    "except:\n",
    "    from api_keys import g_key\n",
    "\n",
    "\n",
    "\n"
   ]
  },
  {
   "cell_type": "markdown",
   "metadata": {},
   "source": [
    "### Store Part I results into DataFrame\n",
    "* Load the csv exported in Part I to a DataFrame"
   ]
  },
  {
   "cell_type": "code",
   "execution_count": 2,
   "metadata": {},
   "outputs": [
    {
     "output_type": "execute_result",
     "data": {
      "text/plain": [
       "   Approximate Lat  Approximate Lon       City Name Country Code  \\\n",
       "0           -31.36            60.51  saint-philippe           re   \n",
       "1           -74.85            19.80      bredasdorp           za   \n",
       "2           -16.77           -39.21    porto seguro           br   \n",
       "3           -54.59            12.64        hermanus           za   \n",
       "4           -89.98          -161.79         mataura           pf   \n",
       "\n",
       "             Exact Coordinates   Latitude   Longitude  Temperature  Humidity  \\\n",
       "0         (-21.35, 55.7666667) -21.350000   55.766667        70.97        50   \n",
       "1      (-34.532154, 20.040308) -34.532154   20.040308        55.40        71   \n",
       "2     (-16.433333, -39.083333) -16.433333  -39.083333        75.20        83   \n",
       "3      (-34.418696, 19.234464) -34.418696   19.234464        59.00        70   \n",
       "4  (-23.3666667, -149.4666667) -23.366667 -149.466667        67.78        91   \n",
       "\n",
       "   Cloudiness  Wind Speed  Max Temp  \n",
       "0          75       21.92     75.20  \n",
       "1          34        6.58     55.40  \n",
       "2           0        6.93     75.20  \n",
       "3           0        4.00     59.00  \n",
       "4         100       21.03     67.78  "
      ],
      "text/html": "<div>\n<style scoped>\n    .dataframe tbody tr th:only-of-type {\n        vertical-align: middle;\n    }\n\n    .dataframe tbody tr th {\n        vertical-align: top;\n    }\n\n    .dataframe thead th {\n        text-align: right;\n    }\n</style>\n<table border=\"1\" class=\"dataframe\">\n  <thead>\n    <tr style=\"text-align: right;\">\n      <th></th>\n      <th>Approximate Lat</th>\n      <th>Approximate Lon</th>\n      <th>City Name</th>\n      <th>Country Code</th>\n      <th>Exact Coordinates</th>\n      <th>Latitude</th>\n      <th>Longitude</th>\n      <th>Temperature</th>\n      <th>Humidity</th>\n      <th>Cloudiness</th>\n      <th>Wind Speed</th>\n      <th>Max Temp</th>\n    </tr>\n  </thead>\n  <tbody>\n    <tr>\n      <th>0</th>\n      <td>-31.36</td>\n      <td>60.51</td>\n      <td>saint-philippe</td>\n      <td>re</td>\n      <td>(-21.35, 55.7666667)</td>\n      <td>-21.350000</td>\n      <td>55.766667</td>\n      <td>70.97</td>\n      <td>50</td>\n      <td>75</td>\n      <td>21.92</td>\n      <td>75.20</td>\n    </tr>\n    <tr>\n      <th>1</th>\n      <td>-74.85</td>\n      <td>19.80</td>\n      <td>bredasdorp</td>\n      <td>za</td>\n      <td>(-34.532154, 20.040308)</td>\n      <td>-34.532154</td>\n      <td>20.040308</td>\n      <td>55.40</td>\n      <td>71</td>\n      <td>34</td>\n      <td>6.58</td>\n      <td>55.40</td>\n    </tr>\n    <tr>\n      <th>2</th>\n      <td>-16.77</td>\n      <td>-39.21</td>\n      <td>porto seguro</td>\n      <td>br</td>\n      <td>(-16.433333, -39.083333)</td>\n      <td>-16.433333</td>\n      <td>-39.083333</td>\n      <td>75.20</td>\n      <td>83</td>\n      <td>0</td>\n      <td>6.93</td>\n      <td>75.20</td>\n    </tr>\n    <tr>\n      <th>3</th>\n      <td>-54.59</td>\n      <td>12.64</td>\n      <td>hermanus</td>\n      <td>za</td>\n      <td>(-34.418696, 19.234464)</td>\n      <td>-34.418696</td>\n      <td>19.234464</td>\n      <td>59.00</td>\n      <td>70</td>\n      <td>0</td>\n      <td>4.00</td>\n      <td>59.00</td>\n    </tr>\n    <tr>\n      <th>4</th>\n      <td>-89.98</td>\n      <td>-161.79</td>\n      <td>mataura</td>\n      <td>pf</td>\n      <td>(-23.3666667, -149.4666667)</td>\n      <td>-23.366667</td>\n      <td>-149.466667</td>\n      <td>67.78</td>\n      <td>91</td>\n      <td>100</td>\n      <td>21.03</td>\n      <td>67.78</td>\n    </tr>\n  </tbody>\n</table>\n</div>"
     },
     "metadata": {},
     "execution_count": 2
    }
   ],
   "source": [
    "## import csv to dataframe, add try block to deal with directory issues\n",
    "csv_import_path = os.path.join('..','Weather','Export Folder','city_data.csv')\n",
    "city_weather_df=pd.read_csv(csv_import_path)\n",
    "\n",
    "city_weather_df.head()\n",
    "\n",
    "# # ### using this to limit the request, remove once completed\n",
    "# city_weather_df=city_weather_df.head()\n",
    "# city_weather_df.head(20)"
   ]
  },
  {
   "cell_type": "markdown",
   "metadata": {},
   "source": [
    "### Humidity Heatmap\n",
    "* Configure gmaps.\n",
    "* Use the Lat and Lng as locations and Humidity as the weight.\n",
    "* Add Heatmap layer to map."
   ]
  },
  {
   "cell_type": "code",
   "execution_count": 3,
   "metadata": {},
   "outputs": [],
   "source": [
    "#configure gmaps with key\n",
    "gmaps.configure(api_key=g_key)"
   ]
  },
  {
   "cell_type": "code",
   "execution_count": 4,
   "metadata": {},
   "outputs": [
    {
     "output_type": "display_data",
     "data": {
      "text/plain": "Figure(layout=FigureLayout(height='420px'))",
      "application/vnd.jupyter.widget-view+json": {
       "version_major": 2,
       "version_minor": 0,
       "model_id": "0f2db2446a6946eaae87d71326a562b1"
      }
     },
     "metadata": {}
    }
   ],
   "source": [
    "\n",
    "#defines coordinates to plot and weight is humididty\n",
    "\n",
    "locations=city_weather_df[['Latitude','Longitude']]\n",
    "weighty=city_weather_df['Humidity']\n",
    "\n",
    "fig=gmaps.figure(center=(0,0),zoom_level=2)\n",
    "heat=gmaps.heatmap_layer(locations,weights=weighty,dissipating=True,max_intensity=200,point_radius=20)\n",
    "fig.add_layer(heat)\n",
    "\n",
    "\n",
    "fig"
   ]
  },
  {
   "cell_type": "markdown",
   "metadata": {},
   "source": [
    "### Create new DataFrame fitting weather criteria\n",
    "* Narrow down the cities to fit weather conditions.\n",
    "* Drop any rows will null values."
   ]
  },
  {
   "cell_type": "code",
   "execution_count": 5,
   "metadata": {},
   "outputs": [
    {
     "output_type": "execute_result",
     "data": {
      "text/plain": [
       "     Approximate Lat  Approximate Lon     City Name Country Code  \\\n",
       "2             -16.77           -39.21  porto seguro           br   \n",
       "40            -61.74          -135.72       rikitea           pf   \n",
       "89            -15.54            62.92   grand gaube           mu   \n",
       "144            22.06             7.72         arlit           ne   \n",
       "163             9.93            18.15          sarh           td   \n",
       "\n",
       "               Exact Coordinates   Latitude   Longitude  Temperature  \\\n",
       "2       (-16.433333, -39.083333) -16.433333  -39.083333        75.20   \n",
       "40   (-23.1202778, -134.9691667) -23.120278 -134.969167        75.83   \n",
       "89     (-20.0063889, 57.6608333) -20.006389   57.660833        73.99   \n",
       "144         (18.7325, 7.3680556)  18.732500    7.368056        71.85   \n",
       "163           (9.15, 18.3833333)   9.150000   18.383333        73.40   \n",
       "\n",
       "     Humidity  Cloudiness  Wind Speed  Max Temp  \n",
       "2          83           0        6.93     75.20  \n",
       "40         70           0        5.21     75.83  \n",
       "89         42           0        8.99     73.99  \n",
       "144        22           0        8.72     71.85  \n",
       "163        94           0        4.05     73.40  "
      ],
      "text/html": "<div>\n<style scoped>\n    .dataframe tbody tr th:only-of-type {\n        vertical-align: middle;\n    }\n\n    .dataframe tbody tr th {\n        vertical-align: top;\n    }\n\n    .dataframe thead th {\n        text-align: right;\n    }\n</style>\n<table border=\"1\" class=\"dataframe\">\n  <thead>\n    <tr style=\"text-align: right;\">\n      <th></th>\n      <th>Approximate Lat</th>\n      <th>Approximate Lon</th>\n      <th>City Name</th>\n      <th>Country Code</th>\n      <th>Exact Coordinates</th>\n      <th>Latitude</th>\n      <th>Longitude</th>\n      <th>Temperature</th>\n      <th>Humidity</th>\n      <th>Cloudiness</th>\n      <th>Wind Speed</th>\n      <th>Max Temp</th>\n    </tr>\n  </thead>\n  <tbody>\n    <tr>\n      <th>2</th>\n      <td>-16.77</td>\n      <td>-39.21</td>\n      <td>porto seguro</td>\n      <td>br</td>\n      <td>(-16.433333, -39.083333)</td>\n      <td>-16.433333</td>\n      <td>-39.083333</td>\n      <td>75.20</td>\n      <td>83</td>\n      <td>0</td>\n      <td>6.93</td>\n      <td>75.20</td>\n    </tr>\n    <tr>\n      <th>40</th>\n      <td>-61.74</td>\n      <td>-135.72</td>\n      <td>rikitea</td>\n      <td>pf</td>\n      <td>(-23.1202778, -134.9691667)</td>\n      <td>-23.120278</td>\n      <td>-134.969167</td>\n      <td>75.83</td>\n      <td>70</td>\n      <td>0</td>\n      <td>5.21</td>\n      <td>75.83</td>\n    </tr>\n    <tr>\n      <th>89</th>\n      <td>-15.54</td>\n      <td>62.92</td>\n      <td>grand gaube</td>\n      <td>mu</td>\n      <td>(-20.0063889, 57.6608333)</td>\n      <td>-20.006389</td>\n      <td>57.660833</td>\n      <td>73.99</td>\n      <td>42</td>\n      <td>0</td>\n      <td>8.99</td>\n      <td>73.99</td>\n    </tr>\n    <tr>\n      <th>144</th>\n      <td>22.06</td>\n      <td>7.72</td>\n      <td>arlit</td>\n      <td>ne</td>\n      <td>(18.7325, 7.3680556)</td>\n      <td>18.732500</td>\n      <td>7.368056</td>\n      <td>71.85</td>\n      <td>22</td>\n      <td>0</td>\n      <td>8.72</td>\n      <td>71.85</td>\n    </tr>\n    <tr>\n      <th>163</th>\n      <td>9.93</td>\n      <td>18.15</td>\n      <td>sarh</td>\n      <td>td</td>\n      <td>(9.15, 18.3833333)</td>\n      <td>9.150000</td>\n      <td>18.383333</td>\n      <td>73.40</td>\n      <td>94</td>\n      <td>0</td>\n      <td>4.05</td>\n      <td>73.40</td>\n    </tr>\n  </tbody>\n</table>\n</div>"
     },
     "metadata": {},
     "execution_count": 5
    }
   ],
   "source": [
    "#narrows down the dataframe to a dataframe with ideal weather\n",
    "ideal_weather = city_weather_df.loc[(city_weather_df['Max Temp']>70)&(city_weather_df['Max Temp']<80)&(city_weather_df['Wind Speed']<10)&(city_weather_df['Cloudiness']==0),:]\n",
    "\n",
    "#drops bad data\n",
    "ideal_weather.dropna()\n",
    "\n",
    "\n",
    "ideal_weather.head()"
   ]
  },
  {
   "cell_type": "markdown",
   "metadata": {},
   "source": [
    "### Hotel Map\n",
    "* Store into variable named `hotel_df`.\n",
    "* Add a \"Hotel Name\" column to the DataFrame.\n",
    "* Set parameters to search for hotels with 5000 meters.\n",
    "* Hit the Google Places API for each city's coordinates.\n",
    "* Store the first Hotel result into the DataFrame.\n",
    "* Plot markers on top of the heatmap."
   ]
  },
  {
   "cell_type": "code",
   "execution_count": 6,
   "metadata": {},
   "outputs": [
    {
     "output_type": "execute_result",
     "data": {
      "text/plain": [
       "  Country Code     Country          City   Latitude  Longitude  Temperature  \\\n",
       "0           BR      Brazil  porto seguro -16.433333 -39.083333        75.20   \n",
       "1           BR      Brazil      belmonte -15.850000 -38.900000        75.20   \n",
       "2           ET    Ethiopia        bedesa   8.900000  40.783333        71.19   \n",
       "3           MG  Madagascar      tsihombe -25.300000  45.483333        78.73   \n",
       "4           MU   Mauritius   grand gaube -20.006389  57.660833        73.99   \n",
       "\n",
       "   Humidity  Cloudiness  Wind Speed  Max Temp Hotel Name Hotel Lat Hotel Lon  \n",
       "0        83           0        6.93     75.20                                 \n",
       "1        83           0        6.93     75.20                                 \n",
       "2        55           0        1.77     71.19                                 \n",
       "3        41           0        9.35     78.73                                 \n",
       "4        42           0        8.99     73.99                                 "
      ],
      "text/html": "<div>\n<style scoped>\n    .dataframe tbody tr th:only-of-type {\n        vertical-align: middle;\n    }\n\n    .dataframe tbody tr th {\n        vertical-align: top;\n    }\n\n    .dataframe thead th {\n        text-align: right;\n    }\n</style>\n<table border=\"1\" class=\"dataframe\">\n  <thead>\n    <tr style=\"text-align: right;\">\n      <th></th>\n      <th>Country Code</th>\n      <th>Country</th>\n      <th>City</th>\n      <th>Latitude</th>\n      <th>Longitude</th>\n      <th>Temperature</th>\n      <th>Humidity</th>\n      <th>Cloudiness</th>\n      <th>Wind Speed</th>\n      <th>Max Temp</th>\n      <th>Hotel Name</th>\n      <th>Hotel Lat</th>\n      <th>Hotel Lon</th>\n    </tr>\n  </thead>\n  <tbody>\n    <tr>\n      <th>0</th>\n      <td>BR</td>\n      <td>Brazil</td>\n      <td>porto seguro</td>\n      <td>-16.433333</td>\n      <td>-39.083333</td>\n      <td>75.20</td>\n      <td>83</td>\n      <td>0</td>\n      <td>6.93</td>\n      <td>75.20</td>\n      <td></td>\n      <td></td>\n      <td></td>\n    </tr>\n    <tr>\n      <th>1</th>\n      <td>BR</td>\n      <td>Brazil</td>\n      <td>belmonte</td>\n      <td>-15.850000</td>\n      <td>-38.900000</td>\n      <td>75.20</td>\n      <td>83</td>\n      <td>0</td>\n      <td>6.93</td>\n      <td>75.20</td>\n      <td></td>\n      <td></td>\n      <td></td>\n    </tr>\n    <tr>\n      <th>2</th>\n      <td>ET</td>\n      <td>Ethiopia</td>\n      <td>bedesa</td>\n      <td>8.900000</td>\n      <td>40.783333</td>\n      <td>71.19</td>\n      <td>55</td>\n      <td>0</td>\n      <td>1.77</td>\n      <td>71.19</td>\n      <td></td>\n      <td></td>\n      <td></td>\n    </tr>\n    <tr>\n      <th>3</th>\n      <td>MG</td>\n      <td>Madagascar</td>\n      <td>tsihombe</td>\n      <td>-25.300000</td>\n      <td>45.483333</td>\n      <td>78.73</td>\n      <td>41</td>\n      <td>0</td>\n      <td>9.35</td>\n      <td>78.73</td>\n      <td></td>\n      <td></td>\n      <td></td>\n    </tr>\n    <tr>\n      <th>4</th>\n      <td>MU</td>\n      <td>Mauritius</td>\n      <td>grand gaube</td>\n      <td>-20.006389</td>\n      <td>57.660833</td>\n      <td>73.99</td>\n      <td>42</td>\n      <td>0</td>\n      <td>8.99</td>\n      <td>73.99</td>\n      <td></td>\n      <td></td>\n      <td></td>\n    </tr>\n  </tbody>\n</table>\n</div>"
     },
     "metadata": {},
     "execution_count": 6
    }
   ],
   "source": [
    "#simplifies and defines the hotel_df\n",
    "hotel_df=ideal_weather.drop(['Approximate Lat','Approximate Lon','Exact Coordinates'],axis=1).reset_index(drop=True)\n",
    "\n",
    "#creates blank series that will be filled in\n",
    "hotel_df['Hotel Name']=\"\"\n",
    "hotel_df['Hotel Lat']=\"\"\n",
    "hotel_df['Hotel Lon']=\"\"\n",
    "# #renaming and making uppercase\n",
    "# hotel_df=hotel_df.rename(columns={'City Name':'City','Country Code':'Country'})\n",
    "hotel_df['Country Code']=hotel_df['Country Code'].str.upper()\n",
    "\n",
    "hotel_df=hotel_df.rename(columns={'City Name':'City'})\n",
    "#creating a dataframe from the countries full names\n",
    "country_name_df=pd.DataFrame.from_dict(full_name_dict,orient='index').reset_index()\n",
    "country_name_df=country_name_df.rename(columns={'index':'Country Code',0:'Country'})\n",
    "\n",
    "#merging in the country names\n",
    "\n",
    "hotel_df=pd.merge(country_name_df,hotel_df,on=\"Country Code\",how='right')\n",
    "\n",
    "hotel_df.head()"
   ]
  },
  {
   "cell_type": "code",
   "execution_count": 7,
   "metadata": {},
   "outputs": [
    {
     "output_type": "execute_result",
     "data": {
      "text/plain": [
       "  Country Code           Country          City   Latitude   Longitude  \\\n",
       "0           BR            Brazil  porto seguro -16.433333  -39.083333   \n",
       "1           BR            Brazil      belmonte -15.850000  -38.900000   \n",
       "3           MG        Madagascar      tsihombe -25.300000   45.483333   \n",
       "4           MU         Mauritius   grand gaube -20.006389   57.660833   \n",
       "5           NE             Niger         arlit  18.732500    7.368056   \n",
       "6           NE             Niger         diffa  13.315556   12.608889   \n",
       "7           NG           Nigeria          bida   9.083333    6.016667   \n",
       "8           PF  French Polynesia       rikitea -23.120278 -134.969167   \n",
       "9           TD              Chad          sarh   9.150000   18.383333   \n",
       "\n",
       "   Temperature  Humidity  Cloudiness  Wind Speed  Max Temp  \\\n",
       "0        75.20        83           0        6.93     75.20   \n",
       "1        75.20        83           0        6.93     75.20   \n",
       "3        78.73        41           0        9.35     78.73   \n",
       "4        73.99        42           0        8.99     73.99   \n",
       "5        71.85        22           0        8.72     71.85   \n",
       "6        77.04        27           0        8.19     77.04   \n",
       "7        74.37        63           0        1.99     74.37   \n",
       "8        75.83        70           0        5.21     75.83   \n",
       "9        73.40        94           0        4.05     73.40   \n",
       "\n",
       "                         Hotel Name Hotel Lat Hotel Lon  \n",
       "0                Portal Beach Hotel  -16.4079  -39.0485  \n",
       "1                  Pousada do Diogo  -15.8633  -38.8755  \n",
       "3      Restaurant Le Paradis du sud  -25.3187   45.4837  \n",
       "4   LUX Grand Gaube Resort & Villas  -20.0023   57.6598  \n",
       "5              Hôtel Telwa Bungalow    18.739   7.38945  \n",
       "6  Complexe Hôtelier Du 18 Décembre   13.3127   12.5904  \n",
       "7                    House 7 Resort   9.06385    5.9981  \n",
       "8           Pension Bianca & Benoit  -23.1277  -134.966  \n",
       "9                 Hôtel des Chasses   9.14226   18.3899  "
      ],
      "text/html": "<div>\n<style scoped>\n    .dataframe tbody tr th:only-of-type {\n        vertical-align: middle;\n    }\n\n    .dataframe tbody tr th {\n        vertical-align: top;\n    }\n\n    .dataframe thead th {\n        text-align: right;\n    }\n</style>\n<table border=\"1\" class=\"dataframe\">\n  <thead>\n    <tr style=\"text-align: right;\">\n      <th></th>\n      <th>Country Code</th>\n      <th>Country</th>\n      <th>City</th>\n      <th>Latitude</th>\n      <th>Longitude</th>\n      <th>Temperature</th>\n      <th>Humidity</th>\n      <th>Cloudiness</th>\n      <th>Wind Speed</th>\n      <th>Max Temp</th>\n      <th>Hotel Name</th>\n      <th>Hotel Lat</th>\n      <th>Hotel Lon</th>\n    </tr>\n  </thead>\n  <tbody>\n    <tr>\n      <th>0</th>\n      <td>BR</td>\n      <td>Brazil</td>\n      <td>porto seguro</td>\n      <td>-16.433333</td>\n      <td>-39.083333</td>\n      <td>75.20</td>\n      <td>83</td>\n      <td>0</td>\n      <td>6.93</td>\n      <td>75.20</td>\n      <td>Portal Beach Hotel</td>\n      <td>-16.4079</td>\n      <td>-39.0485</td>\n    </tr>\n    <tr>\n      <th>1</th>\n      <td>BR</td>\n      <td>Brazil</td>\n      <td>belmonte</td>\n      <td>-15.850000</td>\n      <td>-38.900000</td>\n      <td>75.20</td>\n      <td>83</td>\n      <td>0</td>\n      <td>6.93</td>\n      <td>75.20</td>\n      <td>Pousada do Diogo</td>\n      <td>-15.8633</td>\n      <td>-38.8755</td>\n    </tr>\n    <tr>\n      <th>3</th>\n      <td>MG</td>\n      <td>Madagascar</td>\n      <td>tsihombe</td>\n      <td>-25.300000</td>\n      <td>45.483333</td>\n      <td>78.73</td>\n      <td>41</td>\n      <td>0</td>\n      <td>9.35</td>\n      <td>78.73</td>\n      <td>Restaurant Le Paradis du sud</td>\n      <td>-25.3187</td>\n      <td>45.4837</td>\n    </tr>\n    <tr>\n      <th>4</th>\n      <td>MU</td>\n      <td>Mauritius</td>\n      <td>grand gaube</td>\n      <td>-20.006389</td>\n      <td>57.660833</td>\n      <td>73.99</td>\n      <td>42</td>\n      <td>0</td>\n      <td>8.99</td>\n      <td>73.99</td>\n      <td>LUX Grand Gaube Resort &amp; Villas</td>\n      <td>-20.0023</td>\n      <td>57.6598</td>\n    </tr>\n    <tr>\n      <th>5</th>\n      <td>NE</td>\n      <td>Niger</td>\n      <td>arlit</td>\n      <td>18.732500</td>\n      <td>7.368056</td>\n      <td>71.85</td>\n      <td>22</td>\n      <td>0</td>\n      <td>8.72</td>\n      <td>71.85</td>\n      <td>Hôtel Telwa Bungalow</td>\n      <td>18.739</td>\n      <td>7.38945</td>\n    </tr>\n    <tr>\n      <th>6</th>\n      <td>NE</td>\n      <td>Niger</td>\n      <td>diffa</td>\n      <td>13.315556</td>\n      <td>12.608889</td>\n      <td>77.04</td>\n      <td>27</td>\n      <td>0</td>\n      <td>8.19</td>\n      <td>77.04</td>\n      <td>Complexe Hôtelier Du 18 Décembre</td>\n      <td>13.3127</td>\n      <td>12.5904</td>\n    </tr>\n    <tr>\n      <th>7</th>\n      <td>NG</td>\n      <td>Nigeria</td>\n      <td>bida</td>\n      <td>9.083333</td>\n      <td>6.016667</td>\n      <td>74.37</td>\n      <td>63</td>\n      <td>0</td>\n      <td>1.99</td>\n      <td>74.37</td>\n      <td>House 7 Resort</td>\n      <td>9.06385</td>\n      <td>5.9981</td>\n    </tr>\n    <tr>\n      <th>8</th>\n      <td>PF</td>\n      <td>French Polynesia</td>\n      <td>rikitea</td>\n      <td>-23.120278</td>\n      <td>-134.969167</td>\n      <td>75.83</td>\n      <td>70</td>\n      <td>0</td>\n      <td>5.21</td>\n      <td>75.83</td>\n      <td>Pension Bianca &amp; Benoit</td>\n      <td>-23.1277</td>\n      <td>-134.966</td>\n    </tr>\n    <tr>\n      <th>9</th>\n      <td>TD</td>\n      <td>Chad</td>\n      <td>sarh</td>\n      <td>9.150000</td>\n      <td>18.383333</td>\n      <td>73.40</td>\n      <td>94</td>\n      <td>0</td>\n      <td>4.05</td>\n      <td>73.40</td>\n      <td>Hôtel des Chasses</td>\n      <td>9.14226</td>\n      <td>18.3899</td>\n    </tr>\n  </tbody>\n</table>\n</div>"
     },
     "metadata": {},
     "execution_count": 7
    }
   ],
   "source": [
    "\n",
    "### finds the closest hotel and fills in the hotel name and coordinates to the dataframe\n",
    "base_url = \"https://maps.googleapis.com/maps/api/place/nearbysearch/json\"\n",
    "\n",
    "target_search = \"Hotel\"\n",
    "target_radius = 5000\n",
    "target_type = \"Hotel\"\n",
    "\n",
    "for i,r in hotel_df.iterrows():\n",
    "    c_lat=hotel_df['Latitude'][i]\n",
    "    c_lon = hotel_df['Longitude'][i]\n",
    "    target_coordinates =f'{c_lat}, {c_lon}' \n",
    "    \n",
    "    param = {\n",
    "    \"location\": target_coordinates,\n",
    "    \"keyword\": target_search,\n",
    "    \"radius\": target_radius,\n",
    "    \"type\": target_type,\n",
    "    \"key\": g_key\n",
    "    }\n",
    "\n",
    "    places_json=requests.get(base_url,params=param).json()\n",
    "    ## the city tessalit is literally in the middle of the sahara desert and returns no results, so this is a work around.\n",
    "\n",
    "    if places_json['status']=='ZERO_RESULTS':\n",
    "        hotel_df['Hotel Name'][i]=np.nan\n",
    "    else:\n",
    "        hotel_df['Hotel Name'][i]=places_json[\"results\"][0]['name']\n",
    "        hotel_df['Hotel Lat'][i]=places_json[\"results\"][0]['geometry']['location']['lat']\n",
    "        hotel_df['Hotel Lon'][i]=places_json[\"results\"][0]['geometry']['location']['lng']\n",
    "\n",
    "\n",
    "## Dropping the cities that returned no results \n",
    "hotel_df=hotel_df.dropna()\n",
    "\n",
    "hotel_df.head(30)\n"
   ]
  },
  {
   "cell_type": "code",
   "execution_count": 8,
   "metadata": {},
   "outputs": [],
   "source": [
    "# # #create a new folder and exports the dataframe\n",
    "\n",
    "def dataframe_to_csv(df):\n",
    "    current_directory=os.getcwd()\n",
    "    new_folder_path =os.path.join(current_directory,r'Export Folder')\n",
    "    if not os.path.exists(new_folder_path):\n",
    "        os.makedirs(new_folder_path)\n",
    "    csv_export_path = os.path.join(new_folder_path,'hotel_data.csv')\n",
    "    df.to_csv(csv_export_path,index=False)\n",
    "dataframe_to_csv(hotel_df)"
   ]
  },
  {
   "cell_type": "code",
   "execution_count": 9,
   "metadata": {},
   "outputs": [
    {
     "output_type": "execute_result",
     "data": {
      "text/plain": [
       "  Country Code     Country          City   Latitude  Longitude  Temperature  \\\n",
       "0           BR      Brazil  porto seguro -16.433333 -39.083333        75.20   \n",
       "1           BR      Brazil      belmonte -15.850000 -38.900000        75.20   \n",
       "2           MG  Madagascar      tsihombe -25.300000  45.483333        78.73   \n",
       "3           MU   Mauritius   grand gaube -20.006389  57.660833        73.99   \n",
       "4           NE       Niger         arlit  18.732500   7.368056        71.85   \n",
       "\n",
       "   Humidity  Cloudiness  Wind Speed  Max Temp  \\\n",
       "0        83           0        6.93     75.20   \n",
       "1        83           0        6.93     75.20   \n",
       "2        41           0        9.35     78.73   \n",
       "3        42           0        8.99     73.99   \n",
       "4        22           0        8.72     71.85   \n",
       "\n",
       "                        Hotel Name  Hotel Lat  Hotel Lon  \n",
       "0               Portal Beach Hotel -16.407943 -39.048535  \n",
       "1                 Pousada do Diogo -15.863311 -38.875494  \n",
       "2     Restaurant Le Paradis du sud -25.318744  45.483670  \n",
       "3  LUX Grand Gaube Resort & Villas -20.002344  57.659766  \n",
       "4             Hôtel Telwa Bungalow  18.738976   7.389448  "
      ],
      "text/html": "<div>\n<style scoped>\n    .dataframe tbody tr th:only-of-type {\n        vertical-align: middle;\n    }\n\n    .dataframe tbody tr th {\n        vertical-align: top;\n    }\n\n    .dataframe thead th {\n        text-align: right;\n    }\n</style>\n<table border=\"1\" class=\"dataframe\">\n  <thead>\n    <tr style=\"text-align: right;\">\n      <th></th>\n      <th>Country Code</th>\n      <th>Country</th>\n      <th>City</th>\n      <th>Latitude</th>\n      <th>Longitude</th>\n      <th>Temperature</th>\n      <th>Humidity</th>\n      <th>Cloudiness</th>\n      <th>Wind Speed</th>\n      <th>Max Temp</th>\n      <th>Hotel Name</th>\n      <th>Hotel Lat</th>\n      <th>Hotel Lon</th>\n    </tr>\n  </thead>\n  <tbody>\n    <tr>\n      <th>0</th>\n      <td>BR</td>\n      <td>Brazil</td>\n      <td>porto seguro</td>\n      <td>-16.433333</td>\n      <td>-39.083333</td>\n      <td>75.20</td>\n      <td>83</td>\n      <td>0</td>\n      <td>6.93</td>\n      <td>75.20</td>\n      <td>Portal Beach Hotel</td>\n      <td>-16.407943</td>\n      <td>-39.048535</td>\n    </tr>\n    <tr>\n      <th>1</th>\n      <td>BR</td>\n      <td>Brazil</td>\n      <td>belmonte</td>\n      <td>-15.850000</td>\n      <td>-38.900000</td>\n      <td>75.20</td>\n      <td>83</td>\n      <td>0</td>\n      <td>6.93</td>\n      <td>75.20</td>\n      <td>Pousada do Diogo</td>\n      <td>-15.863311</td>\n      <td>-38.875494</td>\n    </tr>\n    <tr>\n      <th>2</th>\n      <td>MG</td>\n      <td>Madagascar</td>\n      <td>tsihombe</td>\n      <td>-25.300000</td>\n      <td>45.483333</td>\n      <td>78.73</td>\n      <td>41</td>\n      <td>0</td>\n      <td>9.35</td>\n      <td>78.73</td>\n      <td>Restaurant Le Paradis du sud</td>\n      <td>-25.318744</td>\n      <td>45.483670</td>\n    </tr>\n    <tr>\n      <th>3</th>\n      <td>MU</td>\n      <td>Mauritius</td>\n      <td>grand gaube</td>\n      <td>-20.006389</td>\n      <td>57.660833</td>\n      <td>73.99</td>\n      <td>42</td>\n      <td>0</td>\n      <td>8.99</td>\n      <td>73.99</td>\n      <td>LUX Grand Gaube Resort &amp; Villas</td>\n      <td>-20.002344</td>\n      <td>57.659766</td>\n    </tr>\n    <tr>\n      <th>4</th>\n      <td>NE</td>\n      <td>Niger</td>\n      <td>arlit</td>\n      <td>18.732500</td>\n      <td>7.368056</td>\n      <td>71.85</td>\n      <td>22</td>\n      <td>0</td>\n      <td>8.72</td>\n      <td>71.85</td>\n      <td>Hôtel Telwa Bungalow</td>\n      <td>18.738976</td>\n      <td>7.389448</td>\n    </tr>\n  </tbody>\n</table>\n</div>"
     },
     "metadata": {},
     "execution_count": 9
    }
   ],
   "source": [
    "## import the csv file you just saved\n",
    "def import_path():\n",
    "    current_directory=os.getcwd()\n",
    "    import_path.new_folder_path =os.path.join(current_directory,r'Export Folder')\n",
    "    csv_export_path = os.path.join(import_path.new_folder_path,'hotel_data.csv')\n",
    "    return csv_export_path\n",
    "\n",
    "im_path=import_path()\n",
    "csv_imp_df=pd.read_csv(im_path,delimiter=',')\n",
    "csv_imp_df.head()"
   ]
  },
  {
   "cell_type": "code",
   "execution_count": 10,
   "metadata": {},
   "outputs": [],
   "source": [
    "\n",
    "\n",
    "# Using the template add the hotel marks to the heatmap\n",
    "info_box_template = \"\"\"\n",
    "<dl>\n",
    "<dt>Name</dt><dd>{Hotel Name}</dd>\n",
    "<dt>City</dt><dd>{City}</dd>\n",
    "<dt>Country</dt><dd>{Country}</dd>\n",
    "</dl>\n",
    "\"\"\"\n",
    "# Store the DataFrame Row\n",
    "# NOTE: be sure to update with your DataFrame name\n",
    "hotel_info = [info_box_template.format(**row) for index, row in csv_imp_df.iterrows()]\n",
    "\n",
    "# hotel_info\n"
   ]
  },
  {
   "cell_type": "code",
   "execution_count": 11,
   "metadata": {},
   "outputs": [
    {
     "output_type": "display_data",
     "data": {
      "text/plain": "Figure(layout=FigureLayout(height='420px'))",
      "application/vnd.jupyter.widget-view+json": {
       "version_major": 2,
       "version_minor": 0,
       "model_id": "4c67eb9002d24cc2a5f916740ee3765a"
      }
     },
     "metadata": {}
    }
   ],
   "source": [
    "### plotting heat map and hotel locations\n",
    "y_locations=city_weather_df[['Latitude','Longitude']]\n",
    "x_locations=csv_imp_df[['Hotel Lat','Hotel Lon']]\n",
    "x_weighty=city_weather_df['Humidity']\n",
    "\n",
    "\n",
    "\n",
    "x_fig=gmaps.figure(center=(0,0),zoom_level=2)\n",
    "x_heat=gmaps.heatmap_layer(y_locations,weights=x_weighty,dissipating=True,max_intensity=200,point_radius=20)\n",
    "x_marks=gmaps.marker_layer(x_locations,info_box_content=hotel_info)\n",
    "x_fig.add_layer(x_marks)\n",
    "x_fig.add_layer(x_heat)\n",
    "\n",
    "x_fig"
   ]
  },
  {
   "cell_type": "code",
   "execution_count": null,
   "metadata": {},
   "outputs": [],
   "source": []
  }
 ],
 "metadata": {
  "kernelspec": {
   "name": "python3",
   "display_name": "Python 3.6.10 64-bit ('PythonData': conda)",
   "metadata": {
    "interpreter": {
     "hash": "7e7c916c673641125590bd307b68bb4342787996dc085909d7e5c72ee4d13010"
    }
   }
  },
  "language_info": {
   "codemirror_mode": {
    "name": "ipython",
    "version": 3
   },
   "file_extension": ".py",
   "mimetype": "text/x-python",
   "name": "python",
   "nbconvert_exporter": "python",
   "pygments_lexer": "ipython3",
   "version": "3.6.10-final"
  },
  "latex_envs": {
   "LaTeX_envs_menu_present": true,
   "autoclose": false,
   "autocomplete": true,
   "bibliofile": "biblio.bib",
   "cite_by": "apalike",
   "current_citInitial": 1,
   "eqLabelWithNumbers": true,
   "eqNumInitial": 1,
   "hotkeys": {
    "equation": "Ctrl-E",
    "itemize": "Ctrl-I"
   },
   "labels_anchors": false,
   "latex_user_defs": false,
   "report_style_numbering": false,
   "user_envs_cfg": false
  }
 },
 "nbformat": 4,
 "nbformat_minor": 4
}