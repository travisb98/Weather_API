{
 "cells": [
  {
   "cell_type": "markdown",
   "metadata": {},
   "source": [
    "# VacationPy\n",
    "----\n",
    "\n",
    "#### Note\n",
    "* Keep an eye on your API usage. Use https://developers.google.com/maps/reporting/gmp-reporting as reference for how to monitor your usage and billing.\n",
    "\n",
    "* Instructions have been included for each segment. You do not have to follow them exactly, but they are included to help you think through the steps."
   ]
  },
  {
   "cell_type": "code",
   "execution_count": 176,
   "metadata": {},
   "outputs": [],
   "source": [
    "# Dependencies and Setup\n",
    "import matplotlib.pyplot as plt\n",
    "import pandas as pd\n",
    "import numpy as np\n",
    "import requests\n",
    "import gmaps\n",
    "import os\n",
    "\n",
    "\n",
    "import sys\n",
    "try:\n",
    "    sys.path.insert(1,'/Users/Trav/Desktop/Coding/GitHub_Repositories/API_PACKAGE')\n",
    "    from api_keys import g_key\n",
    "except:\n",
    "    from api_keys import g_key\n",
    "\n",
    "\n",
    "\n"
   ]
  },
  {
   "cell_type": "markdown",
   "metadata": {},
   "source": [
    "### Store Part I results into DataFrame\n",
    "* Load the csv exported in Part I to a DataFrame"
   ]
  },
  {
   "cell_type": "code",
   "execution_count": 177,
   "metadata": {},
   "outputs": [
    {
     "output_type": "execute_result",
     "data": {
      "text/plain": [
       "   Approximate Lat  Approximate Lon   City Name Country Code  \\\n",
       "0            54.98          -117.91  valleyview           ca   \n",
       "1            53.60           -13.37      dingle           ie   \n",
       "2           -32.08           -16.69   jamestown           sh   \n",
       "3            37.95            99.76     zhangye           cn   \n",
       "4            49.51           140.54      vanino           ru   \n",
       "\n",
       "           Exact Coordinates   Latitude   Longitude  Temperature  Humidity  \\\n",
       "0   (55.066667, -117.283333)  55.066667 -117.283333        30.88        95   \n",
       "1  (52.1408333, -10.2688889)  52.140833  -10.268889        52.36        83   \n",
       "2  (-15.9333333, -5.7166667) -15.933333   -5.716667        62.64        89   \n",
       "3    (38.934167, 100.451667)  38.934167  100.451667        46.98        48   \n",
       "4    (49.086856, 140.254337)  49.086856  140.254337        44.83        64   \n",
       "\n",
       "   Cloudiness  Wind Speed  \n",
       "0          99        7.36  \n",
       "1         100       10.71  \n",
       "2         100       23.49  \n",
       "3           4       16.04  \n",
       "4          24        6.89  "
      ],
      "text/html": "<div>\n<style scoped>\n    .dataframe tbody tr th:only-of-type {\n        vertical-align: middle;\n    }\n\n    .dataframe tbody tr th {\n        vertical-align: top;\n    }\n\n    .dataframe thead th {\n        text-align: right;\n    }\n</style>\n<table border=\"1\" class=\"dataframe\">\n  <thead>\n    <tr style=\"text-align: right;\">\n      <th></th>\n      <th>Approximate Lat</th>\n      <th>Approximate Lon</th>\n      <th>City Name</th>\n      <th>Country Code</th>\n      <th>Exact Coordinates</th>\n      <th>Latitude</th>\n      <th>Longitude</th>\n      <th>Temperature</th>\n      <th>Humidity</th>\n      <th>Cloudiness</th>\n      <th>Wind Speed</th>\n    </tr>\n  </thead>\n  <tbody>\n    <tr>\n      <th>0</th>\n      <td>54.98</td>\n      <td>-117.91</td>\n      <td>valleyview</td>\n      <td>ca</td>\n      <td>(55.066667, -117.283333)</td>\n      <td>55.066667</td>\n      <td>-117.283333</td>\n      <td>30.88</td>\n      <td>95</td>\n      <td>99</td>\n      <td>7.36</td>\n    </tr>\n    <tr>\n      <th>1</th>\n      <td>53.60</td>\n      <td>-13.37</td>\n      <td>dingle</td>\n      <td>ie</td>\n      <td>(52.1408333, -10.2688889)</td>\n      <td>52.140833</td>\n      <td>-10.268889</td>\n      <td>52.36</td>\n      <td>83</td>\n      <td>100</td>\n      <td>10.71</td>\n    </tr>\n    <tr>\n      <th>2</th>\n      <td>-32.08</td>\n      <td>-16.69</td>\n      <td>jamestown</td>\n      <td>sh</td>\n      <td>(-15.9333333, -5.7166667)</td>\n      <td>-15.933333</td>\n      <td>-5.716667</td>\n      <td>62.64</td>\n      <td>89</td>\n      <td>100</td>\n      <td>23.49</td>\n    </tr>\n    <tr>\n      <th>3</th>\n      <td>37.95</td>\n      <td>99.76</td>\n      <td>zhangye</td>\n      <td>cn</td>\n      <td>(38.934167, 100.451667)</td>\n      <td>38.934167</td>\n      <td>100.451667</td>\n      <td>46.98</td>\n      <td>48</td>\n      <td>4</td>\n      <td>16.04</td>\n    </tr>\n    <tr>\n      <th>4</th>\n      <td>49.51</td>\n      <td>140.54</td>\n      <td>vanino</td>\n      <td>ru</td>\n      <td>(49.086856, 140.254337)</td>\n      <td>49.086856</td>\n      <td>140.254337</td>\n      <td>44.83</td>\n      <td>64</td>\n      <td>24</td>\n      <td>6.89</td>\n    </tr>\n  </tbody>\n</table>\n</div>"
     },
     "metadata": {},
     "execution_count": 177
    }
   ],
   "source": [
    "## import csv to dataframe, add try block to deal with directory issues\n",
    "# csv_import_path = os.path.join('Weather_API','Weather','Export Folder','city_data.csv')\n",
    "csv_import_path = os.path.join('..','Weather','Export Folder','city_data.csv')\n",
    "city_weather_df=pd.read_csv(csv_import_path)\n",
    "\n",
    "city_weather_df.head()\n",
    "\n",
    "# # ### using this to limit the request, remove once completed\n",
    "# city_weather_df=city_weather_df.head()\n",
    "# city_weather_df.head(20)"
   ]
  },
  {
   "cell_type": "markdown",
   "metadata": {},
   "source": [
    "### Humidity Heatmap\n",
    "* Configure gmaps.\n",
    "* Use the Lat and Lng as locations and Humidity as the weight.\n",
    "* Add Heatmap layer to map."
   ]
  },
  {
   "cell_type": "code",
   "execution_count": 178,
   "metadata": {},
   "outputs": [],
   "source": [
    "# #configure gmaps with key\n",
    "# gmaps.configure(api_key=g_key)"
   ]
  },
  {
   "cell_type": "code",
   "execution_count": 179,
   "metadata": {},
   "outputs": [],
   "source": [
    "\n",
    "# #defines coordinates to plot and weight is humididty\n",
    "# locations=city_weather_df[['Latitude','Longitude']]\n",
    "# weighty=city_weather_df['Humidity']\n",
    "\n",
    "# fig=gmaps.figure(center=(0,0),zoom_level=2)\n",
    "# heat=gmaps.heatmap_layer(locations,weights=weighty,dissipating=True,max_intensity=100,point_radius=10)\n",
    "# fig.add_layer(heat)\n",
    "\n",
    "\n",
    "# fig"
   ]
  },
  {
   "cell_type": "markdown",
   "metadata": {},
   "source": [
    "### Create new DataFrame fitting weather criteria\n",
    "* Narrow down the cities to fit weather conditions.\n",
    "* Drop any rows will null values."
   ]
  },
  {
   "cell_type": "code",
   "execution_count": 180,
   "metadata": {},
   "outputs": [
    {
     "output_type": "execute_result",
     "data": {
      "text/plain": [
       "     Approximate Lat  Approximate Lon    City Name Country Code  \\\n",
       "60            -52.57            48.58     tsihombe           mg   \n",
       "81             27.42            79.51  farrukhabad           in   \n",
       "134            23.51             1.47     tessalit           ml   \n",
       "157            31.12            81.91    dharchula           in   \n",
       "216            13.23            58.07      salalah           om   \n",
       "\n",
       "           Exact Coordinates   Latitude  Longitude  Temperature  Humidity  \\\n",
       "60       (-25.3, 45.4833333) -25.300000  45.483333        72.05        66   \n",
       "81         (27.4, 79.566667)  27.400000  79.566667        79.43        26   \n",
       "134  (20.2013889, 1.0088889)  20.201389   1.008889        72.54        20   \n",
       "157       (29.85, 80.533333)  29.850000  80.533333        71.13        20   \n",
       "216    (17.0175, 54.0827778)  17.017500  54.082778        75.20        78   \n",
       "\n",
       "     Cloudiness  Wind Speed  \n",
       "60            0        9.95  \n",
       "81            0        6.29  \n",
       "134           0        7.11  \n",
       "157           0        3.74  \n",
       "216           0        2.24  "
      ],
      "text/html": "<div>\n<style scoped>\n    .dataframe tbody tr th:only-of-type {\n        vertical-align: middle;\n    }\n\n    .dataframe tbody tr th {\n        vertical-align: top;\n    }\n\n    .dataframe thead th {\n        text-align: right;\n    }\n</style>\n<table border=\"1\" class=\"dataframe\">\n  <thead>\n    <tr style=\"text-align: right;\">\n      <th></th>\n      <th>Approximate Lat</th>\n      <th>Approximate Lon</th>\n      <th>City Name</th>\n      <th>Country Code</th>\n      <th>Exact Coordinates</th>\n      <th>Latitude</th>\n      <th>Longitude</th>\n      <th>Temperature</th>\n      <th>Humidity</th>\n      <th>Cloudiness</th>\n      <th>Wind Speed</th>\n    </tr>\n  </thead>\n  <tbody>\n    <tr>\n      <th>60</th>\n      <td>-52.57</td>\n      <td>48.58</td>\n      <td>tsihombe</td>\n      <td>mg</td>\n      <td>(-25.3, 45.4833333)</td>\n      <td>-25.300000</td>\n      <td>45.483333</td>\n      <td>72.05</td>\n      <td>66</td>\n      <td>0</td>\n      <td>9.95</td>\n    </tr>\n    <tr>\n      <th>81</th>\n      <td>27.42</td>\n      <td>79.51</td>\n      <td>farrukhabad</td>\n      <td>in</td>\n      <td>(27.4, 79.566667)</td>\n      <td>27.400000</td>\n      <td>79.566667</td>\n      <td>79.43</td>\n      <td>26</td>\n      <td>0</td>\n      <td>6.29</td>\n    </tr>\n    <tr>\n      <th>134</th>\n      <td>23.51</td>\n      <td>1.47</td>\n      <td>tessalit</td>\n      <td>ml</td>\n      <td>(20.2013889, 1.0088889)</td>\n      <td>20.201389</td>\n      <td>1.008889</td>\n      <td>72.54</td>\n      <td>20</td>\n      <td>0</td>\n      <td>7.11</td>\n    </tr>\n    <tr>\n      <th>157</th>\n      <td>31.12</td>\n      <td>81.91</td>\n      <td>dharchula</td>\n      <td>in</td>\n      <td>(29.85, 80.533333)</td>\n      <td>29.850000</td>\n      <td>80.533333</td>\n      <td>71.13</td>\n      <td>20</td>\n      <td>0</td>\n      <td>3.74</td>\n    </tr>\n    <tr>\n      <th>216</th>\n      <td>13.23</td>\n      <td>58.07</td>\n      <td>salalah</td>\n      <td>om</td>\n      <td>(17.0175, 54.0827778)</td>\n      <td>17.017500</td>\n      <td>54.082778</td>\n      <td>75.20</td>\n      <td>78</td>\n      <td>0</td>\n      <td>2.24</td>\n    </tr>\n  </tbody>\n</table>\n</div>"
     },
     "metadata": {},
     "execution_count": 180
    }
   ],
   "source": [
    "#narrows down the dataframe to a dataframe with ideal weather\n",
    "ideal_weather = city_weather_df.loc[(city_weather_df['Temperature']>70)&(city_weather_df['Temperature']<80)&(city_weather_df['Wind Speed']<10)&(city_weather_df['Cloudiness']==0),:]\n",
    "\n",
    "#drops bad data\n",
    "ideal_weather.dropna()\n",
    "\n",
    "\n",
    "ideal_weather.head()"
   ]
  },
  {
   "cell_type": "markdown",
   "metadata": {},
   "source": [
    "### Hotel Map\n",
    "* Store into variable named `hotel_df`.\n",
    "* Add a \"Hotel Name\" column to the DataFrame.\n",
    "* Set parameters to search for hotels with 5000 meters.\n",
    "* Hit the Google Places API for each city's coordinates.\n",
    "* Store the first Hotel result into the DataFrame.\n",
    "* Plot markers on top of the heatmap."
   ]
  },
  {
   "cell_type": "code",
   "execution_count": 181,
   "metadata": {},
   "outputs": [
    {
     "output_type": "execute_result",
     "data": {
      "text/plain": [
       "          City Country   Latitude  Longitude  Temperature  Humidity  \\\n",
       "0     tsihombe      mg -25.300000  45.483333        72.05        66   \n",
       "1  farrukhabad      in  27.400000  79.566667        79.43        26   \n",
       "2     tessalit      ml  20.201389   1.008889        72.54        20   \n",
       "3    dharchula      in  29.850000  80.533333        71.13        20   \n",
       "4      salalah      om  17.017500  54.082778        75.20        78   \n",
       "\n",
       "   Cloudiness  Wind Speed Hotel Name  \n",
       "0           0        9.95             \n",
       "1           0        6.29             \n",
       "2           0        7.11             \n",
       "3           0        3.74             \n",
       "4           0        2.24             "
      ],
      "text/html": "<div>\n<style scoped>\n    .dataframe tbody tr th:only-of-type {\n        vertical-align: middle;\n    }\n\n    .dataframe tbody tr th {\n        vertical-align: top;\n    }\n\n    .dataframe thead th {\n        text-align: right;\n    }\n</style>\n<table border=\"1\" class=\"dataframe\">\n  <thead>\n    <tr style=\"text-align: right;\">\n      <th></th>\n      <th>City</th>\n      <th>Country</th>\n      <th>Latitude</th>\n      <th>Longitude</th>\n      <th>Temperature</th>\n      <th>Humidity</th>\n      <th>Cloudiness</th>\n      <th>Wind Speed</th>\n      <th>Hotel Name</th>\n    </tr>\n  </thead>\n  <tbody>\n    <tr>\n      <th>0</th>\n      <td>tsihombe</td>\n      <td>mg</td>\n      <td>-25.300000</td>\n      <td>45.483333</td>\n      <td>72.05</td>\n      <td>66</td>\n      <td>0</td>\n      <td>9.95</td>\n      <td></td>\n    </tr>\n    <tr>\n      <th>1</th>\n      <td>farrukhabad</td>\n      <td>in</td>\n      <td>27.400000</td>\n      <td>79.566667</td>\n      <td>79.43</td>\n      <td>26</td>\n      <td>0</td>\n      <td>6.29</td>\n      <td></td>\n    </tr>\n    <tr>\n      <th>2</th>\n      <td>tessalit</td>\n      <td>ml</td>\n      <td>20.201389</td>\n      <td>1.008889</td>\n      <td>72.54</td>\n      <td>20</td>\n      <td>0</td>\n      <td>7.11</td>\n      <td></td>\n    </tr>\n    <tr>\n      <th>3</th>\n      <td>dharchula</td>\n      <td>in</td>\n      <td>29.850000</td>\n      <td>80.533333</td>\n      <td>71.13</td>\n      <td>20</td>\n      <td>0</td>\n      <td>3.74</td>\n      <td></td>\n    </tr>\n    <tr>\n      <th>4</th>\n      <td>salalah</td>\n      <td>om</td>\n      <td>17.017500</td>\n      <td>54.082778</td>\n      <td>75.20</td>\n      <td>78</td>\n      <td>0</td>\n      <td>2.24</td>\n      <td></td>\n    </tr>\n  </tbody>\n</table>\n</div>"
     },
     "metadata": {},
     "execution_count": 181
    }
   ],
   "source": [
    "hotel_df=ideal_weather.drop(['Approximate Lat','Approximate Lon','Exact Coordinates'],axis=1).reset_index(drop=True)\n",
    "\n",
    "hotel_df.head()\n",
    "hotel_df['Hotel Name']=\"\"\n",
    "hotel_df=hotel_df.rename(columns={'City Name':'City','Country Code':'Country'})\n",
    "hotel_df.head()"
   ]
  },
  {
   "cell_type": "code",
   "execution_count": null,
   "metadata": {},
   "outputs": [],
   "source": []
  },
  {
   "cell_type": "code",
   "execution_count": 182,
   "metadata": {},
   "outputs": [
    {
     "output_type": "execute_result",
     "data": {
      "text/plain": [
       "          City Country   Latitude  Longitude  Temperature  Humidity  \\\n",
       "0     tsihombe      mg -25.300000  45.483333        72.05        66   \n",
       "1  farrukhabad      in  27.400000  79.566667        79.43        26   \n",
       "2     tessalit      ml  20.201389   1.008889        72.54        20   \n",
       "3    dharchula      in  29.850000  80.533333        71.13        20   \n",
       "4      salalah      om  17.017500  54.082778        75.20        78   \n",
       "\n",
       "   Cloudiness  Wind Speed                                         Hotel Name  \n",
       "0           0        9.95  \\n<dl>\\n<dt>Name</dt><dd></dd>\\n<dt>City</dt><...  \n",
       "1           0        6.29  \\n<dl>\\n<dt>Name</dt><dd></dd>\\n<dt>City</dt><...  \n",
       "2           0        7.11  \\n<dl>\\n<dt>Name</dt><dd></dd>\\n<dt>City</dt><...  \n",
       "3           0        3.74  \\n<dl>\\n<dt>Name</dt><dd></dd>\\n<dt>City</dt><...  \n",
       "4           0        2.24  \\n<dl>\\n<dt>Name</dt><dd></dd>\\n<dt>City</dt><...  "
      ],
      "text/html": "<div>\n<style scoped>\n    .dataframe tbody tr th:only-of-type {\n        vertical-align: middle;\n    }\n\n    .dataframe tbody tr th {\n        vertical-align: top;\n    }\n\n    .dataframe thead th {\n        text-align: right;\n    }\n</style>\n<table border=\"1\" class=\"dataframe\">\n  <thead>\n    <tr style=\"text-align: right;\">\n      <th></th>\n      <th>City</th>\n      <th>Country</th>\n      <th>Latitude</th>\n      <th>Longitude</th>\n      <th>Temperature</th>\n      <th>Humidity</th>\n      <th>Cloudiness</th>\n      <th>Wind Speed</th>\n      <th>Hotel Name</th>\n    </tr>\n  </thead>\n  <tbody>\n    <tr>\n      <th>0</th>\n      <td>tsihombe</td>\n      <td>mg</td>\n      <td>-25.300000</td>\n      <td>45.483333</td>\n      <td>72.05</td>\n      <td>66</td>\n      <td>0</td>\n      <td>9.95</td>\n      <td>\\n&lt;dl&gt;\\n&lt;dt&gt;Name&lt;/dt&gt;&lt;dd&gt;&lt;/dd&gt;\\n&lt;dt&gt;City&lt;/dt&gt;&lt;...</td>\n    </tr>\n    <tr>\n      <th>1</th>\n      <td>farrukhabad</td>\n      <td>in</td>\n      <td>27.400000</td>\n      <td>79.566667</td>\n      <td>79.43</td>\n      <td>26</td>\n      <td>0</td>\n      <td>6.29</td>\n      <td>\\n&lt;dl&gt;\\n&lt;dt&gt;Name&lt;/dt&gt;&lt;dd&gt;&lt;/dd&gt;\\n&lt;dt&gt;City&lt;/dt&gt;&lt;...</td>\n    </tr>\n    <tr>\n      <th>2</th>\n      <td>tessalit</td>\n      <td>ml</td>\n      <td>20.201389</td>\n      <td>1.008889</td>\n      <td>72.54</td>\n      <td>20</td>\n      <td>0</td>\n      <td>7.11</td>\n      <td>\\n&lt;dl&gt;\\n&lt;dt&gt;Name&lt;/dt&gt;&lt;dd&gt;&lt;/dd&gt;\\n&lt;dt&gt;City&lt;/dt&gt;&lt;...</td>\n    </tr>\n    <tr>\n      <th>3</th>\n      <td>dharchula</td>\n      <td>in</td>\n      <td>29.850000</td>\n      <td>80.533333</td>\n      <td>71.13</td>\n      <td>20</td>\n      <td>0</td>\n      <td>3.74</td>\n      <td>\\n&lt;dl&gt;\\n&lt;dt&gt;Name&lt;/dt&gt;&lt;dd&gt;&lt;/dd&gt;\\n&lt;dt&gt;City&lt;/dt&gt;&lt;...</td>\n    </tr>\n    <tr>\n      <th>4</th>\n      <td>salalah</td>\n      <td>om</td>\n      <td>17.017500</td>\n      <td>54.082778</td>\n      <td>75.20</td>\n      <td>78</td>\n      <td>0</td>\n      <td>2.24</td>\n      <td>\\n&lt;dl&gt;\\n&lt;dt&gt;Name&lt;/dt&gt;&lt;dd&gt;&lt;/dd&gt;\\n&lt;dt&gt;City&lt;/dt&gt;&lt;...</td>\n    </tr>\n  </tbody>\n</table>\n</div>"
     },
     "metadata": {},
     "execution_count": 182
    }
   ],
   "source": [
    "\n",
    "\n",
    "# Using the template add the hotel marks to the heatmap\n",
    "info_box_template = \"\"\"\n",
    "<dl>\n",
    "<dt>Name</dt><dd>{Hotel Name}</dd>\n",
    "<dt>City</dt><dd>{City}</dd>\n",
    "<dt>Country</dt><dd>{Country}</dd>\n",
    "</dl>\n",
    "\"\"\"\n",
    "# Store the DataFrame Row\n",
    "# NOTE: be sure to update with your DataFrame name\n",
    "hotel_info = [info_box_template.format(**row) for index, row in hotel_df.iterrows()]\n",
    "x_locations = hotel_df[[\"Latitude\", \"Longitude\"]]\n",
    "\n",
    "hotel_df[\"Hotel Name\"]=hotel_info\n",
    "\n",
    "hotel_df.head()"
   ]
  },
  {
   "cell_type": "code",
   "execution_count": 183,
   "metadata": {},
   "outputs": [],
   "source": [
    "# marks=gmaps.marker_layer(x_locations)"
   ]
  },
  {
   "cell_type": "code",
   "execution_count": 184,
   "metadata": {},
   "outputs": [],
   "source": [
    "# # NOTE: Do not change any of the code in this cell\n",
    "\n",
    "# # Using the template add the hotel marks to the heatmap\n",
    "# info_box_template = \"\"\"\n",
    "# <dl>\n",
    "# <dt>Name</dt><dd>{Hotel Name}</dd>\n",
    "# <dt>City</dt><dd>{City}</dd>\n",
    "# <dt>Country</dt><dd>{Country}</dd>\n",
    "# </dl>\n",
    "# \"\"\"\n",
    "# # Store the DataFrame Row\n",
    "# # NOTE: be sure to update with your DataFrame name\n",
    "# hotel_info = [info_box_template.format(**row) for index, row in hotel_df.iterrows()]\n",
    "# locations = hotel_df[[\"Lat\", \"Lng\"]]"
   ]
  },
  {
   "cell_type": "code",
   "execution_count": 185,
   "metadata": {},
   "outputs": [],
   "source": [
    "# Add marker layer ontop of heat map\n",
    "\n",
    "\n",
    "# Display figure\n"
   ]
  },
  {
   "cell_type": "code",
   "execution_count": null,
   "metadata": {},
   "outputs": [],
   "source": []
  }
 ],
 "metadata": {
  "kernelspec": {
   "name": "Python 3.6.10 64-bit ('PythonData': conda)",
   "display_name": "Python 3.6.10 64-bit ('PythonData': conda)",
   "metadata": {
    "interpreter": {
     "hash": "7e7c916c673641125590bd307b68bb4342787996dc085909d7e5c72ee4d13010"
    }
   }
  },
  "language_info": {
   "codemirror_mode": {
    "name": "ipython",
    "version": 3
   },
   "file_extension": ".py",
   "mimetype": "text/x-python",
   "name": "python",
   "nbconvert_exporter": "python",
   "pygments_lexer": "ipython3",
   "version": "3.6.10-final"
  },
  "latex_envs": {
   "LaTeX_envs_menu_present": true,
   "autoclose": false,
   "autocomplete": true,
   "bibliofile": "biblio.bib",
   "cite_by": "apalike",
   "current_citInitial": 1,
   "eqLabelWithNumbers": true,
   "eqNumInitial": 1,
   "hotkeys": {
    "equation": "Ctrl-E",
    "itemize": "Ctrl-I"
   },
   "labels_anchors": false,
   "latex_user_defs": false,
   "report_style_numbering": false,
   "user_envs_cfg": false
  }
 },
 "nbformat": 4,
 "nbformat_minor": 4
}